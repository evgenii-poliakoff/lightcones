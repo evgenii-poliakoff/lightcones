{
 "cells": [
  {
   "cell_type": "code",
   "execution_count": null,
   "id": "4cfe98a8",
   "metadata": {},
   "outputs": [],
   "source": [
    "import os\n",
    "import sys\n",
    "\n",
    "src_dir = os.path.abspath(\"../src\")\n",
    "if src_dir not in sys.path:\n",
    "    sys.path.append(src_dir)"
   ]
  },
  {
   "cell_type": "code",
   "execution_count": 16,
   "id": "65e27854-fba3-4c0c-87e4-a31372edb21d",
   "metadata": {},
   "outputs": [],
   "source": [
    "# import the needed packages\n",
    "import matplotlib.pyplot as plt\n",
    "import numpy as np\n",
    "import tools\n",
    "import importlib\n",
    "importlib.reload(tools)\n",
    "\n",
    "import solver\n",
    "import importlib\n",
    "importlib.reload(solver)\n",
    "\n",
    "from evolution_chained2_kicked import evolution_chained2_kicked\n",
    "from tools import mv"
   ]
  },
  {
   "cell_type": "code",
   "execution_count": 17,
   "id": "ab2d39c9-6d80-44c2-ac41-2bc6c93b4cc6",
   "metadata": {},
   "outputs": [],
   "source": [
    "# create bath\n",
    "\n",
    "# chain size\n",
    "ns = 30\n",
    "# on-site energies\n",
    "e = [1.0]*ns\n",
    "# hoppings between sites\n",
    "h = [0.05]*(ns-1)"
   ]
  },
  {
   "cell_type": "code",
   "execution_count": 18,
   "id": "5ca258e3-68ac-487f-a3b8-5f88586e0308",
   "metadata": {},
   "outputs": [
    {
     "data": {
      "text/plain": [
       "10"
      ]
     },
     "execution_count": 18,
     "metadata": {},
     "output_type": "execute_result"
    }
   ],
   "source": [
    "# discretize the bath: apply the lightcone method\n",
    "bth = solver.bath.from_chain(chain = (e, h), rel_tol = 10**(-9), ring_size = 6, t_max = 100, visualize = True)\n",
    "bth.n_rel"
   ]
  },
  {
   "cell_type": "code",
   "execution_count": 19,
   "id": "73ff0f7a-e990-478d-b4e8-84641a76900a",
   "metadata": {},
   "outputs": [],
   "source": [
    "num_modes = 30\n",
    "max_num_quanta = 4\n",
    "m = tools.spin_boson_model(num_modes, max_num_quanta)\n",
    "\n",
    "wq = 1.0\n",
    "Hs = wq * m.s_p @ m.s_m\n",
    "g = 0.1\n",
    "V = g * m.s_m\n",
    "V_dag = g * m.s_p\n",
    "\n",
    "def f(ti):\n",
    "    return(0.1*np.cos((ti + 0.5)*bth.dt))\n",
    "\n",
    "psi = np.zeros(m.dimension, dtype = complex)\n",
    "psi_mid = np.zeros(m.dimension, dtype = complex)\n",
    "psi_mid_next = np.zeros(m.dimension, dtype = complex)\n",
    "psi_buff = np.zeros(m.dimension, dtype = complex)\n",
    "\n",
    "psi_ini = np.zeros(m.dimension, dtype = complex)\n",
    "psi_ini[0] = 1\n",
    "psi_begin = np.copy(psi_ini)\n",
    "\n",
    "Ht = None\n",
    "\n",
    "sz_av = []\n",
    "\n",
    "def begin_step(ti, psi):\n",
    "    m_in = bth.m_in(ti)\n",
    "    m_out = bth.m_out(ti)\n",
    "    Hint = V_dag @ sum(bth.couplings_cdia[:, ti] * m.a[:])\n",
    "    Hint = Hint + Hint.conj().transpose()\n",
    "    Hw = m.zero_op.copy()\n",
    "    w = bth.w_cdia(ti)\n",
    "    if not w is None:\n",
    "        for p in range(m_out, m_in):\n",
    "            for q in range(m_out, m_in):\n",
    "                Hw += 1j * m.a_dag[q] @ m.a[p] * w[q - m_out, p - m_out].conj()\n",
    "    global Ht\n",
    "    Ht = Hs + m.s_x * f(ti) + Hint + Hw\n",
    "    \n",
    "def apply_H(ti, psi_in, psi_out):\n",
    "    mv(Ht, psi_in, psi_out)\n",
    "\n",
    "def eval_o(ti, psi):\n",
    "    sz_av.append(np.vdot(psi, m.s_p @ m.s_m @ psi))\n",
    "\n",
    "first_in_chain = 1\n",
    "evolution_chained2_kicked(0, bth.nt-2, bth.dt, begin_step, apply_H, eval_o, psi_begin, psi, psi_mid, psi_mid_next, first_in_chain)\n",
    "psi_cd_full = np.copy(psi) / np.sqrt(np.vdot(psi, psi))"
   ]
  },
  {
   "cell_type": "code",
   "execution_count": 20,
   "id": "694acf12-27a9-4ce0-bab6-958b4ac6159a",
   "metadata": {},
   "outputs": [],
   "source": [
    "Nq = sum([m.a_dag[i] @ m.a[i] for i in range(20)])"
   ]
  },
  {
   "cell_type": "code",
   "execution_count": 21,
   "id": "f539675e-53c7-49e1-bf70-5b4894148fd0",
   "metadata": {},
   "outputs": [
    {
     "data": {
      "text/plain": [
       "(2.254662594822959+0j)"
      ]
     },
     "execution_count": 21,
     "metadata": {},
     "output_type": "execute_result"
    }
   ],
   "source": [
    "np.vdot(psi_cd_full, Nq @ psi_cd_full)"
   ]
  },
  {
   "cell_type": "code",
   "execution_count": 11,
   "id": "e447e25b-0581-43c9-acfd-487e41b899a2",
   "metadata": {},
   "outputs": [
    {
     "data": {
      "text/plain": [
       "(2.254658244612255+3.469446951953614e-18j)"
      ]
     },
     "execution_count": 11,
     "metadata": {},
     "output_type": "execute_result"
    }
   ],
   "source": [
    "np.vdot(psi_cd_full, Nq @ psi_cd_full)"
   ]
  },
  {
   "cell_type": "code",
   "execution_count": 22,
   "id": "05bdf6f6-0ace-4e3b-b83a-cfb02954630f",
   "metadata": {},
   "outputs": [],
   "source": [
    "from evolution_chained2_kicked import evolution_chained2_kicked\n",
    "from tools import mv\n",
    "\n",
    "num_modes = 30\n",
    "max_num_quanta = 4\n",
    "m = tools.spin_boson_model(num_modes, max_num_quanta)\n",
    "\n",
    "wq = 1.0\n",
    "Hs = wq * m.s_p @ m.s_m\n",
    "g = 0.1\n",
    "V = g * m.s_m\n",
    "V_dag = g * m.s_p\n",
    "\n",
    "def f(ti):\n",
    "    return(0.1*np.cos((ti + 0.5)*bth.dt))\n",
    "\n",
    "psi = np.zeros(m.dimension, dtype = complex)\n",
    "psi_mid = np.zeros(m.dimension, dtype = complex)\n",
    "psi_mid_next = np.zeros(m.dimension, dtype = complex)\n",
    "psi_buff = np.zeros(m.dimension, dtype = complex)\n",
    "\n",
    "psi_ini = np.zeros(m.dimension, dtype = complex)\n",
    "psi_ini[0] = 1\n",
    "psi_begin = np.copy(psi_ini)\n",
    "\n",
    "Ht = None\n",
    "\n",
    "sz_av_1 = []\n",
    "\n",
    "def begin_step(ti, psi):\n",
    "    m_in = bth.m_in(ti)\n",
    "    m_out = bth.m_out(ti)\n",
    "    Hint = V_dag @ sum(bth.couplings_cdia[m_out : m_in, ti] * m.a[m_out : m_in])\n",
    "    Hint = Hint + Hint.conj().transpose()\n",
    "    Hw = m.zero_op.copy()\n",
    "    w = bth.w_cdia(ti)\n",
    "    if not w is None:\n",
    "        for p in range(m_out, m_in):\n",
    "            for q in range(m_out, m_in):\n",
    "                Hw += 1j * m.a_dag[q] @ m.a[p] * w[q - m_out, p - m_out].conj()\n",
    "    global Ht\n",
    "    Ht = Hs + m.s_x * f(ti) + Hint + Hw\n",
    "    \n",
    "def apply_H(ti, psi_in, psi_out):\n",
    "    mv(Ht, psi_in, psi_out)\n",
    "\n",
    "def eval_o(ti, psi):\n",
    "    sz_av_1.append(np.vdot(psi, m.s_p @ m.s_m @ psi))\n",
    "    #pass\n",
    "\n",
    "first_in_chain = 1\n",
    "evolution_chained2_kicked(0, bth.nt-2, bth.dt, begin_step, apply_H, eval_o, psi_begin, psi, psi_mid, psi_mid_next, first_in_chain)\n",
    "psi_cd = np.copy(psi) / np.sqrt(np.vdot(psi, psi))"
   ]
  },
  {
   "cell_type": "code",
   "execution_count": 23,
   "id": "1e6b41df-5b21-45fc-aefc-fc18eaa33a35",
   "metadata": {},
   "outputs": [
    {
     "data": {
      "text/plain": [
       "(2.2547150397685436+8.673617379884035e-18j)"
      ]
     },
     "execution_count": 23,
     "metadata": {},
     "output_type": "execute_result"
    }
   ],
   "source": [
    "np.vdot(psi_cd, Nq @ psi_cd)"
   ]
  },
  {
   "cell_type": "code",
   "execution_count": 24,
   "id": "f2cd43ac-5ca1-44a5-8dfb-e9553b5edd64",
   "metadata": {},
   "outputs": [
    {
     "data": {
      "text/plain": [
       "3.8397330015538245e-07"
      ]
     },
     "execution_count": 24,
     "metadata": {},
     "output_type": "execute_result"
    }
   ],
   "source": [
    "f = 1 - np.abs(np.vdot(psi_cd, psi_cd_full))\n",
    "f"
   ]
  },
  {
   "cell_type": "code",
   "execution_count": null,
   "id": "3919bf8d-abd1-484e-9bac-40ba155a9a30",
   "metadata": {},
   "outputs": [],
   "source": []
  }
 ],
 "metadata": {
  "kernelspec": {
   "display_name": "Python 3 (ipykernel)",
   "language": "python",
   "name": "python3"
  },
  "language_info": {
   "codemirror_mode": {
    "name": "ipython",
    "version": 3
   },
   "file_extension": ".py",
   "mimetype": "text/x-python",
   "name": "python",
   "nbconvert_exporter": "python",
   "pygments_lexer": "ipython3",
   "version": "3.10.12"
  }
 },
 "nbformat": 4,
 "nbformat_minor": 5
}
