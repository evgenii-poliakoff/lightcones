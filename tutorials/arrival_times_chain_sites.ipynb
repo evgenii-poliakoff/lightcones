{
 "cells": [
  {
   "cell_type": "markdown",
   "metadata": {},
   "source": [
    "For the degree of freedom $\\kappa$, define the arrival time as \n",
    "\n",
    "$t_{in}\\left(\\kappa\\right)=\\int_{0}^{T}d\\tau\\theta\\left(-g_{+}\\left(\\kappa,\\tau\\right)\\right)$,\n",
    "\n",
    "where the Lieb-Robinson metric is defined as\n",
    "\n",
    "$g_{+}\\left(\\kappa,t\\right)=\\left\\langle \\kappa\\right|\\widehat{\\rho}_{+}\\left(t\\right)\\left|\\kappa\\right\\rangle -a_{cut}$,\n",
    "\n",
    "and the forward light cone density matrix is\n",
    "\n",
    "$\\widehat{\\rho}_{+}\\left(t\\right)=\\intop_{0}^{t}d\\tau\\left|\\alpha\\left(\\tau\\right)\\right\\rangle \\left\\langle \\alpha\\left(\\tau\\right)\\right|$\n",
    "\n",
    "Below we compute the arrival times for the chain sites. We begin with computing the forward light cone density matrix."
   ]
  },
  {
   "cell_type": "code",
   "execution_count": 12,
   "metadata": {},
   "outputs": [],
   "source": [
    "# import the required packages\n",
    "\n",
    "import numpy as np\n",
    "import lightcones.linalg as la\n",
    "from lightcones import models\n",
    "from lightcones.solvers.schrodinger import solve\n",
    "import matplotlib.pyplot as plt\n",
    "plt.rcParams['text.usetex'] = True"
   ]
  },
  {
   "cell_type": "code",
   "execution_count": 13,
   "metadata": {},
   "outputs": [],
   "source": [
    "# Treshold for the arrival of chain sites\n",
    "a_cut = 10**(-5)"
   ]
  },
  {
   "cell_type": "code",
   "execution_count": 14,
   "metadata": {},
   "outputs": [],
   "source": [
    "# compute the spread\n",
    "\n",
    "n_sites = 20\n",
    "# on-site energies\n",
    "es = [1]*n_sites\n",
    "# hoppings\n",
    "hs = [0.05]*(n_sites-1)\n",
    "H = la.tridiag(es, hs)\n",
    "\n",
    "tmax = 100\n",
    "dt = 0.01\n",
    "t = np.arange(start = 0, stop = tmax, step = dt)\n",
    "nt = t.size\n",
    "\n",
    "phi_0 = np.zeros(n_sites, dtype = complex)\n",
    "phi_0[0] = 1 # initially quantum is on the site 0\n",
    "\n",
    "phi_lc = np.zeros((n_sites, nt), dtype = np.cdouble) # Here we store the propagated orbitals\n",
    "\n",
    "def apply_h(ti, phi_in, phi_out):\n",
    "    la.mv(H, phi_in, phi_out, cout=1)\n",
    "\n",
    "def eval_o(ti, phi):\n",
    "    phi_lc[:, ti] = phi\n",
    "    \n",
    "solve(0, nt-1, dt, apply_h, phi_0, eval_o = eval_o)"
   ]
  },
  {
   "cell_type": "markdown",
   "metadata": {},
   "source": [
    "Now propagate $\\widehat{\\rho}_{+}\\left(t\\right)$ forward in time, and at the same time check the condition $g_{+}\\left(\\kappa,t\\right)>0$ for the current chain site:"
   ]
  },
  {
   "cell_type": "code",
   "execution_count": 15,
   "metadata": {},
   "outputs": [],
   "source": [
    "ti_arrival = [0]*n_sites\n",
    "\n",
    "rho_lc = np.zeros((n_sites, n_sites), dtype = np.cdouble)\n",
    "\n",
    "for i in range(nt):\n",
    "    psi = la.as_column_vector(phi_lc[:, i])\n",
    "    rho_lc += la.dyad(psi, psi) * dt\n",
    "\n",
    "    for j in range(n_sites):\n",
    "        g_metric = rho_lc[j, j] - a_cut\n",
    "        inside_lightcone = g_metric > 0\n",
    "        if not inside_lightcone:\n",
    "            ti_arrival[j] += 1\n",
    "\n",
    "t_arrival = np.array(ti_arrival) * dt"
   ]
  },
  {
   "cell_type": "code",
   "execution_count": 17,
   "metadata": {},
   "outputs": [
    {
     "name": "stdout",
     "output_type": "stream",
     "text": [
      "[  0.     0.23   2.     5.56  10.4   16.11  22.43  29.19  36.29  43.66\n",
      "  51.25  59.02  66.93  74.98  83.13  91.39  99.73 100.   100.   100.  ]\n"
     ]
    }
   ],
   "source": [
    "print(t_arrival)"
   ]
  },
  {
   "cell_type": "code",
   "execution_count": 22,
   "metadata": {},
   "outputs": [
    {
     "data": {
      "text/plain": [
       "Text(0, 0.5, '$m_{+}\\\\left(t\\\\right)$')"
      ]
     },
     "execution_count": 22,
     "metadata": {},
     "output_type": "execute_result"
    },
    {
     "data": {
      "image/png": "[encoded data removed]",
      "text/plain": [
       "<Figure size 640x480 with 1 Axes>"
      ]
     },
     "metadata": {},
     "output_type": "display_data"
    }
   ],
   "source": [
    "# Here we compute the \"staircase\" function of the number of arrived modes:\n",
    "\n",
    "staircase = np.zeros(nt)\n",
    "for i in range(len(t_arrival)):\n",
    "    staircase[ti_arrival[i]:] += 1\n",
    "    \n",
    "# plot it \n",
    "\n",
    "plt.plot(t, staircase)\n",
    "plt.xlabel(r\"time $t$\")\n",
    "plt.ylabel(r\"$m_{+}\\left(t\\right)$\")"
   ]
  },
  {
   "cell_type": "markdown",
   "metadata": {},
   "source": [
    "The arrival times are defined for arbitrary rotated basis:\n",
    "\n",
    "$\\widehat{\\kappa}_{p}^{\\dagger}=\\sum_{q=0}^{\\infty}\\widehat{a}_{q}^{\\dagger}U_{qp}$.\n",
    "\n",
    "For the mode $\\widehat{\\kappa}_{p}^{\\dagger}$, the corresponding arrival time is\n",
    "$t_{in}\\left(\\kappa\\right)=\\int_{0}^{T}d\\tau\\theta\\left(-g_{+}\\left(\\kappa,\\tau\\right)\\right)$.\n",
    "\n",
    "Therefore, we can consider the sequence of arrival times as a function of $U_{qp}$.\n",
    "\n",
    "In particular, the rate at which the modes arrive is also a function of $U_{qp}$. \n",
    "\n",
    "Let us consider as an example the frame of normal modes of the chain: \n",
    "\n",
    "$H\\left|\\kappa_{p}\\right\\rangle =\\varepsilon_{p}\\left|\\kappa_{p}\\right\\rangle$,\n",
    "\n",
    "where\n",
    "\n",
    "$\n",
    "   H = \\left[\\begin{array}{cccc}\n",
    "\\varepsilon & h & 0 & \\dots\\\\\n",
    "h & \\varepsilon & h & \\dots\\\\\n",
    "0 & h & \\varepsilon & \\dots\\\\\n",
    "\\vdots &  & \\vdots & \\ddots\n",
    "\\end{array}\\right]\n",
    "$ "
   ]
  },
  {
   "cell_type": "code",
   "execution_count": 23,
   "metadata": {},
   "outputs": [],
   "source": [
    "# find normal modes\n",
    "H_ = H.todense()\n",
    "e_p, kappa_p = la.find_largest_eigs(H_)"
   ]
  },
  {
   "cell_type": "markdown",
   "metadata": {},
   "source": [
    "Now again propagate $\\widehat{\\rho}_{+}\\left(t\\right)$ forward in time, and at the same time check the condition $g_{+}\\left(\\kappa,t\\right)>0$ for the normal modes $\\kappa_p$:"
   ]
  },
  {
   "cell_type": "code",
   "execution_count": 26,
   "metadata": {},
   "outputs": [],
   "source": [
    "ti_arrival_2 = [0]*n_sites\n",
    "\n",
    "rho_lc = np.zeros((n_sites, n_sites), dtype = np.cdouble)\n",
    "\n",
    "for i in range(nt):\n",
    "    psi = la.as_column_vector(phi_lc[:, i])\n",
    "    rho_lc += la.dyad(psi, psi) * dt\n",
    "\n",
    "    for j in range(n_sites):\n",
    "        g_metric = np.vdot(kappa_p[:, j], rho_lc @ kappa_p[:, j]) - a_cut\n",
    "        inside_lightcone = g_metric > 0\n",
    "        if not inside_lightcone:\n",
    "            ti_arrival_2[j] += 1\n",
    "\n",
    "t_arrival_2 = np.array(ti_arrival_2) * dt"
   ]
  },
  {
   "cell_type": "code",
   "execution_count": 27,
   "metadata": {},
   "outputs": [
    {
     "name": "stdout",
     "output_type": "stream",
     "text": [
      "[0. 0. 0. 0. 0. 0. 0. 0. 0. 0. 0. 0. 0. 0. 0. 0. 0. 0. 0. 0.]\n"
     ]
    }
   ],
   "source": [
    "print(t_arrival_2)"
   ]
  },
  {
   "cell_type": "markdown",
   "metadata": {},
   "source": [
    "We see that all the normal modes arrive inside the light cone already at $t=0$! \n",
    "This demonstrates that the rate at which the modes arrive inside the light cone depends dramatically on $U_{qp}$."
   ]
  }
 ],
 "metadata": {
  "kernelspec": {
   "display_name": "base",
   "language": "python",
   "name": "python3"
  },
  "language_info": {
   "codemirror_mode": {
    "name": "ipython",
    "version": 3
   },
   "file_extension": ".py",
   "mimetype": "text/x-python",
   "name": "python",
   "nbconvert_exporter": "python",
   "pygments_lexer": "ipython3",
   "version": "3.11.5"
  }
 },
 "nbformat": 4,
 "nbformat_minor": 2
}
