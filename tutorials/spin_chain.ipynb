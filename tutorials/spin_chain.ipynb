{
 "cells": [
  {
   "cell_type": "code",
   "execution_count": 1,
   "metadata": {},
   "outputs": [],
   "source": [
    "# import the required packages\n",
    "\n",
    "import numpy as np\n",
    "import math\n",
    "import lightcones.linalg as la\n",
    "from lightcones.linalg import mv\n",
    "from lightcones import models\n",
    "from lightcones.solvers.schrodinger import solve\n",
    "import matplotlib.pyplot as plt\n",
    "from scipy.sparse.linalg import expm\n",
    "plt.rcParams['text.usetex'] = True"
   ]
  },
  {
   "cell_type": "code",
   "execution_count": 2,
   "metadata": {},
   "outputs": [],
   "source": [
    "# define Hilbert space for spin chain\n",
    "\n",
    "# length of chain\n",
    "length = 2\n",
    "\n",
    "# where to truncate the spin chain Hilbert space\n",
    "max_num_flips = 2\n",
    "\n",
    "# the truncated Hilbert space\n",
    "m = models.spin_chain(length, max_num_flips)\n",
    "\n",
    "# operators\n",
    "s_x = m.s_x\n",
    "s_y = m.s_y\n",
    "s_z = m.s_z"
   ]
  },
  {
   "cell_type": "code",
   "execution_count": 3,
   "metadata": {},
   "outputs": [],
   "source": [
    "# Ising Hamiltonian\n",
    "\n",
    "# transverse field\n",
    "h = 0.0\n",
    "\n",
    "H_ising = sum([h * s_z[i] for i in range(length)]) \\\n",
    "    + sum([s_x[i] @ s_x[i + 1] for i in range(length - 1)])"
   ]
  },
  {
   "cell_type": "code",
   "execution_count": 4,
   "metadata": {},
   "outputs": [
    {
     "data": {
      "text/plain": [
       "array([-1., -1.,  1.,  1.])"
      ]
     },
     "execution_count": 4,
     "metadata": {},
     "output_type": "execute_result"
    }
   ],
   "source": [
    "# find ground state\n",
    "\n",
    "[eigs, eigvecs] = la.find_eigs_ascending(H_ising.todense())\n",
    "\n",
    "# output eigenenergies\n",
    "eigs"
   ]
  },
  {
   "cell_type": "code",
   "execution_count": 5,
   "metadata": {},
   "outputs": [],
   "source": [
    "# we observe double degeneracy of the ground state\n",
    "# here they are\n",
    "\n",
    "ground_1 = eigvecs[:, 0]\n",
    "ground_2 = eigvecs[:, 1]"
   ]
  },
  {
   "cell_type": "code",
   "execution_count": 6,
   "metadata": {},
   "outputs": [
    {
     "name": "stdout",
     "output_type": "stream",
     "text": [
      "[0j, 0j]\n",
      "[0j, 0j]\n"
     ]
    }
   ],
   "source": [
    "# let us compute observables:\n",
    "\n",
    "# for ground_1\n",
    "s_x_av_1 = []\n",
    "for i in range(2):\n",
    "    s_x_av_1.append(np.vdot(ground_1, s_x[i] @ ground_1))\n",
    "# for ground 2\n",
    "s_x_av_2 = []\n",
    "for i in range(2):\n",
    "    s_x_av_2.append(np.vdot(ground_2, s_x[i] @ ground_2))\n",
    "\n",
    "# output them\n",
    "print(s_x_av_1)\n",
    "print(s_x_av_2)"
   ]
  },
  {
   "cell_type": "code",
   "execution_count": 7,
   "metadata": {},
   "outputs": [
    {
     "name": "stdout",
     "output_type": "stream",
     "text": [
      "(-1.0000000000000002+0j)\n",
      "(-1.0000000000000002+0j)\n"
     ]
    }
   ],
   "source": [
    "# The correlator:\n",
    "    \n",
    "print(np.vdot(ground_1, s_x[0] @ s_x[1] @ ground_1))\n",
    "print(np.vdot(ground_2, s_x[0] @ s_x[1] @ ground_2))"
   ]
  },
  {
   "cell_type": "code",
   "execution_count": 8,
   "metadata": {},
   "outputs": [],
   "source": [
    "# looks like antiferromagnetic order"
   ]
  },
  {
   "cell_type": "code",
   "execution_count": 9,
   "metadata": {},
   "outputs": [
    {
     "name": "stdout",
     "output_type": "stream",
     "text": [
      "[(-3.3306690738754696e-16+0j), (-3.3306690738754696e-16+0j)]\n",
      "[(3.3306690738754696e-16+0j), (-3.3306690738754696e-16+0j)]\n"
     ]
    }
   ],
   "source": [
    "# other observables\n",
    "\n",
    "# for ground_1\n",
    "s_z_av_1 = []\n",
    "for i in range(2):\n",
    "    s_z_av_1.append(np.vdot(ground_1, s_z[i] @ ground_1))\n",
    "# for ground 2\n",
    "s_z_av_2 = []\n",
    "for i in range(2):\n",
    "    s_z_av_2.append(np.vdot(ground_2, s_z[i] @ ground_2))\n",
    "    \n",
    "# output them\n",
    "print(s_z_av_1)\n",
    "print(s_z_av_2)"
   ]
  },
  {
   "cell_type": "code",
   "execution_count": 10,
   "metadata": {},
   "outputs": [
    {
     "name": "stdout",
     "output_type": "stream",
     "text": [
      "[0j, 0j]\n",
      "[0j, 0j]\n"
     ]
    }
   ],
   "source": [
    "# for ground_1\n",
    "s_y_av_1 = []\n",
    "for i in range(2):\n",
    "    s_y_av_1.append(np.vdot(ground_1, s_y[i] @ ground_1))\n",
    "# for ground 2\n",
    "s_y_av_2 = []\n",
    "for i in range(2):\n",
    "    s_y_av_2.append(np.vdot(ground_2, s_y[i] @ ground_2))\n",
    "    \n",
    "# output them\n",
    "print(s_y_av_1)\n",
    "print(s_y_av_2)"
   ]
  },
  {
   "cell_type": "code",
   "execution_count": 21,
   "metadata": {},
   "outputs": [
    {
     "name": "stdout",
     "output_type": "stream",
     "text": [
      "(1+0j) 0j\n",
      "0j (1+0j)\n"
     ]
    }
   ],
   "source": [
    "# may be the difference in the  combination\n",
    "# up * up - down * down\n",
    "# up * down - down * up\n",
    "\n",
    "uu = m.outer(1, 1, 0) @ m.outer(1, 1, 1)\n",
    "dd = m.outer(0, 0, 0) @ m.outer(0, 0, 1)\n",
    "\n",
    "ud = m.outer(1, 1, 0) @ m.outer(0, 0, 1)\n",
    "du = m.outer(0, 0, 0) @ m.outer(1, 1, 1)\n",
    "\n",
    "# computer the amplitudes\n",
    "\n",
    "uu_dd_1 = np.vdot(ground_1, (uu + dd) @ ground_1)\n",
    "ud_du_1 = np.vdot(ground_1, (ud + du) @ ground_1)\n",
    "print(uu_dd_1 , ud_du_1)\n",
    "\n",
    "uu_dd_2 = np.vdot(ground_2, (uu + dd) @ ground_2)\n",
    "ud_du_2 = np.vdot(ground_2, (ud + du) @ ground_2)\n",
    "print(uu_dd_2 , ud_du_2)"
   ]
  }
 ],
 "metadata": {
  "kernelspec": {
   "display_name": "base",
   "language": "python",
   "name": "python3"
  },
  "language_info": {
   "codemirror_mode": {
    "name": "ipython",
    "version": 3
   },
   "file_extension": ".py",
   "mimetype": "text/x-python",
   "name": "python",
   "nbconvert_exporter": "python",
   "pygments_lexer": "ipython3",
   "version": "3.11.5"
  }
 },
 "nbformat": 4,
 "nbformat_minor": 2
}
