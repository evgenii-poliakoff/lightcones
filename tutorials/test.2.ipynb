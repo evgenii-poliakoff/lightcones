{
 "cells": [
  {
   "cell_type": "code",
   "execution_count": 10,
   "metadata": {},
   "outputs": [],
   "source": [
    "import numpy as np\n",
    "import lightcones.linalg as ll\n",
    "import lightcones.models as lm\n",
    "import lightcones.space as sp\n",
    "import math\n",
    "np.set_printoptions(precision=11)"
   ]
  },
  {
   "cell_type": "code",
   "execution_count": 17,
   "metadata": {},
   "outputs": [
    {
     "data": {
      "text/plain": [
       "array([0.65142135624, 0.34857864376, 0.           , 0.           ,\n",
       "       0.           , 0.           , 0.           , 0.           ,\n",
       "       0.           , 0.           , 0.           , 0.           ,\n",
       "       0.           , 0.           , 0.           , 0.           ])"
      ]
     },
     "execution_count": 17,
     "metadata": {},
     "output_type": "execute_result"
    }
   ],
   "source": [
    "l = lm.spinfull_fermions(2)\n",
    "r = lm.spinfull_fermions(3)\n",
    "bp = sp.bipartite(l.dimension, r.dimension)\n",
    "\n",
    "A = 1 / math.sqrt(2) + 0.1\n",
    "B = math.sqrt(1 - A**2)\n",
    "\n",
    "psi = A * bp.kron(l.a_dag[0][0] @ l.vac(), r.a_dag[0][0] @ r.vac()) + \\\n",
    "    B * bp.kron(l.a_dag[1][0] @ l.vac(), r.a_dag[1][0] @ r.vac())\n",
    "    \n",
    "rho = bp.trace_out_R(psi)\n",
    "\n",
    "pi, phi = ll.find_eigs_descending(rho)\n",
    "\n",
    "pi\n",
    "\n",
    "    "
   ]
  },
  {
   "cell_type": "code",
   "execution_count": 24,
   "metadata": {},
   "outputs": [
    {
     "data": {
      "text/plain": [
       "16"
      ]
     },
     "execution_count": 24,
     "metadata": {},
     "output_type": "execute_result"
    }
   ],
   "source": [
    "len(pi)"
   ]
  },
  {
   "cell_type": "code",
   "execution_count": 19,
   "metadata": {},
   "outputs": [
    {
     "data": {
      "text/plain": [
       "0.6514213562373093"
      ]
     },
     "execution_count": 19,
     "metadata": {},
     "output_type": "execute_result"
    }
   ],
   "source": [
    "A**2"
   ]
  },
  {
   "cell_type": "code",
   "execution_count": 20,
   "metadata": {},
   "outputs": [
    {
     "data": {
      "text/plain": [
       "0.34857864376269065"
      ]
     },
     "execution_count": 20,
     "metadata": {},
     "output_type": "execute_result"
    }
   ],
   "source": [
    "B**2"
   ]
  },
  {
   "cell_type": "code",
   "execution_count": 21,
   "metadata": {},
   "outputs": [
    {
     "data": {
      "text/plain": [
       "array([1.+0.j, 0.+0.j, 0.+0.j, 0.+0.j, 0.+0.j, 0.+0.j, 0.+0.j, 0.+0.j,\n",
       "       0.+0.j, 0.+0.j, 0.+0.j, 0.+0.j, 0.+0.j, 0.+0.j, 0.+0.j, 0.+0.j])"
      ]
     },
     "execution_count": 21,
     "metadata": {},
     "output_type": "execute_result"
    }
   ],
   "source": [
    "l.a[0][0] @ phi[:, 0]"
   ]
  },
  {
   "cell_type": "code",
   "execution_count": 22,
   "metadata": {},
   "outputs": [
    {
     "data": {
      "text/plain": [
       "array([1.+0.j, 0.+0.j, 0.+0.j, 0.+0.j, 0.+0.j, 0.+0.j, 0.+0.j, 0.+0.j,\n",
       "       0.+0.j, 0.+0.j, 0.+0.j, 0.+0.j, 0.+0.j, 0.+0.j, 0.+0.j, 0.+0.j])"
      ]
     },
     "execution_count": 22,
     "metadata": {},
     "output_type": "execute_result"
    }
   ],
   "source": [
    "l.a[1][0] @ phi[:, 1]"
   ]
  },
  {
   "cell_type": "code",
   "execution_count": 23,
   "metadata": {},
   "outputs": [
    {
     "data": {
      "text/plain": [
       "array([0.+0.j, 0.+0.j, 0.+0.j, 0.+0.j, 0.+0.j, 0.+0.j, 0.+0.j, 0.+0.j,\n",
       "       0.+0.j, 0.+0.j, 0.+0.j, 0.+0.j, 0.+0.j, 0.+0.j, 0.+0.j, 0.+0.j])"
      ]
     },
     "execution_count": 23,
     "metadata": {},
     "output_type": "execute_result"
    }
   ],
   "source": [
    "l.a[0][1] @ phi[:, 1]"
   ]
  },
  {
   "cell_type": "code",
   "execution_count": 2,
   "metadata": {},
   "outputs": [],
   "source": [
    "f = lm.spinfull_fermions(5)"
   ]
  },
  {
   "cell_type": "code",
   "execution_count": 3,
   "metadata": {},
   "outputs": [],
   "source": [
    "U = 1\n",
    "t = 0.05"
   ]
  },
  {
   "cell_type": "code",
   "execution_count": 4,
   "metadata": {},
   "outputs": [],
   "source": [
    "H_hopp = sum([sum([- t * (f.a_dag[s][i] @ f.a[s][i - 1] + f.a_dag[s][i - 1] @ f.a[s][i]) for s in range(2)]) for i in range(5)])\n",
    "H_S = H_hopp + sum([U * f.n[0][i] @ f.n[1][i] for i in range(5)])"
   ]
  },
  {
   "cell_type": "code",
   "execution_count": 5,
   "metadata": {},
   "outputs": [],
   "source": [
    "H_S_ = H_S.todense()"
   ]
  },
  {
   "cell_type": "code",
   "execution_count": 6,
   "metadata": {},
   "outputs": [],
   "source": [
    "e, v = ll.find_smallest_eigs(H_S_, 1)"
   ]
  },
  {
   "cell_type": "code",
   "execution_count": 7,
   "metadata": {},
   "outputs": [
    {
     "data": {
      "text/plain": [
       "array([-0.16681274756])"
      ]
     },
     "execution_count": 7,
     "metadata": {},
     "output_type": "execute_result"
    }
   ],
   "source": [
    "e"
   ]
  },
  {
   "cell_type": "code",
   "execution_count": null,
   "metadata": {},
   "outputs": [],
   "source": []
  },
  {
   "cell_type": "code",
   "execution_count": 8,
   "metadata": {},
   "outputs": [],
   "source": [
    "psi0 = np.zeros(f.dimension, dtype = complex)\n",
    "psi0[0] = 1.0\n",
    "psi0 = f.a_dag[0][3] @ f.a_dag[1][3] @ psi0\n",
    "\n",
    "e2, v2 = ll.lancz_gnd_state(psi0, H_S, 10)"
   ]
  },
  {
   "cell_type": "code",
   "execution_count": 10,
   "metadata": {},
   "outputs": [],
   "source": [
    "v3 = ll.lancz_recursion(psi0, H_S, 10)"
   ]
  },
  {
   "cell_type": "code",
   "execution_count": 11,
   "metadata": {},
   "outputs": [
    {
     "data": {
      "text/plain": [
       "<Compressed Sparse Column sparse matrix of dtype 'float64'\n",
       "\twith 24 stored elements and shape (9, 9)>"
      ]
     },
     "execution_count": 11,
     "metadata": {},
     "output_type": "execute_result"
    }
   ],
   "source": [
    "v3"
   ]
  },
  {
   "cell_type": "code",
   "execution_count": 12,
   "metadata": {},
   "outputs": [
    {
     "data": {
      "text/plain": [
       "matrix([[ 1.           ,  0.1          ,  0.           ,  0.           ,\n",
       "          0.           ,  0.           ,  0.           ,  0.           ,\n",
       "          0.           ],\n",
       "        [ 0.1          ,  0.           ,  0.11180339887,  0.           ,\n",
       "          0.           ,  0.           ,  0.           ,  0.           ,\n",
       "          0.           ],\n",
       "        [ 0.           ,  0.11180339887,  0.39         ,  0.50734603576,\n",
       "          0.           ,  0.           ,  0.           ,  0.           ,\n",
       "          0.           ],\n",
       "        [ 0.           ,  0.           ,  0.50734603576,  0.56384615385,\n",
       "          0.15156131626,  0.           ,  0.           ,  0.           ,\n",
       "          0.           ],\n",
       "        [ 0.           ,  0.           ,  0.           ,  0.15156131626,\n",
       "         -0.01258550205,  0.09059584351,  0.           ,  0.           ,\n",
       "          0.           ],\n",
       "        [ 0.           ,  0.           ,  0.           ,  0.           ,\n",
       "          0.09059584351,  0.25662647883,  0.41854017073,  0.           ,\n",
       "          0.           ],\n",
       "        [ 0.           ,  0.           ,  0.           ,  0.           ,\n",
       "          0.           ,  0.41854017073,  0.78036160182,  0.03087514967,\n",
       "          0.           ],\n",
       "        [ 0.           ,  0.           ,  0.           ,  0.           ,\n",
       "          0.           ,  0.           ,  0.03087514967,  0.01736991888,\n",
       "          0.01870544836],\n",
       "        [ 0.           ,  0.           ,  0.           ,  0.           ,\n",
       "          0.           ,  0.           ,  0.           ,  0.01870544836,\n",
       "         -0.04561865133]])"
      ]
     },
     "execution_count": 12,
     "metadata": {},
     "output_type": "execute_result"
    }
   ],
   "source": [
    "v3.todense()"
   ]
  },
  {
   "cell_type": "code",
   "execution_count": 1,
   "metadata": {},
   "outputs": [
    {
     "ename": "NameError",
     "evalue": "name 'v2' is not defined",
     "output_type": "error",
     "traceback": [
      "\u001b[0;31m---------------------------------------------------------------------------\u001b[0m",
      "\u001b[0;31mNameError\u001b[0m                                 Traceback (most recent call last)",
      "Cell \u001b[0;32mIn[1], line 1\u001b[0m\n\u001b[0;32m----> 1\u001b[0m \u001b[43mv2\u001b[49m\n",
      "\u001b[0;31mNameError\u001b[0m: name 'v2' is not defined"
     ]
    }
   ],
   "source": [
    "v2"
   ]
  },
  {
   "cell_type": "code",
   "execution_count": 9,
   "metadata": {},
   "outputs": [],
   "source": [
    "tol = 1e-10\n",
    "assert abs(np.vdot(v, v2) - 1.0) < tol"
   ]
  },
  {
   "cell_type": "code",
   "execution_count": null,
   "metadata": {},
   "outputs": [],
   "source": []
  }
 ],
 "metadata": {
  "kernelspec": {
   "display_name": "venv",
   "language": "python",
   "name": "python3"
  },
  "language_info": {
   "codemirror_mode": {
    "name": "ipython",
    "version": 3
   },
   "file_extension": ".py",
   "mimetype": "text/x-python",
   "name": "python",
   "nbconvert_exporter": "python",
   "pygments_lexer": "ipython3",
   "version": "3.11.5"
  }
 },
 "nbformat": 4,
 "nbformat_minor": 2
}
