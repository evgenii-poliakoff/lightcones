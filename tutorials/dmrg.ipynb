{
 "cells": [
  {
   "cell_type": "code",
   "execution_count": 1,
   "metadata": {},
   "outputs": [],
   "source": [
    "import lightcones.linalg as ll\n",
    "from lightcones.linalg import kron\n",
    "from lightcones.models import spinfull_fermions\n",
    "\n",
    "\n",
    "U = 1\n",
    "t = 0.05\n",
    "\n",
    "num_iterations = 100\n",
    "\n",
    "m = 100\n",
    "l = 3 + 1\n",
    "\n",
    "# iteration 0: preparatory\n",
    "\n",
    "# left subsystem\n",
    "\n",
    "f = spinfull_fermions(l)"
   ]
  },
  {
   "cell_type": "code",
   "execution_count": 2,
   "metadata": {},
   "outputs": [],
   "source": [
    "H_hopp = sum([sum([- t * (f.a_dag[s][i] @ f.a[s][i - 1] + f.a_dag[s][i - 1] @ f.a[s][i]) for s in range(2)]) for i in range(l)])\n",
    "H_S = H_hopp + sum([U * f.n[0][i] @ f.n[1][i] for i in range(l)])"
   ]
  },
  {
   "cell_type": "code",
   "execution_count": 3,
   "metadata": {},
   "outputs": [],
   "source": [
    "H_S_ = kron(H_S, f.eye)"
   ]
  },
  {
   "cell_type": "code",
   "execution_count": 4,
   "metadata": {},
   "outputs": [],
   "source": [
    "import scipy"
   ]
  },
  {
   "cell_type": "code",
   "execution_count": 5,
   "metadata": {},
   "outputs": [],
   "source": [
    "\n",
    "H_S_2 = scipy.sparse.kron(H_S, f.eye, format = 'csc')"
   ]
  },
  {
   "cell_type": "code",
   "execution_count": 6,
   "metadata": {},
   "outputs": [
    {
     "data": {
      "text/plain": [
       "<Compressed Sparse Column sparse matrix of dtype 'complex128'\n",
       "\twith 306944 stored elements and shape (65536, 65536)>"
      ]
     },
     "execution_count": 6,
     "metadata": {},
     "output_type": "execute_result"
    }
   ],
   "source": [
    "H_S_2"
   ]
  },
  {
   "cell_type": "code",
   "execution_count": 7,
   "metadata": {},
   "outputs": [],
   "source": [
    "a_S = f.a[:][-1]\n",
    "a_S_dag = f.a_dag[:][-1]"
   ]
  },
  {
   "cell_type": "code",
   "execution_count": 9,
   "metadata": {},
   "outputs": [
    {
     "data": {
      "text/plain": [
       "[<Compressed Sparse Column sparse matrix of dtype 'complex128'\n",
       " \twith 2048 stored elements and shape (4096, 4096)>,\n",
       " <Compressed Sparse Column sparse matrix of dtype 'complex128'\n",
       " \twith 2048 stored elements and shape (4096, 4096)>,\n",
       " <Compressed Sparse Column sparse matrix of dtype 'complex128'\n",
       " \twith 2048 stored elements and shape (4096, 4096)>,\n",
       " <Compressed Sparse Column sparse matrix of dtype 'complex128'\n",
       " \twith 2048 stored elements and shape (4096, 4096)>,\n",
       " <Compressed Sparse Column sparse matrix of dtype 'complex128'\n",
       " \twith 2048 stored elements and shape (4096, 4096)>,\n",
       " <Compressed Sparse Column sparse matrix of dtype 'complex128'\n",
       " \twith 2048 stored elements and shape (4096, 4096)>]"
      ]
     },
     "execution_count": 9,
     "metadata": {},
     "output_type": "execute_result"
    }
   ],
   "source": [
    "a_S"
   ]
  },
  {
   "cell_type": "code",
   "execution_count": 8,
   "metadata": {},
   "outputs": [],
   "source": [
    "a_S_ = kron(a_S, f.eye)"
   ]
  },
  {
   "cell_type": "code",
   "execution_count": 10,
   "metadata": {},
   "outputs": [],
   "source": [
    "a_S_dag_ = kron(a_S_dag, f.eye)"
   ]
  },
  {
   "cell_type": "code",
   "execution_count": 11,
   "metadata": {},
   "outputs": [],
   "source": [
    "H_E_ = kron(f.eye, H_S)"
   ]
  },
  {
   "cell_type": "code",
   "execution_count": 1,
   "metadata": {},
   "outputs": [
    {
     "name": "stdout",
     "output_type": "stream",
     "text": [
      "psi0 norm:\n",
      "(0.9999999999999983+0j)\n",
      "psi0 left part occupation:\n",
      "(3.9999999999999933+0j)\n",
      "E_GND =  -0.06121799580997313\n",
      "Psi_GND norm:\n",
      "(1.0000000000003326+0j)\n",
      "probability norm:\n",
      "1.0000000000003297\n",
      "Schmidt components:\n",
      "[9.87955864e-01 9.08114942e-03 7.12399556e-04 7.12399556e-04\n",
      " 7.12399556e-04 7.12399556e-04 1.07184238e-04 1.61916972e-06\n",
      " 1.30518897e-06 8.90768404e-07]\n",
      "Population of Schmidt components:\n",
      "[4. 4. 5. 3. 5. 3. 4. 4. 4. 4.]\n",
      "Number of particles in new site:\n",
      "(0.9999999999999998+0j)\n",
      "Number of particles in new left system:\n",
      "(4.999999999999999+0j)\n",
      "Number of particles in new LR system:\n",
      "(9.999999999999996+0j)\n",
      "E_GND =  -0.18422087151877503\n",
      "Psi_GND norm:\n",
      "(1.0000000000000235+0j)\n",
      "probability norm:\n",
      "1.0000000000000246\n",
      "Schmidt components:\n",
      "[4.35366966e-01 4.35366907e-01 6.09436957e-02 6.09431475e-02\n",
      " 2.50036224e-03 2.49975294e-03 1.15572260e-03 1.15572039e-03\n",
      " 3.38313613e-05 3.38312575e-05]\n",
      "Population of Schmidt components:\n",
      "[4. 4. 4. 4. 4. 4. 4. 4. 4. 4.]\n",
      "Number of particles in new site:\n",
      "(0.9999999999999998+0j)\n",
      "Number of particles in new left system:\n",
      "(4.999999999999999+0j)\n",
      "Number of particles in new LR system:\n",
      "(9.999999999999996+0j)\n",
      "E_GND =  -0.25792676081489074\n",
      "Psi_GND norm:\n",
      "(0.9999999999999478+0j)\n",
      "probability norm:\n",
      "0.9999999999999477\n",
      "Schmidt components:\n",
      "[4.67184374e-01 4.67007206e-01 3.11876482e-02 3.10033288e-02\n",
      " 1.14605585e-03 1.14600236e-03 5.74625872e-04 5.70854093e-04\n",
      " 4.29987907e-05 4.29413975e-05]\n",
      "Population of Schmidt components:\n",
      "[4. 5. 5. 4. 6. 3. 5. 4. 5. 4.]\n",
      "Number of particles in new site:\n",
      "(0.9999999999999998+0j)\n",
      "Number of particles in new left system:\n",
      "(4.999999999999999+0j)\n",
      "Number of particles in new LR system:\n",
      "(9.999999999999996+0j)\n",
      "E_GND =  -0.3234522274592524\n",
      "Psi_GND norm:\n",
      "(0.9999999999992413+0j)\n",
      "probability norm:\n",
      "0.9999999999992408\n",
      "Schmidt components:\n",
      "[5.51112734e-01 2.75263497e-01 8.69807741e-02 7.78309663e-02\n",
      " 3.12696987e-03 2.55631169e-03 1.52749136e-03 1.40453295e-03\n",
      " 6.03935377e-05 5.23261758e-05]\n",
      "Population of Schmidt components:\n",
      "[5. 5. 5. 5. 5. 4. 5. 5. 6. 4.]\n",
      "Number of particles in new site:\n",
      "(0.9999999999999998+0j)\n",
      "Number of particles in new left system:\n",
      "(5.999999999999999+0j)\n",
      "Number of particles in new LR system:\n",
      "(11.999999999999995+0j)\n",
      "E_GND =  -0.39190047062080735\n",
      "Psi_GND norm:\n",
      "(1.0000000000001217+0j)\n",
      "probability norm:\n",
      "1.0000000000001217\n",
      "Schmidt components:\n",
      "[6.63749084e-01 1.96338340e-01 9.46230530e-02 2.50261041e-02\n",
      " 9.18670287e-03 4.78360420e-03 2.84085133e-03 1.30455066e-03\n",
      " 9.14242251e-04 5.11845704e-04]\n",
      "Population of Schmidt components:\n",
      "[5. 6. 6. 5. 5. 5. 6. 6. 6. 6.]\n",
      "Number of particles in new site:\n",
      "(0.9999999999999998+0j)\n",
      "Number of particles in new left system:\n",
      "(5.999999999999999+0j)\n",
      "Number of particles in new LR system:\n",
      "(11.999999999999995+0j)\n",
      "E_GND =  -0.5378691295862026\n",
      "Psi_GND norm:\n",
      "(0.9999999999999158+0j)\n",
      "probability norm:\n",
      "0.9999999999999148\n",
      "Schmidt components:\n",
      "[5.11874045e-01 3.99705826e-01 4.36209960e-02 1.86579351e-02\n",
      " 1.44297853e-02 4.96017904e-03 3.87951684e-03 2.14576297e-03\n",
      " 3.65837739e-04 2.12552051e-04]\n",
      "Population of Schmidt components:\n",
      "[5. 6. 6. 5. 6. 6. 6. 6. 6. 6.]\n",
      "Number of particles in new site:\n",
      "(0.9999999999999998+0j)\n",
      "Number of particles in new left system:\n",
      "(5.999999999999999+0j)\n",
      "Number of particles in new LR system:\n",
      "(11.999999999999995+0j)\n",
      "E_GND =  -0.8810748203018473\n",
      "Psi_GND norm:\n",
      "(0.9999999999999899+0j)\n",
      "probability norm:\n",
      "0.9999999999999897\n",
      "Schmidt components:\n",
      "[3.60100426e-01 3.56176120e-01 1.54404085e-01 1.28117859e-01\n",
      " 5.83934384e-04 3.11027666e-04 1.49452519e-04 1.08973124e-04\n",
      " 2.21629381e-05 1.31711161e-05]\n",
      "Population of Schmidt components:\n",
      "[7. 7. 6. 8. 6. 7. 6. 6. 6. 6.]\n",
      "Number of particles in new site:\n",
      "(0.9999999999999998+0j)\n",
      "Number of particles in new left system:\n",
      "(7.999999999999998+0j)\n",
      "Number of particles in new LR system:\n",
      "(15.999999999999993+0j)\n",
      "E_GND =  -1.3492381406367717\n",
      "Psi_GND norm:\n",
      "(0.9999999999999849+0j)\n",
      "probability norm:\n",
      "0.9999999999999843\n",
      "Schmidt components:\n",
      "[4.04690622e-01 3.91512387e-01 7.44342552e-02 7.40045911e-02\n",
      " 2.39162029e-02 2.19932765e-02 4.72582445e-03 4.42067565e-03\n",
      " 9.34839629e-05 8.97882717e-05]\n",
      "Population of Schmidt components:\n",
      "[7. 8. 7. 8. 7. 8. 7. 8. 6. 8.]\n",
      "Number of particles in new site:\n",
      "(0.9999999999999998+0j)\n",
      "Number of particles in new left system:\n",
      "(7.999999999999998+0j)\n",
      "Number of particles in new LR system:\n",
      "(15.999999999999993+0j)\n",
      "E_GND =  -3.0836963460771547\n",
      "Psi_GND norm:\n",
      "(0.3797664519818019+0j)\n",
      "probability norm:\n",
      "0.37976645198180203\n",
      "Schmidt components:\n",
      "[1.11626810e-01 1.09844308e-01 7.93999054e-02 7.87663162e-02\n",
      " 3.45985443e-05 2.89292314e-05 1.46209011e-05 1.39757409e-05\n",
      " 1.14029272e-05 8.85118989e-06]\n",
      "Population of Schmidt components:\n",
      "[8. 8. 7. 9. 8. 8. 7. 9. 8. 8.]\n",
      "Number of particles in new site:\n",
      "(0.9999999999999998+0j)\n",
      "Number of particles in new left system:\n",
      "(8.999999999999998+0j)\n",
      "Number of particles in new LR system:\n",
      "(17.999999999999993+0j)\n",
      "E_GND =  -3.785647753022731\n",
      "Psi_GND norm:\n",
      "(0.9999999999999403+0j)\n",
      "probability norm:\n",
      "0.9999999999999394\n",
      "Schmidt components:\n",
      "[3.16262563e-01 2.77657837e-01 1.08691889e-01 9.96261906e-02\n",
      " 7.69468407e-02 6.76135000e-02 2.85261335e-02 2.45722737e-02\n",
      " 3.02696017e-05 2.25091132e-05]\n",
      "Population of Schmidt components:\n",
      "[ 9.  8.  9.  8. 10.  7.  8.  8.  9.  9.]\n",
      "Number of particles in new site:\n",
      "(0.9999999999999998+0j)\n",
      "Number of particles in new left system:\n",
      "(9.999999999999998+0j)\n",
      "Number of particles in new LR system:\n",
      "(19.999999999999993+0j)\n",
      "E_GND =  -8.029986814075697\n",
      "Psi_GND norm:\n",
      "(1.6568951419778197+0j)\n",
      "probability norm:\n",
      "1.656895141977821\n",
      "Schmidt components:\n",
      "[4.44202658e-01 4.41142486e-01 3.92639375e-01 3.78653096e-01\n",
      " 7.41135266e-05 4.07363936e-05 3.09448874e-05 2.60672167e-05\n",
      " 2.33828813e-05 2.15211298e-05]\n",
      "Population of Schmidt components:\n",
      "[ 9.  9.  9.  9.  9. 10.  9.  9.  9.  9.]\n",
      "Number of particles in new site:\n",
      "(0.9999999999999998+0j)\n",
      "Number of particles in new left system:\n",
      "(9.999999999999998+0j)\n",
      "Number of particles in new LR system:\n",
      "(19.999999999999993+0j)\n",
      "E_GND =  -9.07931048869092\n",
      "Psi_GND norm:\n",
      "(1.0000000000000102+0j)\n",
      "probability norm:\n",
      "1.0000000000000098\n",
      "Schmidt components:\n",
      "[3.12456941e-01 3.06161843e-01 1.34615044e-01 1.30067527e-01\n",
      " 4.11320781e-02 3.98248375e-02 1.80044453e-02 1.76052321e-02\n",
      " 4.24455871e-05 3.25537039e-05]\n",
      "Population of Schmidt components:\n",
      "[10. 10.  9. 10. 10.  9.  9. 10. 10. 10.]\n",
      "Number of particles in new site:\n",
      "(0.9999999999999998+0j)\n",
      "Number of particles in new left system:\n",
      "(10.999999999999998+0j)\n",
      "Number of particles in new LR system:\n",
      "(21.999999999999993+0j)\n",
      "E_GND =  -15.27326126800796\n",
      "Psi_GND norm:\n",
      "(0.9999999999999969+0j)\n",
      "probability norm:\n",
      "0.9999999999999958\n",
      "Schmidt components:\n",
      "[2.70032614e-01 2.64098625e-01 2.27341093e-01 2.14266984e-01\n",
      " 6.57902648e-03 6.41206613e-03 5.62414444e-03 5.28274854e-03\n",
      " 8.49665380e-05 6.47796086e-05]\n",
      "Population of Schmidt components:\n",
      "[11. 11. 11. 11. 10. 10. 10. 10. 11. 11.]\n",
      "Number of particles in new site:\n",
      "(0.9999999999999998+0j)\n",
      "Number of particles in new left system:\n",
      "(11.999999999999998+0j)\n",
      "Number of particles in new LR system:\n",
      "(23.99999999999999+0j)\n",
      "E_GND =  -23.409132960979985\n",
      "Psi_GND norm:\n",
      "(0.9999999983130361+0j)\n",
      "probability norm:\n",
      "0.9999999983130368\n",
      "Schmidt components:\n",
      "[2.59013767e-01 2.57579483e-01 2.42578368e-01 2.40778903e-01\n",
      " 1.26270551e-05 8.01715203e-06 6.72969547e-06 4.83851352e-06\n",
      " 4.53725881e-06 3.62883293e-06]\n",
      "Population of Schmidt components:\n",
      "[11. 12. 11. 12. 12. 11. 12. 12. 12. 12.]\n",
      "Number of particles in new site:\n",
      "(0.9999999999999998+0j)\n",
      "Number of particles in new left system:\n",
      "(11.999999999999998+0j)\n",
      "Number of particles in new LR system:\n",
      "(23.99999999999999+0j)\n",
      "E_GND =  -28.36949946848699\n",
      "Psi_GND norm:\n",
      "(0.9997991616458262+0j)\n",
      "probability norm:\n",
      "0.9997991616458276\n",
      "Schmidt components:\n",
      "[2.58376303e-01 2.56598160e-01 2.43777828e-01 2.40971086e-01\n",
      " 1.82091802e-05 1.55540935e-05 1.39437487e-05 8.87708639e-06\n",
      " 4.54775912e-06 4.32180557e-06]\n",
      "Population of Schmidt components:\n",
      "[13. 13. 13. 12. 12. 12. 12. 12. 13. 13.]\n",
      "Number of particles in new site:\n",
      "(0.9999999999999998+0j)\n",
      "Number of particles in new left system:\n",
      "(13.999999999999996+0j)\n",
      "Number of particles in new LR system:\n",
      "(27.999999999999986+0j)\n",
      "E_GND =  -36.10561836160581\n",
      "Psi_GND norm:\n",
      "(0.9999999999999865+0j)\n",
      "probability norm:\n",
      "0.9999999999999873\n",
      "Schmidt components:\n",
      "[2.56286371e-01 2.54556862e-01 2.45170102e-01 2.43925593e-01\n",
      " 1.32069139e-05 1.18681530e-05 1.13066231e-05 9.49828611e-06\n",
      " 3.94219309e-06 3.80542069e-06]\n",
      "Population of Schmidt components:\n",
      "[14. 15. 15. 14. 14. 15. 14. 14. 14. 13.]\n",
      "Number of particles in new site:\n",
      "(0.9999999999999998+0j)\n",
      "Number of particles in new left system:\n",
      "(14.999999999999996+0j)\n",
      "Number of particles in new LR system:\n",
      "(29.999999999999986+0j)\n",
      "E_GND =  -42.021416441308666\n",
      "Psi_GND norm:\n",
      "(1.0000000000000067+0j)\n",
      "probability norm:\n",
      "1.0000000000000075\n",
      "Schmidt components:\n",
      "[2.86297344e-01 2.74779673e-01 2.22415915e-01 2.14236501e-01\n",
      " 6.06098788e-04 5.88064989e-04 4.79815223e-04 4.63242371e-04\n",
      " 3.24093570e-05 3.05748647e-05]\n",
      "Population of Schmidt components:\n",
      "[15. 15. 15. 15. 15. 15. 15. 15. 15. 16.]\n",
      "Number of particles in new site:\n",
      "(0.9999999999999998+0j)\n",
      "Number of particles in new left system:\n",
      "(15.999999999999996+0j)\n",
      "Number of particles in new LR system:\n",
      "(31.999999999999986+0j)\n",
      "E_GND =  -51.42961941813309\n",
      "Psi_GND norm:\n",
      "(0.9999952203360868+0j)\n",
      "probability norm:\n",
      "0.999995220336087\n",
      "Schmidt components:\n",
      "[2.54097224e-01 2.52792216e-01 2.47732655e-01 2.45322985e-01\n",
      " 1.19484220e-05 9.51363646e-06 6.08477826e-06 4.63167198e-06\n",
      " 4.49874415e-06 3.98922077e-06]\n",
      "Population of Schmidt components:\n",
      "[16. 16. 16. 16. 16. 16. 16. 16. 16. 17.]\n",
      "Number of particles in new site:\n",
      "(0.9999999999999998+0j)\n",
      "Number of particles in new left system:\n",
      "(16.999999999999996+0j)\n",
      "Number of particles in new LR system:\n",
      "(33.999999999999986+0j)\n",
      "E_GND =  -56.22897280482203\n",
      "Psi_GND norm:\n",
      "(1.0000000000000016+0j)\n",
      "probability norm:\n",
      "1.000000000000001\n",
      "Schmidt components:\n",
      "[2.84057140e-01 2.82687647e-01 2.11456601e-01 2.09278551e-01\n",
      " 3.56896031e-03 3.53253197e-03 2.69624482e-03 2.68793576e-03\n",
      " 1.07449333e-05 9.39099500e-06]\n",
      "Population of Schmidt components:\n",
      "[18. 17. 17. 18. 18. 17. 17. 18. 17. 17.]\n",
      "Number of particles in new site:\n",
      "(0.9999999999999998+0j)\n",
      "Number of particles in new left system:\n",
      "(18.999999999999996+0j)\n",
      "Number of particles in new LR system:\n",
      "(37.999999999999986+0j)\n",
      "E_GND =  -68.9580838150933\n",
      "Psi_GND norm:\n",
      "(1.0000000000000215+0j)\n",
      "probability norm:\n",
      "1.000000000000021\n",
      "Schmidt components:\n",
      "[2.52590105e-01 2.52074574e-01 2.48211907e-01 2.46991231e-01\n",
      " 3.24617606e-05 3.17547165e-05 2.85585627e-05 2.81875914e-05\n",
      " 3.02390535e-06 2.77933008e-06]\n",
      "Population of Schmidt components:\n",
      "[18. 18. 18. 18. 18. 19. 18. 17. 18. 18.]\n",
      "Number of particles in new site:\n",
      "(0.9999999999999998+0j)\n",
      "Number of particles in new left system:\n",
      "(18.999999999999996+0j)\n",
      "Number of particles in new LR system:\n",
      "(37.999999999999986+0j)\n"
     ]
    }
   ],
   "source": [
    "import numpy as np\n",
    "import scipy\n",
    "import lightcones.linalg as ll\n",
    "from lightcones.linalg import kron\n",
    "from lightcones.models import spinfull_fermions\n",
    "import lightcones.space as sp\n",
    "import math\n",
    "\n",
    "U = 1\n",
    "t = 0.05\n",
    "\n",
    "num_iterations = 20\n",
    "\n",
    "m = 10\n",
    "l = 3 + 1\n",
    "\n",
    "E_GND_convergence = []\n",
    "\n",
    "# iteration 0: preparatory\n",
    "\n",
    "# left subsystem\n",
    "# we use [] for list of modes\n",
    "#        {} for list of states \n",
    "# f = [: 3] * [1]\n",
    "\n",
    "f = spinfull_fermions(l)\n",
    "\n",
    "H_hopp = sum([sum([- t * (f.a_dag[s][i] @ f.a[s][i - 1] + f.a_dag[s][i - 1] @ f.a[s][i]) for s in range(2)]) for i in range(l)])\n",
    "H_S = H_hopp + sum([U * f.n[0][i] @ f.n[1][i] for i in range(l)])\n",
    "\n",
    "# underscore is for\n",
    "# [: 3] * [1] * [: 3] * [1]\n",
    "H_S_ = kron(H_S, f.eye)\n",
    "\n",
    "# for [: 3] * [1]\n",
    "a_S = f.a[:][-1]\n",
    "a_S_dag = f.a_dag[:][-1]\n",
    "\n",
    "# for [: 3] * [1]\n",
    "a_S_ = kron(a_S, f.eye)\n",
    "a_S_dag_ = kron(a_S_dag, f.eye)\n",
    "\n",
    "# right subsystem\n",
    "\n",
    "# fermion Hamiltonian is always even\n",
    "H_E_ = kron(f.eye, H_S)\n",
    "\n",
    "# a and a_dag are odd operators\n",
    "a_E_ = kron(f.parity, a_S)\n",
    "a_E_dag_ = kron(f.parity, a_S_dag)\n",
    "\n",
    "# joint system Hamiltonian\n",
    "H_SE = H_S_ + H_E_ - sum([t * (a_E_dag_[s] @ a_S_[s] + a_S_dag_[s] @ a_E_[s]) for s in range(2)])\n",
    "\n",
    "# initial lanczos wavefunction for\n",
    "# half filled case:\n",
    "psi0 = np.zeros(f.dimension**2, dtype = complex)\n",
    "psi0[0] = 1.0\n",
    "for i in range(l):\n",
    "    # populate left part\n",
    "    psi0 = (kron(f.a_dag[0][i], f.eye) + kron(f.a_dag[1][i], f.eye)) @ psi0 / math.sqrt(2.0)\n",
    "    # popular right part\n",
    "    psi0 = (kron(f.parity, f.a_dag[0][i]) + kron(f.parity, f.a_dag[1][i])) @ psi0 / math.sqrt(2.0)\n",
    "\n",
    "print(\"psi0 norm:\")\n",
    "print(np.vdot(psi0, psi0))\n",
    "\n",
    "# total occupation of left subsystem:\n",
    "N_left = sum([sum([f.a_dag[s][i] @ f.a[s][i] for s in range(2)]) for i in range(l)])\n",
    "N_left_ = kron(N_left, f.eye)\n",
    "\n",
    "print(\"psi0 left part occupation:\")\n",
    "print(np.vdot(psi0, N_left_ @ psi0))\n",
    "\n",
    "# now start regular iterations\n",
    "\n",
    "dimension_L = f.dimension\n",
    "parity_L = f.parity\n",
    "\n",
    "for i in range(num_iterations):\n",
    "\n",
    "    # find ground state\n",
    "    # for [: 3] * [1] * [: 3] * [1]\n",
    "    E_GND, Psi_GND = ll.lancz_gnd_state(psi0, H_SE, 100)\n",
    "    \n",
    "    E_GND_convergence.append(E_GND)\n",
    "    \n",
    "    print(\"E_GND = \", E_GND)\n",
    "    \n",
    "    print(\"Psi_GND norm:\")\n",
    "    print(np.vdot(Psi_GND, Psi_GND))\n",
    "    \n",
    "    # partial trace\n",
    "    bp = sp.bipartite(dimension_L, dimension_L)\n",
    "    # for [: 3] * [1]\n",
    "    rho = bp.trace_out_R(Psi_GND)\n",
    "    \n",
    "    # find eigenvalues sorted in descending order\n",
    "    pi, T = ll.find_eigs_descending(rho)\n",
    "    \n",
    "    print(\"probability norm:\")\n",
    "    print(sum(pi))\n",
    "    \n",
    "    print(\"Schmidt components:\")\n",
    "    print(pi[:m])\n",
    "    \n",
    "    # keep only m largest eigenstates\n",
    "    # columns are eigenstates\n",
    "    T = scipy.sparse.csc_matrix(T[:, : m])\n",
    "\n",
    "    # switch to the frame of revelant eigenstates\n",
    "    # for {: m}\n",
    "    T_dag = scipy.sparse.csc_matrix(T.conj().T)\n",
    "    \n",
    "    N_left_T = T_dag @ N_left @ T\n",
    "    \n",
    "    # for numerical stability:\n",
    "    # N_left_T has natural numbers as eigenvalues\n",
    "    N_left_T = N_left_T.rint()\n",
    "    \n",
    "    print(\"Population of Schmidt components:\")\n",
    "    left_N = N_left_T.diagonal().real\n",
    "    print(left_N)\n",
    "    \n",
    "    # we compare population of left subsystem with l + i\n",
    "    # since we start from l signly occupied sites, and add one electron\n",
    "    # at each iteration (+ i electrons after i iterations) \n",
    "    #assert math.isclose(left_N[0], l + i, rel_tol=1e-7, abs_tol=1e-7), \\\n",
    "    #    \"The most important Schmidt component is not at half filling.\"\n",
    "    \n",
    "    H_T = T_dag @ H_S @ T\n",
    "\n",
    "    # boundary operators also get renormalized\n",
    "    # for {: m}\n",
    "    a_T = [T_dag @ a_S[s] @ T for s in range(2)]\n",
    "    a_T_dag = [T_dag @ a_S_dag[s] @ T for s in range(2)]\n",
    "\n",
    "    # new parity operator\n",
    "    # for {: m}\n",
    "    parity_T = T_dag @ parity_L @ T\n",
    "    \n",
    "    # for numerical stability:\n",
    "    # parity_T has integers as eigenvalues\n",
    "    parity_T = parity_T.rint()\n",
    "    \n",
    "    eye_T = ll.eye(m)\n",
    "    \n",
    "    # add new site\n",
    "    g = spinfull_fermions(1)\n",
    "    \n",
    "    # new boundary operators\n",
    "    # for {: m} * [1]\n",
    "    \n",
    "    # a and a_dag are odd operators\n",
    "    a_S = kron(parity_T, [g.a[s][0] for s in range(2)])\n",
    "    a_S_dag = kron(parity_T, [g.a_dag[s][0] for s in range(2)])\n",
    "    \n",
    "    a_T_ = kron(a_T, g.eye)\n",
    "    a_T_dag_ = kron(a_T_dag, g.eye)\n",
    "    \n",
    "    # n is even operator\n",
    "    n_ = kron(eye_T, [g.n[s][0] for s in range(2)])\n",
    "    \n",
    "    # \n",
    "    H_T_ = kron(H_T, g.eye)\n",
    "    \n",
    "    #\n",
    "    H_S = H_T_ - t * sum([a_S_dag[s] @ a_T_[s] + a_T_dag_[s] @ a_S[s] for s in range(2)]) + U * n_[0] @ n_[1]\n",
    "    \n",
    "    eye_T_ = kron(eye_T, g.eye)\n",
    "    \n",
    "    # left subsystem\n",
    "    # for {: m} * [1] * {: m} * [1]\n",
    "    \n",
    "    H_S_ = kron(H_S, eye_T_)\n",
    "    \n",
    "    a_S_ = kron(a_S, eye_T_)\n",
    "    a_S_dag_ = kron(a_S_dag, eye_T_)\n",
    "\n",
    "    # right subsystem\n",
    "    # for {: m} * [1] * {: m} * [1]\n",
    "\n",
    "    parity_T_ = kron(parity_T, g.parity)\n",
    "    \n",
    "    # fermion Hamiltonian is always even\n",
    "    H_E_ = kron(eye_T_, H_S)\n",
    "\n",
    "    # a and a_dag are odd operators\n",
    "    a_E_ = kron(parity_T_, a_S)\n",
    "    a_E_dag_ = kron(parity_T_, a_S_dag)\n",
    "    \n",
    "    # joint system Hamiltonian\n",
    "    # for {: m} * [1] * {: m} * [1]\n",
    "\n",
    "    H_SE = H_S_ + H_E_ - sum([t * (a_E_dag_[s] @ a_S_[s] + a_S_dag_[s] @ a_E_[s]) for s in range(2)])\n",
    "    \n",
    "    # update N_left operator\n",
    "    # add new site\n",
    "    N_left_ = kron(N_left_T, g.eye) + sum([kron(eye_T, g.n[i][0]) for i in range(2)])\n",
    "    # embed into left-right system \n",
    "    # {: m} * [1] * {: m} * [1]\n",
    "    #N_left = kron(N_left_, eye_T_)\n",
    "    N_left = N_left_\n",
    "    \n",
    "    # update parity_L\n",
    "    parity_L = parity_T_\n",
    "    \n",
    "    # update Lanczos initial condition\n",
    "    # Take the most important Schmidt component |phi_0> \n",
    "    \n",
    "    # most significant component in T-representation\n",
    "    psi0 = np.zeros(m, dtype = complex)\n",
    "    psi0[0] = 1.0\n",
    "    \n",
    "    # add one site to the left system.\n",
    "    # the site wavefunction is at half filling\n",
    "    psi_g = (g.a_dag[0][0] + g.a_dag[1][0]) @ g.vac() / math.sqrt(2.0)\n",
    "    \n",
    "    print(\"Number of particles in new site:\")\n",
    "    print(np.vdot(psi_g, (g.a_dag[0][0] @ g.a[0][0] + g.a_dag[1][0] @ g.a[1][0]) @ psi_g))\n",
    "    \n",
    "    bp_L = sp.bipartite(m, g.dimension)\n",
    "    \n",
    "    # {: m} * [1]\n",
    "    psi0_L = bp_L.kron(psi0, psi_g)\n",
    "    \n",
    "    print(\"Number of particles in new left system:\")\n",
    "    print(np.vdot(psi0_L, N_left @ psi0_L))\n",
    "    \n",
    "    \n",
    "    # joint left * right system\n",
    "    # {: m} * [1] * {: m} * [1]\n",
    "    bp_LR = sp.bipartite(bp_L.dimension, bp_L.dimension)\n",
    "    psi0 = bp_LR.kron(psi0_L, psi0_L)\n",
    "    \n",
    "    print(\"Number of particles in new LR system:\")\n",
    "    print(np.vdot(psi0, (kron(N_left, eye_T_) + kron(eye_T_, N_left)) @ psi0))\n",
    "    \n",
    "    dimension_L = bp_L.dimension"
   ]
  },
  {
   "cell_type": "code",
   "execution_count": 13,
   "metadata": {},
   "outputs": [
    {
     "data": {
      "text/plain": [
       "Text(0.5, 0, 'iteration No.')"
      ]
     },
     "execution_count": 13,
     "metadata": {},
     "output_type": "execute_result"
    },
    {
     "data": {
      "image/png": "[encoded data removed]",
      "text/plain": [
       "<Figure size 640x480 with 1 Axes>"
      ]
     },
     "metadata": {},
     "output_type": "display_data"
    }
   ],
   "source": [
    "import matplotlib.pyplot as plt\n",
    "plt.plot(np.array(E_GND_convergence) / (np.array(range(len(E_GND_convergence))) + l))\n",
    "#plt.plot(np.array(E_GND_convergence))\n",
    "plt.ylabel(r\"E_GND\")\n",
    "plt.xlabel(r\"iteration No.\")"
   ]
  },
  {
   "cell_type": "code",
   "execution_count": 4,
   "metadata": {},
   "outputs": [
    {
     "data": {
      "text/plain": [
       "(50, 1)"
      ]
     },
     "execution_count": 4,
     "metadata": {},
     "output_type": "execute_result"
    }
   ],
   "source": [
    "ll.as_column_vector(np.array(range(len(E_GND_convergence))) + l).shape"
   ]
  },
  {
   "cell_type": "code",
   "execution_count": 7,
   "metadata": {},
   "outputs": [
    {
     "data": {
      "text/plain": [
       "(50,)"
      ]
     },
     "execution_count": 7,
     "metadata": {},
     "output_type": "execute_result"
    }
   ],
   "source": [
    "np.array(E_GND_convergence).shape"
   ]
  },
  {
   "cell_type": "code",
   "execution_count": 17,
   "metadata": {},
   "outputs": [
    {
     "data": {
      "text/plain": [
       "array([0.1, 0.2, 0.3, 0.4])"
      ]
     },
     "execution_count": 17,
     "metadata": {},
     "output_type": "execute_result"
    }
   ],
   "source": [
    "a = np.array([1, 2, 3, 4])\n",
    "b = np.array([10, 10, 10, 10])\n",
    "a / b"
   ]
  },
  {
   "cell_type": "code",
   "execution_count": 3,
   "metadata": {},
   "outputs": [
    {
     "data": {
      "text/plain": [
       "[np.float64(-0.061217738049429996),\n",
       " np.float64(-0.06701512070961957),\n",
       " np.float64(-0.18792177157645923),\n",
       " np.float64(-0.2339199753528902),\n",
       " np.float64(-0.3135156097194775),\n",
       " np.float64(-0.38084318137768325),\n",
       " np.float64(-0.513805807179627),\n",
       " np.float64(-0.9039147582115914),\n",
       " np.float64(-1.35479343353499),\n",
       " np.float64(-2.3315349664746203),\n",
       " np.float64(-3.9117579111525567),\n",
       " np.float64(-6.579193241432619),\n",
       " np.float64(-8.64397654277863),\n",
       " np.float64(-11.65618606046772),\n",
       " np.float64(-15.521737550478361),\n",
       " np.float64(-19.895344853599536),\n",
       " np.float64(-26.59196415075088),\n",
       " np.float64(-30.184121586063203),\n",
       " np.float64(-36.35139104135806),\n",
       " np.float64(-47.44415481283266),\n",
       " np.float64(-51.797099816020875),\n",
       " np.float64(-74.1875211160122),\n",
       " np.float64(-74.67549987531281),\n",
       " np.float64(-82.81235022862033),\n",
       " np.float64(-111.82182766336172),\n",
       " np.float64(-132.23486979047104),\n",
       " np.float64(-144.34381824448485),\n",
       " np.float64(-184.56264396502715),\n",
       " np.float64(-222.0307689090234),\n",
       " np.float64(-241.49086600555913),\n",
       " np.float64(-284.6400297072409),\n",
       " np.float64(-318.1906632097146),\n",
       " np.float64(-331.24915508772375),\n",
       " np.float64(-367.99256290664306),\n",
       " np.float64(-399.63163271269224),\n",
       " np.float64(-433.5185885098828),\n",
       " np.float64(-460.42269969213197),\n",
       " np.float64(-498.75695631707947),\n",
       " np.float64(-548.4921387509622),\n",
       " np.float64(-604.3297201790912),\n",
       " np.float64(-718.7977390718783),\n",
       " np.float64(-785.1643385162198),\n",
       " np.float64(-835.2594280337622),\n",
       " np.float64(-921.6426390750665),\n",
       " np.float64(-958.274947208008),\n",
       " np.float64(-1038.2047281501398),\n",
       " np.float64(-1170.3077857337692),\n",
       " np.float64(-1280.6688766419968),\n",
       " np.float64(-1371.5346626412188),\n",
       " np.float64(-1488.2008668739784)]"
      ]
     },
     "execution_count": 3,
     "metadata": {},
     "output_type": "execute_result"
    }
   ],
   "source": [
    "E_GND_convergence"
   ]
  },
  {
   "cell_type": "code",
   "execution_count": 13,
   "metadata": {},
   "outputs": [
    {
     "data": {
      "text/plain": [
       "(50, 1)"
      ]
     },
     "execution_count": 13,
     "metadata": {},
     "output_type": "execute_result"
    }
   ],
   "source": [
    "(np.array(E_GND_convergence)[:]).shape"
   ]
  },
  {
   "cell_type": "code",
   "execution_count": 16,
   "metadata": {},
   "outputs": [
    {
     "data": {
      "text/plain": [
       "array([[-1.53044345e-02, -1.22435476e-02, -1.02029563e-02, ...,\n",
       "        -1.20034780e-03, -1.17726419e-03, -1.15505166e-03],\n",
       "       [-1.67537802e-02, -1.34030241e-02, -1.11691868e-02, ...,\n",
       "        -1.31402197e-03, -1.28875232e-03, -1.26443624e-03],\n",
       "       [-4.69804429e-02, -3.75843543e-02, -3.13202953e-02, ...,\n",
       "        -3.68474062e-03, -3.61388022e-03, -3.54569380e-03],\n",
       "       ...,\n",
       "       [-3.20167219e+02, -2.56133775e+02, -2.13444813e+02, ...,\n",
       "        -2.51111544e+01, -2.46282476e+01, -2.41635637e+01],\n",
       "       [-3.42883666e+02, -2.74306933e+02, -2.28589110e+02, ...,\n",
       "        -2.68928365e+01, -2.63756666e+01, -2.58780125e+01],\n",
       "       [-3.72050217e+02, -2.97640173e+02, -2.48033478e+02, ...,\n",
       "        -2.91804092e+01, -2.86192474e+01, -2.80792616e+01]],\n",
       "      shape=(50, 50))"
      ]
     },
     "execution_count": 16,
     "metadata": {},
     "output_type": "execute_result"
    }
   ],
   "source": [
    "ll.as_column_vector(np.array(E_GND_convergence)) / (np.array(range(len(E_GND_convergence))) + l)"
   ]
  },
  {
   "cell_type": "code",
   "execution_count": 9,
   "metadata": {},
   "outputs": [
    {
     "data": {
      "text/plain": [
       "<Compressed Sparse Column sparse matrix of dtype 'complex128'\n",
       "\twith 21539 stored elements and shape (256, 100)>"
      ]
     },
     "execution_count": 9,
     "metadata": {},
     "output_type": "execute_result"
    }
   ],
   "source": [
    "T"
   ]
  },
  {
   "cell_type": "code",
   "execution_count": 4,
   "metadata": {},
   "outputs": [
    {
     "data": {
      "text/plain": [
       "<Compressed Sparse Column sparse matrix of dtype 'complex128'\n",
       "\twith 116797 stored elements and shape (400, 400)>"
      ]
     },
     "execution_count": 4,
     "metadata": {},
     "output_type": "execute_result"
    }
   ],
   "source": [
    "H_S"
   ]
  },
  {
   "cell_type": "code",
   "execution_count": 5,
   "metadata": {},
   "outputs": [],
   "source": [
    "H_S.eliminate_zeros()"
   ]
  },
  {
   "cell_type": "code",
   "execution_count": 6,
   "metadata": {},
   "outputs": [
    {
     "data": {
      "text/plain": [
       "<Compressed Sparse Column sparse matrix of dtype 'complex128'\n",
       "\twith 116797 stored elements and shape (400, 400)>"
      ]
     },
     "execution_count": 6,
     "metadata": {},
     "output_type": "execute_result"
    }
   ],
   "source": [
    "H_S"
   ]
  },
  {
   "cell_type": "code",
   "execution_count": 3,
   "metadata": {},
   "outputs": [
    {
     "data": {
      "text/plain": [
       "<Compressed Sparse Column sparse matrix of dtype 'float64'\n",
       "\twith 400 stored elements and shape (400, 400)>"
      ]
     },
     "execution_count": 3,
     "metadata": {},
     "output_type": "execute_result"
    }
   ],
   "source": [
    "eye_T_"
   ]
  },
  {
   "cell_type": "code",
   "execution_count": 8,
   "metadata": {},
   "outputs": [
    {
     "data": {
      "text/plain": [
       "<Compressed Sparse Column sparse matrix of dtype 'complex128'\n",
       "\twith 39208 stored elements and shape (400, 400)>"
      ]
     },
     "execution_count": 8,
     "metadata": {},
     "output_type": "execute_result"
    }
   ],
   "source": [
    "parity_T_"
   ]
  },
  {
   "cell_type": "code",
   "execution_count": 7,
   "metadata": {},
   "outputs": [],
   "source": [
    "parity_T_.eliminate_zeros()"
   ]
  },
  {
   "cell_type": "code",
   "execution_count": 7,
   "metadata": {},
   "outputs": [
    {
     "ename": "Exception",
     "evalue": "Unsupported types for kron",
     "output_type": "error",
     "traceback": [
      "\u001b[0;31m---------------------------------------------------------------------------\u001b[0m",
      "\u001b[0;31mException\u001b[0m                                 Traceback (most recent call last)",
      "Cell \u001b[0;32mIn[7], line 1\u001b[0m\n\u001b[0;32m----> 1\u001b[0m a_S \u001b[38;5;241m=\u001b[39m \u001b[43mkron\u001b[49m\u001b[43m(\u001b[49m\u001b[43mparity_T\u001b[49m\u001b[43m,\u001b[49m\u001b[43m \u001b[49m\u001b[43m[\u001b[49m\u001b[43mg\u001b[49m\u001b[38;5;241;43m.\u001b[39;49m\u001b[43ma\u001b[49m\u001b[43m[\u001b[49m\u001b[43ms\u001b[49m\u001b[43m]\u001b[49m\u001b[43m[\u001b[49m\u001b[38;5;241;43m0\u001b[39;49m\u001b[43m]\u001b[49m\u001b[43m \u001b[49m\u001b[38;5;28;43;01mfor\u001b[39;49;00m\u001b[43m \u001b[49m\u001b[43ms\u001b[49m\u001b[43m \u001b[49m\u001b[38;5;129;43;01min\u001b[39;49;00m\u001b[43m \u001b[49m\u001b[38;5;28;43mrange\u001b[39;49m\u001b[43m(\u001b[49m\u001b[38;5;241;43m2\u001b[39;49m\u001b[43m)\u001b[49m\u001b[43m]\u001b[49m\u001b[43m)\u001b[49m\n",
      "File \u001b[0;32m~/condmat/lightcones_2024/infinite_dmrg.3/lightcones/venv/lib/python3.11/site-packages/lightcones/linalg/__init__.py:194\u001b[0m, in \u001b[0;36mkron\u001b[0;34m(a, b)\u001b[0m\n\u001b[1;32m    191\u001b[0m \u001b[38;5;28;01mif\u001b[39;00m is_sparse_matrix(a) \u001b[38;5;129;01mand\u001b[39;00m is_list_of_any(b):\n\u001b[1;32m    192\u001b[0m     \u001b[38;5;28;01mreturn\u001b[39;00m kron_sparse_list(a, b)\n\u001b[0;32m--> 194\u001b[0m \u001b[38;5;28;01mraise\u001b[39;00m \u001b[38;5;167;01mException\u001b[39;00m(\u001b[38;5;124m'\u001b[39m\u001b[38;5;124mUnsupported types for kron\u001b[39m\u001b[38;5;124m'\u001b[39m)\n",
      "\u001b[0;31mException\u001b[0m: Unsupported types for kron"
     ]
    }
   ],
   "source": [
    "a_S = kron(parity_T, [g.a[s][0] for s in range(2)])"
   ]
  },
  {
   "cell_type": "code",
   "execution_count": 10,
   "metadata": {},
   "outputs": [
    {
     "data": {
      "text/plain": [
       "<Compressed Sparse Column sparse matrix of dtype 'complex128'\n",
       "\twith 21539 stored elements and shape (256, 100)>"
      ]
     },
     "execution_count": 10,
     "metadata": {},
     "output_type": "execute_result"
    }
   ],
   "source": [
    "T"
   ]
  },
  {
   "cell_type": "code",
   "execution_count": 11,
   "metadata": {},
   "outputs": [
    {
     "data": {
      "text/plain": [
       "<Compressed Sparse Row sparse matrix of dtype 'complex128'\n",
       "\twith 21539 stored elements and shape (100, 256)>"
      ]
     },
     "execution_count": 11,
     "metadata": {},
     "output_type": "execute_result"
    }
   ],
   "source": [
    "T_dag"
   ]
  },
  {
   "cell_type": "code",
   "execution_count": 9,
   "metadata": {},
   "outputs": [
    {
     "data": {
      "text/plain": [
       "<Compressed Sparse Column sparse matrix of dtype 'float64'\n",
       "\twith 256 stored elements and shape (256, 256)>"
      ]
     },
     "execution_count": 9,
     "metadata": {},
     "output_type": "execute_result"
    }
   ],
   "source": [
    "f.parity"
   ]
  },
  {
   "cell_type": "code",
   "execution_count": 8,
   "metadata": {},
   "outputs": [
    {
     "data": {
      "text/plain": [
       "<Compressed Sparse Row sparse matrix of dtype 'complex128'\n",
       "\twith 9802 stored elements and shape (100, 100)>"
      ]
     },
     "execution_count": 8,
     "metadata": {},
     "output_type": "execute_result"
    }
   ],
   "source": [
    "parity_T"
   ]
  },
  {
   "cell_type": "code",
   "execution_count": 3,
   "metadata": {},
   "outputs": [
    {
     "ename": "Exception",
     "evalue": "Unsupported types for kron",
     "output_type": "error",
     "traceback": [
      "\u001b[0;31m---------------------------------------------------------------------------\u001b[0m",
      "\u001b[0;31mException\u001b[0m                                 Traceback (most recent call last)",
      "Cell \u001b[0;32mIn[3], line 1\u001b[0m\n\u001b[0;32m----> 1\u001b[0m a_T_ \u001b[38;5;241m=\u001b[39m \u001b[43mkron\u001b[49m\u001b[43m(\u001b[49m\u001b[43ma_T\u001b[49m\u001b[43m,\u001b[49m\u001b[43m \u001b[49m\u001b[43mg\u001b[49m\u001b[38;5;241;43m.\u001b[39;49m\u001b[43meye\u001b[49m\u001b[43m)\u001b[49m\n",
      "File \u001b[0;32m~/condmat/lightcones_2024/infinite_dmrg.3/lightcones/venv/lib/python3.11/site-packages/lightcones/linalg/__init__.py:186\u001b[0m, in \u001b[0;36mkron\u001b[0;34m(a, b)\u001b[0m\n\u001b[1;32m    183\u001b[0m     \u001b[38;5;28;01mreturn\u001b[39;00m kron_list2_list2(a, b)\n\u001b[1;32m    185\u001b[0m \u001b[38;5;28;01mif\u001b[39;00m is_list_of_any(a) \u001b[38;5;129;01mand\u001b[39;00m is_sparse_matrix(b):\n\u001b[0;32m--> 186\u001b[0m     \u001b[38;5;28;01mreturn\u001b[39;00m \u001b[43mkron_list_sparse\u001b[49m\u001b[43m(\u001b[49m\u001b[43ma\u001b[49m\u001b[43m,\u001b[49m\u001b[43m \u001b[49m\u001b[43mb\u001b[49m\u001b[43m)\u001b[49m\n\u001b[1;32m    188\u001b[0m \u001b[38;5;28;01mif\u001b[39;00m is_list_of_any(a) \u001b[38;5;129;01mand\u001b[39;00m is_list_of_any(b):\n\u001b[1;32m    189\u001b[0m     \u001b[38;5;28;01mreturn\u001b[39;00m kron_list_list(a, b)\n",
      "File \u001b[0;32m~/condmat/lightcones_2024/infinite_dmrg.3/lightcones/venv/lib/python3.11/site-packages/lightcones/linalg/__init__.py:136\u001b[0m, in \u001b[0;36mkron_list_sparse\u001b[0;34m(a, b)\u001b[0m\n\u001b[1;32m    134\u001b[0m n \u001b[38;5;241m=\u001b[39m \u001b[38;5;28mlen\u001b[39m(a)\n\u001b[1;32m    135\u001b[0m \u001b[38;5;28;01mfor\u001b[39;00m i \u001b[38;5;129;01min\u001b[39;00m \u001b[38;5;28mrange\u001b[39m(n):\n\u001b[0;32m--> 136\u001b[0m     kr\u001b[38;5;241m.\u001b[39mappend(\u001b[43mkron\u001b[49m\u001b[43m(\u001b[49m\u001b[43ma\u001b[49m\u001b[43m[\u001b[49m\u001b[43mi\u001b[49m\u001b[43m]\u001b[49m\u001b[43m,\u001b[49m\u001b[43m \u001b[49m\u001b[43mb\u001b[49m\u001b[43m)\u001b[49m)\n\u001b[1;32m    138\u001b[0m \u001b[38;5;28;01mreturn\u001b[39;00m kr\n",
      "File \u001b[0;32m~/condmat/lightcones_2024/infinite_dmrg.3/lightcones/venv/lib/python3.11/site-packages/lightcones/linalg/__init__.py:194\u001b[0m, in \u001b[0;36mkron\u001b[0;34m(a, b)\u001b[0m\n\u001b[1;32m    191\u001b[0m \u001b[38;5;28;01mif\u001b[39;00m is_sparse_matrix(a) \u001b[38;5;129;01mand\u001b[39;00m is_list_of_any(b):\n\u001b[1;32m    192\u001b[0m     \u001b[38;5;28;01mreturn\u001b[39;00m kron_sparse_list(a, b)\n\u001b[0;32m--> 194\u001b[0m \u001b[38;5;28;01mraise\u001b[39;00m \u001b[38;5;167;01mException\u001b[39;00m(\u001b[38;5;124m'\u001b[39m\u001b[38;5;124mUnsupported types for kron\u001b[39m\u001b[38;5;124m'\u001b[39m)\n",
      "\u001b[0;31mException\u001b[0m: Unsupported types for kron"
     ]
    }
   ],
   "source": [
    "a_T_ = kron(a_T, g.eye)"
   ]
  },
  {
   "cell_type": "code",
   "execution_count": 4,
   "metadata": {},
   "outputs": [
    {
     "data": {
      "text/plain": [
       "<Compressed Sparse Column sparse matrix of dtype 'float64'\n",
       "\twith 4 stored elements and shape (4, 4)>"
      ]
     },
     "execution_count": 4,
     "metadata": {},
     "output_type": "execute_result"
    }
   ],
   "source": [
    "g.eye"
   ]
  },
  {
   "cell_type": "code",
   "execution_count": 5,
   "metadata": {},
   "outputs": [
    {
     "data": {
      "text/plain": [
       "[array([[-5.53213328e-18+0.j,  5.63835956e-18+0.j,  1.31505284e-17+0.j,\n",
       "         ..., -2.48265053e-09+0.j, -4.33333432e-09+0.j,\n",
       "         -1.45791600e-08+0.j],\n",
       "        [ 5.13613778e-01+0.j,  6.25612326e-16+0.j,  1.58979287e-13+0.j,\n",
       "         ...,  1.75940207e-06+0.j, -3.45751545e-06+0.j,\n",
       "          8.36257890e-06+0.j],\n",
       "        [-1.96601364e-03+0.j,  8.99932045e-17+0.j, -5.90317161e-16+0.j,\n",
       "         ..., -2.36680590e-05+0.j, -1.82980949e-05+0.j,\n",
       "         -8.55664372e-06+0.j],\n",
       "        ...,\n",
       "        [-2.87613855e-09+0.j, -7.72047188e-07+0.j, -8.78948754e-05+0.j,\n",
       "         ..., -1.04299613e-02+0.j,  2.17782286e-02+0.j,\n",
       "         -7.20550004e-02+0.j],\n",
       "        [-5.66488830e-08+0.j, -2.16150237e-07+0.j, -4.58175553e-05+0.j,\n",
       "         ..., -2.72613784e-02+0.j,  5.40979269e-02+0.j,\n",
       "         -9.15065830e-02+0.j],\n",
       "        [ 2.30361961e-08+0.j,  1.65705939e-07+0.j, -1.08476565e-05+0.j,\n",
       "         ...,  1.58975803e-03+0.j, -1.92734273e-02+0.j,\n",
       "          7.93118654e-03+0.j]]),\n",
       " array([[-1.06689230e-17+0.j,  1.87117882e-17+0.j,  1.41591946e-17+0.j,\n",
       "         ...,  1.52240978e-09+0.j, -6.74073435e-10+0.j,\n",
       "          3.94399665e-09+0.j],\n",
       "        [-1.96599434e-03+0.j, -1.04174309e-16+0.j, -5.53680192e-16+0.j,\n",
       "         ..., -1.26621888e-05+0.j, -5.98321696e-06+0.j,\n",
       "         -4.50165615e-05+0.j],\n",
       "        [-5.13613778e-01+0.j, -5.94750241e-16+0.j, -1.58618649e-13+0.j,\n",
       "         ..., -1.31217909e-05+0.j, -2.42376201e-06+0.j,\n",
       "          1.87342815e-06+0.j],\n",
       "        ...,\n",
       "        [ 1.20862114e-07+0.j, -8.76061684e-05+0.j,  6.05252557e-07+0.j,\n",
       "         ..., -1.08208380e-01+0.j,  3.14099341e-02+0.j,\n",
       "         -7.13342747e-03+0.j],\n",
       "        [-2.65741712e-08+0.j, -4.62824570e-05+0.j, -3.21849609e-08+0.j,\n",
       "         ..., -2.22672971e-02+0.j, -1.06969526e-01+0.j,\n",
       "         -1.23118889e-01+0.j],\n",
       "        [-6.25535727e-08+0.j, -1.08297250e-05+0.j, -1.39470206e-07+0.j,\n",
       "         ...,  4.13867875e-02+0.j, -8.27865842e-02+0.j,\n",
       "         -7.15253230e-02+0.j]])]"
      ]
     },
     "execution_count": 5,
     "metadata": {},
     "output_type": "execute_result"
    }
   ],
   "source": [
    "a_T"
   ]
  },
  {
   "cell_type": "code",
   "execution_count": 2,
   "metadata": {},
   "outputs": [
    {
     "data": {
      "text/plain": [
       "[<Compressed Sparse Column sparse matrix of dtype 'complex128'\n",
       " \twith 19604 stored elements and shape (400, 400)>,\n",
       " <Compressed Sparse Column sparse matrix of dtype 'complex128'\n",
       " \twith 19604 stored elements and shape (400, 400)>]"
      ]
     },
     "execution_count": 2,
     "metadata": {},
     "output_type": "execute_result"
    }
   ],
   "source": [
    "kron(parity_T, [g.a[s][0] for s in range(2)])"
   ]
  },
  {
   "cell_type": "code",
   "execution_count": 19,
   "metadata": {},
   "outputs": [
    {
     "name": "stdout",
     "output_type": "stream",
     "text": [
      "<class 'numpy.ndarray'>\n"
     ]
    }
   ],
   "source": [
    "print(type(parity_T))"
   ]
  },
  {
   "cell_type": "code",
   "execution_count": 25,
   "metadata": {},
   "outputs": [],
   "source": [
    "import scipy\n",
    "import numpy"
   ]
  },
  {
   "cell_type": "code",
   "execution_count": 26,
   "metadata": {},
   "outputs": [],
   "source": [
    "def is_sparse_matrix(a):\n",
    "    if isinstance(a, scipy.sparse.csc_matrix):\n",
    "        return True\n",
    "    if isinstance(a, numpy.ndarray) and a.ndim == 2:\n",
    "        return True"
   ]
  },
  {
   "cell_type": "code",
   "execution_count": 27,
   "metadata": {},
   "outputs": [
    {
     "data": {
      "text/plain": [
       "True"
      ]
     },
     "execution_count": 27,
     "metadata": {},
     "output_type": "execute_result"
    }
   ],
   "source": [
    "is_sparse_matrix(parity_T)"
   ]
  },
  {
   "cell_type": "code",
   "execution_count": 17,
   "metadata": {},
   "outputs": [
    {
     "data": {
      "text/plain": [
       "array([[ 1.00000000e+00+0.j,  1.02565360e-17+0.j, -5.15329956e-17+0.j,\n",
       "        ...,  3.46944695e-18+0.j, -8.67361738e-19+0.j,\n",
       "        -4.33680869e-18+0.j],\n",
       "       [ 1.02565360e-17+0.j, -1.00000000e+00+0.j,  1.52330405e-17+0.j,\n",
       "        ...,  5.26254371e-17+0.j,  9.46401767e-17+0.j,\n",
       "        -1.24024952e-17+0.j],\n",
       "       [-5.15329956e-17+0.j,  1.52330405e-17+0.j, -1.00000000e+00+0.j,\n",
       "        ..., -5.46388830e-16+0.j, -4.40976505e-17+0.j,\n",
       "         2.79783261e-17+0.j],\n",
       "       ...,\n",
       "       [ 3.46944695e-18+0.j,  5.26254371e-17+0.j, -5.46388830e-16+0.j,\n",
       "        ..., -4.22686088e-01+0.j,  3.86737198e-01+0.j,\n",
       "         4.28768176e-02+0.j],\n",
       "       [-8.67361738e-19+0.j,  9.46401767e-17+0.j, -4.40976505e-17+0.j,\n",
       "        ...,  3.86737198e-01+0.j, -2.14610628e-01+0.j,\n",
       "         1.05354078e-01+0.j],\n",
       "       [-4.33680869e-18+0.j, -1.24024952e-17+0.j,  2.79783261e-17+0.j,\n",
       "        ...,  4.28768176e-02+0.j,  1.05354078e-01+0.j,\n",
       "        -6.65462964e-01+0.j]])"
      ]
     },
     "execution_count": 17,
     "metadata": {},
     "output_type": "execute_result"
    }
   ],
   "source": [
    "parity_T"
   ]
  },
  {
   "cell_type": "code",
   "execution_count": 18,
   "metadata": {},
   "outputs": [
    {
     "data": {
      "text/plain": [
       "[<Compressed Sparse Column sparse matrix of dtype 'complex128'\n",
       " \twith 2 stored elements and shape (4, 4)>,\n",
       " <Compressed Sparse Column sparse matrix of dtype 'complex128'\n",
       " \twith 2 stored elements and shape (4, 4)>]"
      ]
     },
     "execution_count": 18,
     "metadata": {},
     "output_type": "execute_result"
    }
   ],
   "source": [
    "[g.a[s][0] for s in range(2)]"
   ]
  },
  {
   "cell_type": "code",
   "execution_count": 2,
   "metadata": {},
   "outputs": [],
   "source": [
    "import numpy as np"
   ]
  },
  {
   "cell_type": "code",
   "execution_count": 16,
   "metadata": {},
   "outputs": [],
   "source": [
    "psi = np.zeros(f.fermions.states.dimension ** 4, dtype = complex)\n",
    "psi[:] = 1.0 \n"
   ]
  },
  {
   "cell_type": "code",
   "execution_count": 11,
   "metadata": {},
   "outputs": [
    {
     "data": {
      "text/plain": [
       "65536"
      ]
     },
     "execution_count": 11,
     "metadata": {},
     "output_type": "execute_result"
    }
   ],
   "source": [
    "f.fermions.states.dimension ** 4"
   ]
  },
  {
   "cell_type": "code",
   "execution_count": 9,
   "metadata": {},
   "outputs": [
    {
     "data": {
      "text/plain": [
       "<Compressed Sparse Column sparse matrix of dtype 'complex128'\n",
       "\twith 648799 stored elements and shape (65536, 65536)>"
      ]
     },
     "execution_count": 9,
     "metadata": {},
     "output_type": "execute_result"
    }
   ],
   "source": [
    "H_SE"
   ]
  },
  {
   "cell_type": "code",
   "execution_count": 21,
   "metadata": {},
   "outputs": [],
   "source": [
    "import math"
   ]
  },
  {
   "cell_type": "code",
   "execution_count": 23,
   "metadata": {},
   "outputs": [],
   "source": [
    "for i in range(100):\n",
    "    psi = H_SE @ psi\n",
    "    psi = psi / math.sqrt(np.vdot(psi, psi).real)"
   ]
  },
  {
   "cell_type": "code",
   "execution_count": null,
   "metadata": {},
   "outputs": [],
   "source": []
  },
  {
   "cell_type": "code",
   "execution_count": 7,
   "metadata": {},
   "outputs": [
    {
     "ename": "KeyboardInterrupt",
     "evalue": "",
     "output_type": "error",
     "traceback": [
      "\u001b[0;31m---------------------------------------------------------------------------\u001b[0m",
      "\u001b[0;31mKeyboardInterrupt\u001b[0m                         Traceback (most recent call last)",
      "Cell \u001b[0;32mIn[7], line 2\u001b[0m\n\u001b[1;32m      1\u001b[0m \u001b[38;5;28;01mfrom\u001b[39;00m \u001b[38;5;21;01mscipy\u001b[39;00m\u001b[38;5;21;01m.\u001b[39;00m\u001b[38;5;21;01msparse\u001b[39;00m\u001b[38;5;21;01m.\u001b[39;00m\u001b[38;5;21;01mlinalg\u001b[39;00m \u001b[38;5;28;01mimport\u001b[39;00m eigsh\n\u001b[0;32m----> 2\u001b[0m E_GND, Psi_GND \u001b[38;5;241m=\u001b[39m \u001b[43meigsh\u001b[49m\u001b[43m(\u001b[49m\u001b[43mH_SE\u001b[49m\u001b[43m,\u001b[49m\u001b[43m \u001b[49m\u001b[43mk\u001b[49m\u001b[38;5;241;43m=\u001b[39;49m\u001b[38;5;241;43m1\u001b[39;49m\u001b[43m,\u001b[49m\u001b[43m \u001b[49m\u001b[43mwhich\u001b[49m\u001b[38;5;241;43m=\u001b[39;49m\u001b[38;5;124;43m'\u001b[39;49m\u001b[38;5;124;43mSM\u001b[39;49m\u001b[38;5;124;43m'\u001b[39;49m\u001b[43m)\u001b[49m\n",
      "File \u001b[0;32m~/condmat/lightcones_2024/infinite_dmrg.3/lightcones/venv/lib/python3.11/site-packages/scipy/sparse/linalg/_eigen/arpack/arpack.py:1577\u001b[0m, in \u001b[0;36meigsh\u001b[0;34m(A, k, M, sigma, which, v0, ncv, maxiter, tol, return_eigenvectors, Minv, OPinv, mode)\u001b[0m\n\u001b[1;32m   1575\u001b[0m \u001b[38;5;28;01melif\u001b[39;00m which \u001b[38;5;241m==\u001b[39m \u001b[38;5;124m'\u001b[39m\u001b[38;5;124mSA\u001b[39m\u001b[38;5;124m'\u001b[39m:\n\u001b[1;32m   1576\u001b[0m     which \u001b[38;5;241m=\u001b[39m \u001b[38;5;124m'\u001b[39m\u001b[38;5;124mSR\u001b[39m\u001b[38;5;124m'\u001b[39m\n\u001b[0;32m-> 1577\u001b[0m ret \u001b[38;5;241m=\u001b[39m \u001b[43meigs\u001b[49m\u001b[43m(\u001b[49m\u001b[43mA\u001b[49m\u001b[43m,\u001b[49m\u001b[43m \u001b[49m\u001b[43mk\u001b[49m\u001b[43m,\u001b[49m\u001b[43m \u001b[49m\u001b[43mM\u001b[49m\u001b[38;5;241;43m=\u001b[39;49m\u001b[43mM\u001b[49m\u001b[43m,\u001b[49m\u001b[43m \u001b[49m\u001b[43msigma\u001b[49m\u001b[38;5;241;43m=\u001b[39;49m\u001b[43msigma\u001b[49m\u001b[43m,\u001b[49m\u001b[43m \u001b[49m\u001b[43mwhich\u001b[49m\u001b[38;5;241;43m=\u001b[39;49m\u001b[43mwhich\u001b[49m\u001b[43m,\u001b[49m\u001b[43m \u001b[49m\u001b[43mv0\u001b[49m\u001b[38;5;241;43m=\u001b[39;49m\u001b[43mv0\u001b[49m\u001b[43m,\u001b[49m\n\u001b[1;32m   1578\u001b[0m \u001b[43m           \u001b[49m\u001b[43mncv\u001b[49m\u001b[38;5;241;43m=\u001b[39;49m\u001b[43mncv\u001b[49m\u001b[43m,\u001b[49m\u001b[43m \u001b[49m\u001b[43mmaxiter\u001b[49m\u001b[38;5;241;43m=\u001b[39;49m\u001b[43mmaxiter\u001b[49m\u001b[43m,\u001b[49m\u001b[43m \u001b[49m\u001b[43mtol\u001b[49m\u001b[38;5;241;43m=\u001b[39;49m\u001b[43mtol\u001b[49m\u001b[43m,\u001b[49m\n\u001b[1;32m   1579\u001b[0m \u001b[43m           \u001b[49m\u001b[43mreturn_eigenvectors\u001b[49m\u001b[38;5;241;43m=\u001b[39;49m\u001b[43mreturn_eigenvectors\u001b[49m\u001b[43m,\u001b[49m\u001b[43m \u001b[49m\u001b[43mMinv\u001b[49m\u001b[38;5;241;43m=\u001b[39;49m\u001b[43mMinv\u001b[49m\u001b[43m,\u001b[49m\n\u001b[1;32m   1580\u001b[0m \u001b[43m           \u001b[49m\u001b[43mOPinv\u001b[49m\u001b[38;5;241;43m=\u001b[39;49m\u001b[43mOPinv\u001b[49m\u001b[43m)\u001b[49m\n\u001b[1;32m   1582\u001b[0m \u001b[38;5;28;01mif\u001b[39;00m return_eigenvectors:\n\u001b[1;32m   1583\u001b[0m     \u001b[38;5;28;01mreturn\u001b[39;00m ret[\u001b[38;5;241m0\u001b[39m]\u001b[38;5;241m.\u001b[39mreal, ret[\u001b[38;5;241m1\u001b[39m]\n",
      "File \u001b[0;32m~/condmat/lightcones_2024/infinite_dmrg.3/lightcones/venv/lib/python3.11/site-packages/scipy/sparse/linalg/_eigen/arpack/arpack.py:1355\u001b[0m, in \u001b[0;36meigs\u001b[0;34m(A, k, M, sigma, which, v0, ncv, maxiter, tol, return_eigenvectors, Minv, OPinv, OPpart)\u001b[0m\n\u001b[1;32m   1353\u001b[0m \u001b[38;5;28;01mwith\u001b[39;00m _ARPACK_LOCK:\n\u001b[1;32m   1354\u001b[0m     \u001b[38;5;28;01mwhile\u001b[39;00m \u001b[38;5;129;01mnot\u001b[39;00m params\u001b[38;5;241m.\u001b[39mconverged:\n\u001b[0;32m-> 1355\u001b[0m         \u001b[43mparams\u001b[49m\u001b[38;5;241;43m.\u001b[39;49m\u001b[43miterate\u001b[49m\u001b[43m(\u001b[49m\u001b[43m)\u001b[49m\n\u001b[1;32m   1357\u001b[0m     \u001b[38;5;28;01mreturn\u001b[39;00m params\u001b[38;5;241m.\u001b[39mextract(return_eigenvectors)\n",
      "File \u001b[0;32m~/condmat/lightcones_2024/infinite_dmrg.3/lightcones/venv/lib/python3.11/site-packages/scipy/sparse/linalg/_eigen/arpack/arpack.py:730\u001b[0m, in \u001b[0;36m_UnsymmetricArpackParams.iterate\u001b[0;34m(self)\u001b[0m\n\u001b[1;32m    726\u001b[0m     \u001b[38;5;28mself\u001b[39m\u001b[38;5;241m.\u001b[39mido, \u001b[38;5;28mself\u001b[39m\u001b[38;5;241m.\u001b[39mtol, \u001b[38;5;28mself\u001b[39m\u001b[38;5;241m.\u001b[39mresid, \u001b[38;5;28mself\u001b[39m\u001b[38;5;241m.\u001b[39mv, \\\n\u001b[1;32m    727\u001b[0m         \u001b[38;5;28mself\u001b[39m\u001b[38;5;241m.\u001b[39miparam, \u001b[38;5;28mself\u001b[39m\u001b[38;5;241m.\u001b[39mipntr, \u001b[38;5;28mself\u001b[39m\u001b[38;5;241m.\u001b[39minfo \u001b[38;5;241m=\u001b[39m results\n\u001b[1;32m    729\u001b[0m \u001b[38;5;28;01melse\u001b[39;00m:\n\u001b[0;32m--> 730\u001b[0m     results \u001b[38;5;241m=\u001b[39m \u001b[38;5;28;43mself\u001b[39;49m\u001b[38;5;241;43m.\u001b[39;49m\u001b[43m_arpack_solver\u001b[49m\u001b[43m(\u001b[49m\u001b[38;5;28;43mself\u001b[39;49m\u001b[38;5;241;43m.\u001b[39;49m\u001b[43mido\u001b[49m\u001b[43m,\u001b[49m\u001b[43m \u001b[49m\u001b[38;5;28;43mself\u001b[39;49m\u001b[38;5;241;43m.\u001b[39;49m\u001b[43mbmat\u001b[49m\u001b[43m,\u001b[49m\u001b[43m \u001b[49m\u001b[38;5;28;43mself\u001b[39;49m\u001b[38;5;241;43m.\u001b[39;49m\u001b[43mwhich\u001b[49m\u001b[43m,\u001b[49m\u001b[43m \u001b[49m\u001b[38;5;28;43mself\u001b[39;49m\u001b[38;5;241;43m.\u001b[39;49m\u001b[43mk\u001b[49m\u001b[43m,\u001b[49m\n\u001b[1;32m    731\u001b[0m \u001b[43m                                  \u001b[49m\u001b[38;5;28;43mself\u001b[39;49m\u001b[38;5;241;43m.\u001b[39;49m\u001b[43mtol\u001b[49m\u001b[43m,\u001b[49m\u001b[43m \u001b[49m\u001b[38;5;28;43mself\u001b[39;49m\u001b[38;5;241;43m.\u001b[39;49m\u001b[43mresid\u001b[49m\u001b[43m,\u001b[49m\u001b[43m \u001b[49m\u001b[38;5;28;43mself\u001b[39;49m\u001b[38;5;241;43m.\u001b[39;49m\u001b[43mv\u001b[49m\u001b[43m,\u001b[49m\u001b[43m \u001b[49m\u001b[38;5;28;43mself\u001b[39;49m\u001b[38;5;241;43m.\u001b[39;49m\u001b[43miparam\u001b[49m\u001b[43m,\u001b[49m\n\u001b[1;32m    732\u001b[0m \u001b[43m                                  \u001b[49m\u001b[38;5;28;43mself\u001b[39;49m\u001b[38;5;241;43m.\u001b[39;49m\u001b[43mipntr\u001b[49m\u001b[43m,\u001b[49m\u001b[43m \u001b[49m\u001b[38;5;28;43mself\u001b[39;49m\u001b[38;5;241;43m.\u001b[39;49m\u001b[43mworkd\u001b[49m\u001b[43m,\u001b[49m\u001b[43m \u001b[49m\u001b[38;5;28;43mself\u001b[39;49m\u001b[38;5;241;43m.\u001b[39;49m\u001b[43mworkl\u001b[49m\u001b[43m,\u001b[49m\n\u001b[1;32m    733\u001b[0m \u001b[43m                                  \u001b[49m\u001b[38;5;28;43mself\u001b[39;49m\u001b[38;5;241;43m.\u001b[39;49m\u001b[43mrwork\u001b[49m\u001b[43m,\u001b[49m\u001b[43m \u001b[49m\u001b[38;5;28;43mself\u001b[39;49m\u001b[38;5;241;43m.\u001b[39;49m\u001b[43minfo\u001b[49m\u001b[43m)\u001b[49m\n\u001b[1;32m    734\u001b[0m     \u001b[38;5;28mself\u001b[39m\u001b[38;5;241m.\u001b[39mido, \u001b[38;5;28mself\u001b[39m\u001b[38;5;241m.\u001b[39mtol, \u001b[38;5;28mself\u001b[39m\u001b[38;5;241m.\u001b[39mresid, \u001b[38;5;28mself\u001b[39m\u001b[38;5;241m.\u001b[39mv, \\\n\u001b[1;32m    735\u001b[0m         \u001b[38;5;28mself\u001b[39m\u001b[38;5;241m.\u001b[39miparam, \u001b[38;5;28mself\u001b[39m\u001b[38;5;241m.\u001b[39mipntr, \u001b[38;5;28mself\u001b[39m\u001b[38;5;241m.\u001b[39minfo \u001b[38;5;241m=\u001b[39m results\n\u001b[1;32m    738\u001b[0m xslice \u001b[38;5;241m=\u001b[39m \u001b[38;5;28mslice\u001b[39m(\u001b[38;5;28mself\u001b[39m\u001b[38;5;241m.\u001b[39mipntr[\u001b[38;5;241m0\u001b[39m] \u001b[38;5;241m-\u001b[39m \u001b[38;5;241m1\u001b[39m, \u001b[38;5;28mself\u001b[39m\u001b[38;5;241m.\u001b[39mipntr[\u001b[38;5;241m0\u001b[39m] \u001b[38;5;241m-\u001b[39m \u001b[38;5;241m1\u001b[39m \u001b[38;5;241m+\u001b[39m \u001b[38;5;28mself\u001b[39m\u001b[38;5;241m.\u001b[39mn)\n",
      "\u001b[0;31mKeyboardInterrupt\u001b[0m: "
     ]
    }
   ],
   "source": [
    "from scipy.sparse.linalg import eigsh\n",
    "E_GND, Psi_GND = eigsh(H_SE, k=1, which='SM')"
   ]
  },
  {
   "cell_type": "code",
   "execution_count": null,
   "metadata": {},
   "outputs": [],
   "source": [
    "import lightcones.linalg as la\n",
    "from lightcones.linalg import kron\n",
    "\n",
    "U = 1\n",
    "t = 0.05\n",
    "\n",
    "#eps_cut = 0.00001\n",
    "\n",
    "num_iterations = 100\n",
    "\n",
    "m = 100\n",
    "l = 5 + 1\n",
    "\n",
    "# iteration 0: preparatory\n",
    "\n",
    "# left subsystem\n",
    "\n",
    "f = spinfull_fermions(l)\n",
    "\n",
    "H_hopp = sum([sum([- t * (f.a_dag[s][i] @ f.a[s][i - 1] + f.a_dag[s][i - 1] @ f.a[s][i]) for s in range(2)]) for i in range(l)])\n",
    "H_S = H_hopp + sum([U * f.n[0][i] @ f.n[1][i] for i in range(l)])\n",
    "\n",
    "H_S_ = kron(H, f.eye)\n",
    "\n",
    "a_S = f.a[:][-1]\n",
    "a_S_dag = f.a_dag[:][-1]\n",
    "\n",
    "a_S_ = kron(a_S, f.eye)\n",
    "a_S_dag_ = kron(a_S_dag, f.eye)\n",
    "\n",
    "# right subsystem\n",
    "\n",
    "# fermion Hamiltonian is always even\n",
    "H_E_ = kron(f.eye, H_S)\n",
    "\n",
    "# a and a_dag are odd operators\n",
    "a_E_ = kron(f.parity, a_S)\n",
    "a_E_dag_ = kron(f.parity, a_S_dag)\n",
    "\n",
    "# joint system Hamiltonian\n",
    "\n",
    "H_SE = H_S_ + H_E_ - sum([t * (a_E_dag_[s] @ a_S_[s] + a_S_dag_[s] @ a_E_[s]) for s in range(2)])\n",
    "\n",
    "# now start regular iterations\n",
    "\n",
    "for i in range(num_iterations):\n",
    "\n",
    "    # find ground state\n",
    "    \n",
    "    from scipy.sparse.linalg import eigsh\n",
    "    E_GND, Psi_GND = eigsh(H_SE, k=1, which='SM')\n",
    "\n",
    "    # partial trace\n",
    "\n",
    "    r = reduce_bipartite(f.states.dimension, f.state_dimension, trace_over = 'R')\n",
    "\n",
    "    rho = r(Psi_GND)\n",
    "\n",
    "    # find eigenvalues sorted in ascending order\n",
    "\n",
    "    pi, T = la.find_eigs_descending(rho)\n",
    "\n",
    "    # keep only m largest eigenstates\n",
    "    # columns are eigenstates\n",
    "    T = T[:, : m] \n",
    "\n",
    "    # switch to the frame of revelant eigenstates\n",
    "    T_dag = T.conj().T\n",
    "    H_T = T_dag @ H_S @ T\n",
    "\n",
    "    a_T = [T_dag @ a_S[s] @ T for s in range(2)]\n",
    "    a_T_dag = [T_dag @ a_S_dag[s] @ T for s in range(2)]\n",
    "\n",
    "    # new parity operator\n",
    "    parity_T = T_dag @ f.parity @ T\n",
    "    eye_T = la.eye(m)\n",
    "    \n",
    "    # add new site\n",
    "    \n",
    "    g = spinfull_fermions(1)\n",
    "    \n",
    "    # a and a_dag are odd operators\n",
    "    a_S = kron(parity_T, g.a)\n",
    "    a_S_dag = kron(parity_T, g.a_dag)\n",
    "    \n",
    "    a_T_ = kron(a_T, g.eye)\n",
    "    a_T_dag_ = kron(a_T_dag, g.eye)\n",
    "    \n",
    "    # n is even operator\n",
    "    n_ = kron(eye_T, g.n[:, 0])\n",
    "        \n",
    "    H_S = H_T - t * sum([a_S_dag[s] @ a_T_[s] + a_T_dag_[s] @ a_S[s] for s in range(2)]) + U * n_[0] @ n_[1]\n",
    "    \n",
    "    eye_T_ = kron(eye_T, g.eye)\n",
    "    \n",
    "    # left subsystem\n",
    "    \n",
    "    H_S_ = kron(H_S, eye_T_)\n",
    "    \n",
    "    a_S_ = kron(a_S, eye_T_)\n",
    "    a_S_dag_ = kron(a_S_dag, eye_T_)\n",
    "\n",
    "    # right subsystem\n",
    "\n",
    "    parity_T_ = kron(parity_T, g.parity)\n",
    "\n",
    "    # fermion Hamiltonian is always even\n",
    "    H_E_ = kron(eye_T_, H_S)\n",
    "\n",
    "    # a and a_dag are odd operators\n",
    "    a_E_ = kron(parity_T_, a_S)\n",
    "    a_E_dag_ = kron(parity_T_, a_S_dag)\n",
    "    \n",
    "    # joint system Hamiltonian\n",
    "\n",
    "    H_SE = H_S_ + H_E_ - sum([t * (a_E_dag_[s] @ a_S_[s] + a_S_dag_[s] @ a_E_[s]) for s in range(2)])\n",
    "\n",
    "\n",
    "    \n",
    "    \n",
    "    \n",
    "    \n",
    "\n",
    "\n",
    "\n",
    "\n",
    "\n"
   ]
  },
  {
   "cell_type": "code",
   "execution_count": null,
   "metadata": {},
   "outputs": [],
   "source": [
    "f = spinfull_fermions(n_modes)\n",
    "\n",
    "f.states.state_at()\n",
    "f.states.index_of()\n",
    "\n",
    "f.vac()\n",
    "\n",
    "f.up.a[i]\n",
    "f.up.a_dag[i]\n",
    "\n",
    "f.down.a[i]\n",
    "f.down.a_dag[i]\n",
    "\n",
    "f.a[s,i] # s = 0 (up) 1 (down)\n",
    "f.a_dag[s, i]\n",
    "\n",
    "f.n[s, i]\n",
    "\n",
    "f.parity\n",
    "\n",
    "f.zero\n",
    "\n",
    "f.eye"
   ]
  },
  {
   "cell_type": "code",
   "execution_count": null,
   "metadata": {},
   "outputs": [],
   "source": [
    "import numpy as np\n",
    "\n",
    "array = np.empty((3, 3), dtype=object)\n",
    "array[0, 0] = Node(...)"
   ]
  }
 ],
 "metadata": {
  "kernelspec": {
   "display_name": "Python 3",
   "language": "python",
   "name": "python3"
  },
  "language_info": {
   "codemirror_mode": {
    "name": "ipython",
    "version": 3
   },
   "file_extension": ".py",
   "mimetype": "text/x-python",
   "name": "python",
   "nbconvert_exporter": "python",
   "pygments_lexer": "ipython3",
   "version": "3.11.5"
  }
 },
 "nbformat": 4,
 "nbformat_minor": 2
}
