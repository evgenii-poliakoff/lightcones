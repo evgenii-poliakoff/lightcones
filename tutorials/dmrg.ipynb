{
 "cells": [
  {
   "cell_type": "code",
   "execution_count": 1,
   "metadata": {},
   "outputs": [],
   "source": [
    "import lightcones.linalg as ll\n",
    "from lightcones.linalg import kron\n",
    "from lightcones.models import spinfull_fermions\n",
    "\n",
    "\n",
    "U = 1\n",
    "t = 0.05\n",
    "\n",
    "num_iterations = 100\n",
    "\n",
    "m = 100\n",
    "l = 3 + 1\n",
    "\n",
    "# iteration 0: preparatory\n",
    "\n",
    "# left subsystem\n",
    "\n",
    "f = spinfull_fermions(l)"
   ]
  },
  {
   "cell_type": "code",
   "execution_count": 2,
   "metadata": {},
   "outputs": [],
   "source": [
    "H_hopp = sum([sum([- t * (f.a_dag[s][i] @ f.a[s][i - 1] + f.a_dag[s][i - 1] @ f.a[s][i]) for s in range(2)]) for i in range(l)])\n",
    "H_S = H_hopp + sum([U * f.n[0][i] @ f.n[1][i] for i in range(l)])"
   ]
  },
  {
   "cell_type": "code",
   "execution_count": 3,
   "metadata": {},
   "outputs": [],
   "source": [
    "H_S_ = kron(H_S, f.eye)"
   ]
  },
  {
   "cell_type": "code",
   "execution_count": 4,
   "metadata": {},
   "outputs": [],
   "source": [
    "import scipy"
   ]
  },
  {
   "cell_type": "code",
   "execution_count": 5,
   "metadata": {},
   "outputs": [],
   "source": [
    "\n",
    "H_S_2 = scipy.sparse.kron(H_S, f.eye, format = 'csc')"
   ]
  },
  {
   "cell_type": "code",
   "execution_count": 6,
   "metadata": {},
   "outputs": [
    {
     "data": {
      "text/plain": [
       "<Compressed Sparse Column sparse matrix of dtype 'complex128'\n",
       "\twith 306944 stored elements and shape (65536, 65536)>"
      ]
     },
     "execution_count": 6,
     "metadata": {},
     "output_type": "execute_result"
    }
   ],
   "source": [
    "H_S_2"
   ]
  },
  {
   "cell_type": "code",
   "execution_count": 7,
   "metadata": {},
   "outputs": [],
   "source": [
    "a_S = f.a[:][-1]\n",
    "a_S_dag = f.a_dag[:][-1]"
   ]
  },
  {
   "cell_type": "code",
   "execution_count": 9,
   "metadata": {},
   "outputs": [
    {
     "data": {
      "text/plain": [
       "[<Compressed Sparse Column sparse matrix of dtype 'complex128'\n",
       " \twith 2048 stored elements and shape (4096, 4096)>,\n",
       " <Compressed Sparse Column sparse matrix of dtype 'complex128'\n",
       " \twith 2048 stored elements and shape (4096, 4096)>,\n",
       " <Compressed Sparse Column sparse matrix of dtype 'complex128'\n",
       " \twith 2048 stored elements and shape (4096, 4096)>,\n",
       " <Compressed Sparse Column sparse matrix of dtype 'complex128'\n",
       " \twith 2048 stored elements and shape (4096, 4096)>,\n",
       " <Compressed Sparse Column sparse matrix of dtype 'complex128'\n",
       " \twith 2048 stored elements and shape (4096, 4096)>,\n",
       " <Compressed Sparse Column sparse matrix of dtype 'complex128'\n",
       " \twith 2048 stored elements and shape (4096, 4096)>]"
      ]
     },
     "execution_count": 9,
     "metadata": {},
     "output_type": "execute_result"
    }
   ],
   "source": [
    "a_S"
   ]
  },
  {
   "cell_type": "code",
   "execution_count": 8,
   "metadata": {},
   "outputs": [],
   "source": [
    "a_S_ = kron(a_S, f.eye)"
   ]
  },
  {
   "cell_type": "code",
   "execution_count": 10,
   "metadata": {},
   "outputs": [],
   "source": [
    "a_S_dag_ = kron(a_S_dag, f.eye)"
   ]
  },
  {
   "cell_type": "code",
   "execution_count": 11,
   "metadata": {},
   "outputs": [],
   "source": [
    "H_E_ = kron(f.eye, H_S)"
   ]
  },
  {
   "cell_type": "code",
   "execution_count": 29,
   "metadata": {},
   "outputs": [
    {
     "name": "stdout",
     "output_type": "stream",
     "text": [
      "psi0 norm:\n",
      "(0.9999999999999983+0j)\n",
      "psi0 left part occupation:\n",
      "(3.9999999999999933+0j)\n",
      "E_GND =  [-0.03465369]\n",
      "Psi_GND norm:\n",
      "(1.0000000000000033+0j)\n",
      "probability norm:\n",
      "1.000000000000008\n",
      "Schmidt components:\n",
      "[9.02161892e-01 6.23253776e-02 1.94681965e-02 1.00040158e-02\n",
      " 1.83148190e-03 1.38405770e-03 5.95134507e-04 5.95134507e-04\n",
      " 5.95134507e-04 5.95134507e-04]\n",
      "Population of Schmidt components:\n",
      "[4. 4. 4. 4. 4. 4. 5. 5. 3. 3.]\n"
     ]
    },
    {
     "ename": "ValueError",
     "evalue": "dimension mismatch",
     "output_type": "error",
     "traceback": [
      "\u001b[0;31m---------------------------------------------------------------------------\u001b[0m",
      "\u001b[0;31mValueError\u001b[0m                                Traceback (most recent call last)",
      "Cell \u001b[0;32mIn[29], line 72\u001b[0m\n\u001b[1;32m     67\u001b[0m \u001b[38;5;66;03m# now start regular iterations\u001b[39;00m\n\u001b[1;32m     69\u001b[0m \u001b[38;5;28;01mfor\u001b[39;00m i \u001b[38;5;129;01min\u001b[39;00m \u001b[38;5;28mrange\u001b[39m(num_iterations):\n\u001b[1;32m     70\u001b[0m \n\u001b[1;32m     71\u001b[0m     \u001b[38;5;66;03m# find ground state\u001b[39;00m\n\u001b[0;32m---> 72\u001b[0m     E_GND, Psi_GND \u001b[38;5;241m=\u001b[39m \u001b[43mll\u001b[49m\u001b[38;5;241;43m.\u001b[39;49m\u001b[43mlancz_gnd_state\u001b[49m\u001b[43m(\u001b[49m\u001b[43mpsi0\u001b[49m\u001b[43m,\u001b[49m\u001b[43m \u001b[49m\u001b[43mH_SE\u001b[49m\u001b[43m,\u001b[49m\u001b[43m \u001b[49m\u001b[38;5;241;43m10\u001b[39;49m\u001b[43m)\u001b[49m\n\u001b[1;32m     74\u001b[0m     \u001b[38;5;28mprint\u001b[39m(\u001b[38;5;124m\"\u001b[39m\u001b[38;5;124mE_GND = \u001b[39m\u001b[38;5;124m\"\u001b[39m, E_GND)\n\u001b[1;32m     76\u001b[0m     \u001b[38;5;28mprint\u001b[39m(\u001b[38;5;124m\"\u001b[39m\u001b[38;5;124mPsi_GND norm:\u001b[39m\u001b[38;5;124m\"\u001b[39m)\n",
      "File \u001b[0;32m~/condmat/lightcones_2024/infinite_dmrg.3/lightcones/venv/lib/python3.11/site-packages/lightcones/linalg/__init__.py:350\u001b[0m, in \u001b[0;36mlancz_gnd_state\u001b[0;34m(psi0, H, n)\u001b[0m\n\u001b[1;32m    349\u001b[0m \u001b[38;5;28;01mdef\u001b[39;00m \u001b[38;5;21mlancz_gnd_state\u001b[39m(psi0, H, n):\n\u001b[0;32m--> 350\u001b[0m     H_tridiag \u001b[38;5;241m=\u001b[39m \u001b[43mlancz_recursion\u001b[49m\u001b[43m(\u001b[49m\u001b[43mpsi0\u001b[49m\u001b[43m,\u001b[49m\u001b[43m \u001b[49m\u001b[43mH\u001b[49m\u001b[43m,\u001b[49m\u001b[43m \u001b[49m\u001b[43mn\u001b[49m\u001b[43m)\u001b[49m\n\u001b[1;32m    351\u001b[0m     e, v \u001b[38;5;241m=\u001b[39m find_smallest_eigs(H_tridiag\u001b[38;5;241m.\u001b[39mtodense(), \u001b[38;5;241m1\u001b[39m)\n\u001b[1;32m    352\u001b[0m     v \u001b[38;5;241m=\u001b[39m lancz_recursion(psi0, H, n, v\u001b[38;5;241m.\u001b[39mflatten())\n",
      "File \u001b[0;32m~/condmat/lightcones_2024/infinite_dmrg.3/lightcones/venv/lib/python3.11/site-packages/lightcones/linalg/__init__.py:301\u001b[0m, in \u001b[0;36mlancz_recursion\u001b[0;34m(psi0, H, n, coeff)\u001b[0m\n\u001b[1;32m    298\u001b[0m a \u001b[38;5;241m=\u001b[39m np\u001b[38;5;241m.\u001b[39mzeros(n)\n\u001b[1;32m    299\u001b[0m b \u001b[38;5;241m=\u001b[39m np\u001b[38;5;241m.\u001b[39mzeros(n \u001b[38;5;241m-\u001b[39m \u001b[38;5;241m1\u001b[39m)\n\u001b[0;32m--> 301\u001b[0m psiH \u001b[38;5;241m=\u001b[39m \u001b[43mH\u001b[49m\u001b[43m \u001b[49m\u001b[38;5;241;43m@\u001b[39;49m\u001b[43m \u001b[49m\u001b[43mpsi0\u001b[49m\n\u001b[1;32m    302\u001b[0m a[\u001b[38;5;241m0\u001b[39m] \u001b[38;5;241m=\u001b[39m np\u001b[38;5;241m.\u001b[39mvdot(psiH, psi0)\u001b[38;5;241m.\u001b[39mreal\n\u001b[1;32m    303\u001b[0m psi1 \u001b[38;5;241m=\u001b[39m psiH \u001b[38;5;241m-\u001b[39m a[\u001b[38;5;241m0\u001b[39m] \u001b[38;5;241m*\u001b[39m psi0\n",
      "File \u001b[0;32m~/condmat/lightcones_2024/infinite_dmrg.3/lightcones/venv/lib/python3.11/site-packages/scipy/sparse/_base.py:669\u001b[0m, in \u001b[0;36m_spbase.__matmul__\u001b[0;34m(self, other)\u001b[0m\n\u001b[1;32m    666\u001b[0m \u001b[38;5;28;01mif\u001b[39;00m isscalarlike(other):\n\u001b[1;32m    667\u001b[0m     \u001b[38;5;28;01mraise\u001b[39;00m \u001b[38;5;167;01mValueError\u001b[39;00m(\u001b[38;5;124m\"\u001b[39m\u001b[38;5;124mScalar operands are not allowed, \u001b[39m\u001b[38;5;124m\"\u001b[39m\n\u001b[1;32m    668\u001b[0m                      \u001b[38;5;124m\"\u001b[39m\u001b[38;5;124muse \u001b[39m\u001b[38;5;124m'\u001b[39m\u001b[38;5;124m*\u001b[39m\u001b[38;5;124m'\u001b[39m\u001b[38;5;124m instead\u001b[39m\u001b[38;5;124m\"\u001b[39m)\n\u001b[0;32m--> 669\u001b[0m \u001b[38;5;28;01mreturn\u001b[39;00m \u001b[38;5;28;43mself\u001b[39;49m\u001b[38;5;241;43m.\u001b[39;49m\u001b[43m_matmul_dispatch\u001b[49m\u001b[43m(\u001b[49m\u001b[43mother\u001b[49m\u001b[43m)\u001b[49m\n",
      "File \u001b[0;32m~/condmat/lightcones_2024/infinite_dmrg.3/lightcones/venv/lib/python3.11/site-packages/scipy/sparse/_base.py:598\u001b[0m, in \u001b[0;36m_spbase._matmul_dispatch\u001b[0;34m(self, other)\u001b[0m\n\u001b[1;32m    595\u001b[0m \u001b[38;5;28;01mif\u001b[39;00m other\u001b[38;5;241m.\u001b[39mndim \u001b[38;5;241m==\u001b[39m \u001b[38;5;241m1\u001b[39m \u001b[38;5;129;01mor\u001b[39;00m other\u001b[38;5;241m.\u001b[39mndim \u001b[38;5;241m==\u001b[39m \u001b[38;5;241m2\u001b[39m \u001b[38;5;129;01mand\u001b[39;00m other\u001b[38;5;241m.\u001b[39mshape[\u001b[38;5;241m1\u001b[39m] \u001b[38;5;241m==\u001b[39m \u001b[38;5;241m1\u001b[39m:\n\u001b[1;32m    596\u001b[0m     \u001b[38;5;66;03m# dense row or column vector\u001b[39;00m\n\u001b[1;32m    597\u001b[0m     \u001b[38;5;28;01mif\u001b[39;00m other\u001b[38;5;241m.\u001b[39mshape \u001b[38;5;241m!=\u001b[39m (N,) \u001b[38;5;129;01mand\u001b[39;00m other\u001b[38;5;241m.\u001b[39mshape \u001b[38;5;241m!=\u001b[39m (N, \u001b[38;5;241m1\u001b[39m):\n\u001b[0;32m--> 598\u001b[0m         \u001b[38;5;28;01mraise\u001b[39;00m \u001b[38;5;167;01mValueError\u001b[39;00m(\u001b[38;5;124m'\u001b[39m\u001b[38;5;124mdimension mismatch\u001b[39m\u001b[38;5;124m'\u001b[39m)\n\u001b[1;32m    600\u001b[0m     result \u001b[38;5;241m=\u001b[39m \u001b[38;5;28mself\u001b[39m\u001b[38;5;241m.\u001b[39m_matmul_vector(np\u001b[38;5;241m.\u001b[39mravel(other))\n\u001b[1;32m    602\u001b[0m     \u001b[38;5;28;01mif\u001b[39;00m \u001b[38;5;28misinstance\u001b[39m(other, np\u001b[38;5;241m.\u001b[39mmatrix):\n",
      "\u001b[0;31mValueError\u001b[0m: dimension mismatch"
     ]
    }
   ],
   "source": [
    "import numpy as np\n",
    "import scipy\n",
    "import lightcones.linalg as ll\n",
    "from lightcones.linalg import kron\n",
    "from lightcones.models import spinfull_fermions\n",
    "import lightcones.space as sp\n",
    "import math\n",
    "\n",
    "\n",
    "U = 1\n",
    "t = 0.05\n",
    "\n",
    "num_iterations = 10\n",
    "\n",
    "m = 10\n",
    "l = 3 + 1\n",
    "\n",
    "# iteration 0: preparatory\n",
    "\n",
    "# left subsystem\n",
    "\n",
    "f = spinfull_fermions(l)\n",
    "\n",
    "H_hopp = sum([sum([- t * (f.a_dag[s][i] @ f.a[s][i - 1] + f.a_dag[s][i - 1] @ f.a[s][i]) for s in range(2)]) for i in range(l)])\n",
    "H_S = H_hopp + sum([U * f.n[0][i] @ f.n[1][i] for i in range(l)])\n",
    "\n",
    "H_S_ = kron(H_S, f.eye)\n",
    "\n",
    "a_S = f.a[:][-1]\n",
    "a_S_dag = f.a_dag[:][-1]\n",
    "\n",
    "a_S_ = kron(a_S, f.eye)\n",
    "a_S_dag_ = kron(a_S_dag, f.eye)\n",
    "\n",
    "# right subsystem\n",
    "\n",
    "# fermion Hamiltonian is always even\n",
    "H_E_ = kron(f.eye, H_S)\n",
    "\n",
    "# a and a_dag are odd operators\n",
    "a_E_ = kron(f.parity, a_S)\n",
    "a_E_dag_ = kron(f.parity, a_S_dag)\n",
    "\n",
    "# joint system Hamiltonian\n",
    "H_SE = H_S_ + H_E_ - sum([t * (a_E_dag_[s] @ a_S_[s] + a_S_dag_[s] @ a_E_[s]) for s in range(2)])\n",
    "\n",
    "# initial lanczos wavefunction for\n",
    "# half filled case:\n",
    "psi0 = np.zeros(f.dimension**2, dtype = complex)\n",
    "psi0[0] = 1.0\n",
    "for i in range(l):\n",
    "    # populate left part\n",
    "    psi0 = (kron(f.a_dag[0][i], f.eye) + kron(f.a_dag[1][i], f.eye)) @ psi0 / math.sqrt(2.0)\n",
    "    # popular right part\n",
    "    psi0 = (kron(f.parity, f.a_dag[0][i]) + kron(f.parity, f.a_dag[1][i])) @ psi0 / math.sqrt(2.0)\n",
    "\n",
    "print(\"psi0 norm:\")\n",
    "print(np.vdot(psi0, psi0))\n",
    "\n",
    "# total occupation of left subsystem:\n",
    "N_left = sum([sum([f.a_dag[s][i] @ f.a[s][i] for s in range(2)]) for i in range(l)])\n",
    "N_left_ = kron(N_left, f.eye)\n",
    "\n",
    "print(\"psi0 left part occupation:\")\n",
    "print(np.vdot(psi0, N_left_ @ psi0))\n",
    "\n",
    "# now start regular iterations\n",
    "\n",
    "for i in range(num_iterations):\n",
    "\n",
    "    # find ground state\n",
    "    E_GND, Psi_GND = ll.lancz_gnd_state(psi0, H_SE, 10)\n",
    "    \n",
    "    print(\"E_GND = \", E_GND)\n",
    "    \n",
    "    print(\"Psi_GND norm:\")\n",
    "    print(np.vdot(Psi_GND, Psi_GND))\n",
    "    \n",
    "    # partial trace\n",
    "    bp = sp.bipartite(f.dimension, f.dimension)\n",
    "    rho = bp.trace_out_R(Psi_GND)\n",
    "    \n",
    "    # find eigenvalues sorted in descending order\n",
    "    pi, T = ll.find_eigs_descending(rho)\n",
    "    \n",
    "    print(\"probability norm:\")\n",
    "    print(sum(pi))\n",
    "    \n",
    "    print(\"Schmidt components:\")\n",
    "    print(pi[:m])\n",
    "    \n",
    "    # keep only m largest eigenstates\n",
    "    # columns are eigenstates\n",
    "    T = scipy.sparse.csc_matrix(T[:, : m])\n",
    "\n",
    "    # switch to the frame of revelant eigenstates\n",
    "    T_dag = scipy.sparse.csc_matrix(T.conj().T)\n",
    "    \n",
    "    N_left_T = T_dag @ N_left @ T\n",
    "    \n",
    "    print(\"Population of Schmidt components:\")\n",
    "    left_N = N_left_T.diagonal().real\n",
    "    print(left_N)\n",
    "    \n",
    "    assert math.isclose(left_N[0], l, rel_tol=1e-9, abs_tol=1e-9), \\\n",
    "        \"The most important Schmidt component is not at half filling.\"\n",
    "    \n",
    "    H_T = T_dag @ H_S @ T\n",
    "\n",
    "    # boundary operators also get renormalized\n",
    "    a_T = [T_dag @ a_S[s] @ T for s in range(2)]\n",
    "    a_T_dag = [T_dag @ a_S_dag[s] @ T for s in range(2)]\n",
    "\n",
    "    # new parity operator\n",
    "    parity_T = T_dag @ f.parity @ T\n",
    "    eye_T = ll.eye(m)\n",
    "    \n",
    "    # add new site\n",
    "    g = spinfull_fermions(1)\n",
    "    \n",
    "    # new boundary operators\n",
    "    \n",
    "    # a and a_dag are odd operators\n",
    "    a_S = kron(parity_T, [g.a[s][0] for s in range(2)])\n",
    "    a_S_dag = kron(parity_T, [g.a_dag[s][0] for s in range(2)])\n",
    "    \n",
    "    a_T_ = kron(a_T, g.eye)\n",
    "    a_T_dag_ = kron(a_T_dag, g.eye)\n",
    "    \n",
    "    # n is even operator\n",
    "    n_ = kron(eye_T, [g.n[s][0] for s in range(2)])\n",
    "    \n",
    "    # \n",
    "    H_T_ = kron(H_T, g.eye)\n",
    "    \n",
    "    #\n",
    "    H_S = H_T_ - t * sum([a_S_dag[s] @ a_T_[s] + a_T_dag_[s] @ a_S[s] for s in range(2)]) + U * n_[0] @ n_[1]\n",
    "    \n",
    "    eye_T_ = kron(eye_T, g.eye)\n",
    "    \n",
    "    # left subsystem\n",
    "    \n",
    "    H_S_ = kron(H_S, eye_T_)\n",
    "    \n",
    "    a_S_ = kron(a_S, eye_T_)\n",
    "    a_S_dag_ = kron(a_S_dag, eye_T_)\n",
    "\n",
    "    # right subsystem\n",
    "\n",
    "    parity_T_ = kron(parity_T, g.parity)\n",
    "    \n",
    "    # fermion Hamiltonian is always even\n",
    "    H_E_ = kron(eye_T_, H_S)\n",
    "\n",
    "    # a and a_dag are odd operators\n",
    "    a_E_ = kron(parity_T_, a_S)\n",
    "    a_E_dag_ = kron(parity_T_, a_S_dag)\n",
    "    \n",
    "    # joint system Hamiltonian\n",
    "\n",
    "    H_SE = H_S_ + H_E_ - sum([t * (a_E_dag_[s] @ a_S_[s] + a_S_dag_[s] @ a_E_[s]) for s in range(2)])\n",
    "    \n",
    "    # update Lanczos initial condition\n",
    "    # Take the most important Schmidt component |phi_0>\n",
    "    # and let |psi0> =|phi0>|0>|0>|phi0> \n",
    "    \n",
    "    "
   ]
  },
  {
   "cell_type": "code",
   "execution_count": 9,
   "metadata": {},
   "outputs": [
    {
     "data": {
      "text/plain": [
       "<Compressed Sparse Column sparse matrix of dtype 'complex128'\n",
       "\twith 21539 stored elements and shape (256, 100)>"
      ]
     },
     "execution_count": 9,
     "metadata": {},
     "output_type": "execute_result"
    }
   ],
   "source": [
    "T"
   ]
  },
  {
   "cell_type": "code",
   "execution_count": 4,
   "metadata": {},
   "outputs": [
    {
     "data": {
      "text/plain": [
       "<Compressed Sparse Column sparse matrix of dtype 'complex128'\n",
       "\twith 116797 stored elements and shape (400, 400)>"
      ]
     },
     "execution_count": 4,
     "metadata": {},
     "output_type": "execute_result"
    }
   ],
   "source": [
    "H_S"
   ]
  },
  {
   "cell_type": "code",
   "execution_count": 5,
   "metadata": {},
   "outputs": [],
   "source": [
    "H_S.eliminate_zeros()"
   ]
  },
  {
   "cell_type": "code",
   "execution_count": 6,
   "metadata": {},
   "outputs": [
    {
     "data": {
      "text/plain": [
       "<Compressed Sparse Column sparse matrix of dtype 'complex128'\n",
       "\twith 116797 stored elements and shape (400, 400)>"
      ]
     },
     "execution_count": 6,
     "metadata": {},
     "output_type": "execute_result"
    }
   ],
   "source": [
    "H_S"
   ]
  },
  {
   "cell_type": "code",
   "execution_count": 3,
   "metadata": {},
   "outputs": [
    {
     "data": {
      "text/plain": [
       "<Compressed Sparse Column sparse matrix of dtype 'float64'\n",
       "\twith 400 stored elements and shape (400, 400)>"
      ]
     },
     "execution_count": 3,
     "metadata": {},
     "output_type": "execute_result"
    }
   ],
   "source": [
    "eye_T_"
   ]
  },
  {
   "cell_type": "code",
   "execution_count": 8,
   "metadata": {},
   "outputs": [
    {
     "data": {
      "text/plain": [
       "<Compressed Sparse Column sparse matrix of dtype 'complex128'\n",
       "\twith 39208 stored elements and shape (400, 400)>"
      ]
     },
     "execution_count": 8,
     "metadata": {},
     "output_type": "execute_result"
    }
   ],
   "source": [
    "parity_T_"
   ]
  },
  {
   "cell_type": "code",
   "execution_count": 7,
   "metadata": {},
   "outputs": [],
   "source": [
    "parity_T_.eliminate_zeros()"
   ]
  },
  {
   "cell_type": "code",
   "execution_count": 7,
   "metadata": {},
   "outputs": [
    {
     "ename": "Exception",
     "evalue": "Unsupported types for kron",
     "output_type": "error",
     "traceback": [
      "\u001b[0;31m---------------------------------------------------------------------------\u001b[0m",
      "\u001b[0;31mException\u001b[0m                                 Traceback (most recent call last)",
      "Cell \u001b[0;32mIn[7], line 1\u001b[0m\n\u001b[0;32m----> 1\u001b[0m a_S \u001b[38;5;241m=\u001b[39m \u001b[43mkron\u001b[49m\u001b[43m(\u001b[49m\u001b[43mparity_T\u001b[49m\u001b[43m,\u001b[49m\u001b[43m \u001b[49m\u001b[43m[\u001b[49m\u001b[43mg\u001b[49m\u001b[38;5;241;43m.\u001b[39;49m\u001b[43ma\u001b[49m\u001b[43m[\u001b[49m\u001b[43ms\u001b[49m\u001b[43m]\u001b[49m\u001b[43m[\u001b[49m\u001b[38;5;241;43m0\u001b[39;49m\u001b[43m]\u001b[49m\u001b[43m \u001b[49m\u001b[38;5;28;43;01mfor\u001b[39;49;00m\u001b[43m \u001b[49m\u001b[43ms\u001b[49m\u001b[43m \u001b[49m\u001b[38;5;129;43;01min\u001b[39;49;00m\u001b[43m \u001b[49m\u001b[38;5;28;43mrange\u001b[39;49m\u001b[43m(\u001b[49m\u001b[38;5;241;43m2\u001b[39;49m\u001b[43m)\u001b[49m\u001b[43m]\u001b[49m\u001b[43m)\u001b[49m\n",
      "File \u001b[0;32m~/condmat/lightcones_2024/infinite_dmrg.3/lightcones/venv/lib/python3.11/site-packages/lightcones/linalg/__init__.py:194\u001b[0m, in \u001b[0;36mkron\u001b[0;34m(a, b)\u001b[0m\n\u001b[1;32m    191\u001b[0m \u001b[38;5;28;01mif\u001b[39;00m is_sparse_matrix(a) \u001b[38;5;129;01mand\u001b[39;00m is_list_of_any(b):\n\u001b[1;32m    192\u001b[0m     \u001b[38;5;28;01mreturn\u001b[39;00m kron_sparse_list(a, b)\n\u001b[0;32m--> 194\u001b[0m \u001b[38;5;28;01mraise\u001b[39;00m \u001b[38;5;167;01mException\u001b[39;00m(\u001b[38;5;124m'\u001b[39m\u001b[38;5;124mUnsupported types for kron\u001b[39m\u001b[38;5;124m'\u001b[39m)\n",
      "\u001b[0;31mException\u001b[0m: Unsupported types for kron"
     ]
    }
   ],
   "source": [
    "a_S = kron(parity_T, [g.a[s][0] for s in range(2)])"
   ]
  },
  {
   "cell_type": "code",
   "execution_count": 10,
   "metadata": {},
   "outputs": [
    {
     "data": {
      "text/plain": [
       "<Compressed Sparse Column sparse matrix of dtype 'complex128'\n",
       "\twith 21539 stored elements and shape (256, 100)>"
      ]
     },
     "execution_count": 10,
     "metadata": {},
     "output_type": "execute_result"
    }
   ],
   "source": [
    "T"
   ]
  },
  {
   "cell_type": "code",
   "execution_count": 11,
   "metadata": {},
   "outputs": [
    {
     "data": {
      "text/plain": [
       "<Compressed Sparse Row sparse matrix of dtype 'complex128'\n",
       "\twith 21539 stored elements and shape (100, 256)>"
      ]
     },
     "execution_count": 11,
     "metadata": {},
     "output_type": "execute_result"
    }
   ],
   "source": [
    "T_dag"
   ]
  },
  {
   "cell_type": "code",
   "execution_count": 9,
   "metadata": {},
   "outputs": [
    {
     "data": {
      "text/plain": [
       "<Compressed Sparse Column sparse matrix of dtype 'float64'\n",
       "\twith 256 stored elements and shape (256, 256)>"
      ]
     },
     "execution_count": 9,
     "metadata": {},
     "output_type": "execute_result"
    }
   ],
   "source": [
    "f.parity"
   ]
  },
  {
   "cell_type": "code",
   "execution_count": 8,
   "metadata": {},
   "outputs": [
    {
     "data": {
      "text/plain": [
       "<Compressed Sparse Row sparse matrix of dtype 'complex128'\n",
       "\twith 9802 stored elements and shape (100, 100)>"
      ]
     },
     "execution_count": 8,
     "metadata": {},
     "output_type": "execute_result"
    }
   ],
   "source": [
    "parity_T"
   ]
  },
  {
   "cell_type": "code",
   "execution_count": 3,
   "metadata": {},
   "outputs": [
    {
     "ename": "Exception",
     "evalue": "Unsupported types for kron",
     "output_type": "error",
     "traceback": [
      "\u001b[0;31m---------------------------------------------------------------------------\u001b[0m",
      "\u001b[0;31mException\u001b[0m                                 Traceback (most recent call last)",
      "Cell \u001b[0;32mIn[3], line 1\u001b[0m\n\u001b[0;32m----> 1\u001b[0m a_T_ \u001b[38;5;241m=\u001b[39m \u001b[43mkron\u001b[49m\u001b[43m(\u001b[49m\u001b[43ma_T\u001b[49m\u001b[43m,\u001b[49m\u001b[43m \u001b[49m\u001b[43mg\u001b[49m\u001b[38;5;241;43m.\u001b[39;49m\u001b[43meye\u001b[49m\u001b[43m)\u001b[49m\n",
      "File \u001b[0;32m~/condmat/lightcones_2024/infinite_dmrg.3/lightcones/venv/lib/python3.11/site-packages/lightcones/linalg/__init__.py:186\u001b[0m, in \u001b[0;36mkron\u001b[0;34m(a, b)\u001b[0m\n\u001b[1;32m    183\u001b[0m     \u001b[38;5;28;01mreturn\u001b[39;00m kron_list2_list2(a, b)\n\u001b[1;32m    185\u001b[0m \u001b[38;5;28;01mif\u001b[39;00m is_list_of_any(a) \u001b[38;5;129;01mand\u001b[39;00m is_sparse_matrix(b):\n\u001b[0;32m--> 186\u001b[0m     \u001b[38;5;28;01mreturn\u001b[39;00m \u001b[43mkron_list_sparse\u001b[49m\u001b[43m(\u001b[49m\u001b[43ma\u001b[49m\u001b[43m,\u001b[49m\u001b[43m \u001b[49m\u001b[43mb\u001b[49m\u001b[43m)\u001b[49m\n\u001b[1;32m    188\u001b[0m \u001b[38;5;28;01mif\u001b[39;00m is_list_of_any(a) \u001b[38;5;129;01mand\u001b[39;00m is_list_of_any(b):\n\u001b[1;32m    189\u001b[0m     \u001b[38;5;28;01mreturn\u001b[39;00m kron_list_list(a, b)\n",
      "File \u001b[0;32m~/condmat/lightcones_2024/infinite_dmrg.3/lightcones/venv/lib/python3.11/site-packages/lightcones/linalg/__init__.py:136\u001b[0m, in \u001b[0;36mkron_list_sparse\u001b[0;34m(a, b)\u001b[0m\n\u001b[1;32m    134\u001b[0m n \u001b[38;5;241m=\u001b[39m \u001b[38;5;28mlen\u001b[39m(a)\n\u001b[1;32m    135\u001b[0m \u001b[38;5;28;01mfor\u001b[39;00m i \u001b[38;5;129;01min\u001b[39;00m \u001b[38;5;28mrange\u001b[39m(n):\n\u001b[0;32m--> 136\u001b[0m     kr\u001b[38;5;241m.\u001b[39mappend(\u001b[43mkron\u001b[49m\u001b[43m(\u001b[49m\u001b[43ma\u001b[49m\u001b[43m[\u001b[49m\u001b[43mi\u001b[49m\u001b[43m]\u001b[49m\u001b[43m,\u001b[49m\u001b[43m \u001b[49m\u001b[43mb\u001b[49m\u001b[43m)\u001b[49m)\n\u001b[1;32m    138\u001b[0m \u001b[38;5;28;01mreturn\u001b[39;00m kr\n",
      "File \u001b[0;32m~/condmat/lightcones_2024/infinite_dmrg.3/lightcones/venv/lib/python3.11/site-packages/lightcones/linalg/__init__.py:194\u001b[0m, in \u001b[0;36mkron\u001b[0;34m(a, b)\u001b[0m\n\u001b[1;32m    191\u001b[0m \u001b[38;5;28;01mif\u001b[39;00m is_sparse_matrix(a) \u001b[38;5;129;01mand\u001b[39;00m is_list_of_any(b):\n\u001b[1;32m    192\u001b[0m     \u001b[38;5;28;01mreturn\u001b[39;00m kron_sparse_list(a, b)\n\u001b[0;32m--> 194\u001b[0m \u001b[38;5;28;01mraise\u001b[39;00m \u001b[38;5;167;01mException\u001b[39;00m(\u001b[38;5;124m'\u001b[39m\u001b[38;5;124mUnsupported types for kron\u001b[39m\u001b[38;5;124m'\u001b[39m)\n",
      "\u001b[0;31mException\u001b[0m: Unsupported types for kron"
     ]
    }
   ],
   "source": [
    "a_T_ = kron(a_T, g.eye)"
   ]
  },
  {
   "cell_type": "code",
   "execution_count": 4,
   "metadata": {},
   "outputs": [
    {
     "data": {
      "text/plain": [
       "<Compressed Sparse Column sparse matrix of dtype 'float64'\n",
       "\twith 4 stored elements and shape (4, 4)>"
      ]
     },
     "execution_count": 4,
     "metadata": {},
     "output_type": "execute_result"
    }
   ],
   "source": [
    "g.eye"
   ]
  },
  {
   "cell_type": "code",
   "execution_count": 5,
   "metadata": {},
   "outputs": [
    {
     "data": {
      "text/plain": [
       "[array([[-5.53213328e-18+0.j,  5.63835956e-18+0.j,  1.31505284e-17+0.j,\n",
       "         ..., -2.48265053e-09+0.j, -4.33333432e-09+0.j,\n",
       "         -1.45791600e-08+0.j],\n",
       "        [ 5.13613778e-01+0.j,  6.25612326e-16+0.j,  1.58979287e-13+0.j,\n",
       "         ...,  1.75940207e-06+0.j, -3.45751545e-06+0.j,\n",
       "          8.36257890e-06+0.j],\n",
       "        [-1.96601364e-03+0.j,  8.99932045e-17+0.j, -5.90317161e-16+0.j,\n",
       "         ..., -2.36680590e-05+0.j, -1.82980949e-05+0.j,\n",
       "         -8.55664372e-06+0.j],\n",
       "        ...,\n",
       "        [-2.87613855e-09+0.j, -7.72047188e-07+0.j, -8.78948754e-05+0.j,\n",
       "         ..., -1.04299613e-02+0.j,  2.17782286e-02+0.j,\n",
       "         -7.20550004e-02+0.j],\n",
       "        [-5.66488830e-08+0.j, -2.16150237e-07+0.j, -4.58175553e-05+0.j,\n",
       "         ..., -2.72613784e-02+0.j,  5.40979269e-02+0.j,\n",
       "         -9.15065830e-02+0.j],\n",
       "        [ 2.30361961e-08+0.j,  1.65705939e-07+0.j, -1.08476565e-05+0.j,\n",
       "         ...,  1.58975803e-03+0.j, -1.92734273e-02+0.j,\n",
       "          7.93118654e-03+0.j]]),\n",
       " array([[-1.06689230e-17+0.j,  1.87117882e-17+0.j,  1.41591946e-17+0.j,\n",
       "         ...,  1.52240978e-09+0.j, -6.74073435e-10+0.j,\n",
       "          3.94399665e-09+0.j],\n",
       "        [-1.96599434e-03+0.j, -1.04174309e-16+0.j, -5.53680192e-16+0.j,\n",
       "         ..., -1.26621888e-05+0.j, -5.98321696e-06+0.j,\n",
       "         -4.50165615e-05+0.j],\n",
       "        [-5.13613778e-01+0.j, -5.94750241e-16+0.j, -1.58618649e-13+0.j,\n",
       "         ..., -1.31217909e-05+0.j, -2.42376201e-06+0.j,\n",
       "          1.87342815e-06+0.j],\n",
       "        ...,\n",
       "        [ 1.20862114e-07+0.j, -8.76061684e-05+0.j,  6.05252557e-07+0.j,\n",
       "         ..., -1.08208380e-01+0.j,  3.14099341e-02+0.j,\n",
       "         -7.13342747e-03+0.j],\n",
       "        [-2.65741712e-08+0.j, -4.62824570e-05+0.j, -3.21849609e-08+0.j,\n",
       "         ..., -2.22672971e-02+0.j, -1.06969526e-01+0.j,\n",
       "         -1.23118889e-01+0.j],\n",
       "        [-6.25535727e-08+0.j, -1.08297250e-05+0.j, -1.39470206e-07+0.j,\n",
       "         ...,  4.13867875e-02+0.j, -8.27865842e-02+0.j,\n",
       "         -7.15253230e-02+0.j]])]"
      ]
     },
     "execution_count": 5,
     "metadata": {},
     "output_type": "execute_result"
    }
   ],
   "source": [
    "a_T"
   ]
  },
  {
   "cell_type": "code",
   "execution_count": 2,
   "metadata": {},
   "outputs": [
    {
     "data": {
      "text/plain": [
       "[<Compressed Sparse Column sparse matrix of dtype 'complex128'\n",
       " \twith 19604 stored elements and shape (400, 400)>,\n",
       " <Compressed Sparse Column sparse matrix of dtype 'complex128'\n",
       " \twith 19604 stored elements and shape (400, 400)>]"
      ]
     },
     "execution_count": 2,
     "metadata": {},
     "output_type": "execute_result"
    }
   ],
   "source": [
    "kron(parity_T, [g.a[s][0] for s in range(2)])"
   ]
  },
  {
   "cell_type": "code",
   "execution_count": 19,
   "metadata": {},
   "outputs": [
    {
     "name": "stdout",
     "output_type": "stream",
     "text": [
      "<class 'numpy.ndarray'>\n"
     ]
    }
   ],
   "source": [
    "print(type(parity_T))"
   ]
  },
  {
   "cell_type": "code",
   "execution_count": 25,
   "metadata": {},
   "outputs": [],
   "source": [
    "import scipy\n",
    "import numpy"
   ]
  },
  {
   "cell_type": "code",
   "execution_count": 26,
   "metadata": {},
   "outputs": [],
   "source": [
    "def is_sparse_matrix(a):\n",
    "    if isinstance(a, scipy.sparse.csc_matrix):\n",
    "        return True\n",
    "    if isinstance(a, numpy.ndarray) and a.ndim == 2:\n",
    "        return True"
   ]
  },
  {
   "cell_type": "code",
   "execution_count": 27,
   "metadata": {},
   "outputs": [
    {
     "data": {
      "text/plain": [
       "True"
      ]
     },
     "execution_count": 27,
     "metadata": {},
     "output_type": "execute_result"
    }
   ],
   "source": [
    "is_sparse_matrix(parity_T)"
   ]
  },
  {
   "cell_type": "code",
   "execution_count": 17,
   "metadata": {},
   "outputs": [
    {
     "data": {
      "text/plain": [
       "array([[ 1.00000000e+00+0.j,  1.02565360e-17+0.j, -5.15329956e-17+0.j,\n",
       "        ...,  3.46944695e-18+0.j, -8.67361738e-19+0.j,\n",
       "        -4.33680869e-18+0.j],\n",
       "       [ 1.02565360e-17+0.j, -1.00000000e+00+0.j,  1.52330405e-17+0.j,\n",
       "        ...,  5.26254371e-17+0.j,  9.46401767e-17+0.j,\n",
       "        -1.24024952e-17+0.j],\n",
       "       [-5.15329956e-17+0.j,  1.52330405e-17+0.j, -1.00000000e+00+0.j,\n",
       "        ..., -5.46388830e-16+0.j, -4.40976505e-17+0.j,\n",
       "         2.79783261e-17+0.j],\n",
       "       ...,\n",
       "       [ 3.46944695e-18+0.j,  5.26254371e-17+0.j, -5.46388830e-16+0.j,\n",
       "        ..., -4.22686088e-01+0.j,  3.86737198e-01+0.j,\n",
       "         4.28768176e-02+0.j],\n",
       "       [-8.67361738e-19+0.j,  9.46401767e-17+0.j, -4.40976505e-17+0.j,\n",
       "        ...,  3.86737198e-01+0.j, -2.14610628e-01+0.j,\n",
       "         1.05354078e-01+0.j],\n",
       "       [-4.33680869e-18+0.j, -1.24024952e-17+0.j,  2.79783261e-17+0.j,\n",
       "        ...,  4.28768176e-02+0.j,  1.05354078e-01+0.j,\n",
       "        -6.65462964e-01+0.j]])"
      ]
     },
     "execution_count": 17,
     "metadata": {},
     "output_type": "execute_result"
    }
   ],
   "source": [
    "parity_T"
   ]
  },
  {
   "cell_type": "code",
   "execution_count": 18,
   "metadata": {},
   "outputs": [
    {
     "data": {
      "text/plain": [
       "[<Compressed Sparse Column sparse matrix of dtype 'complex128'\n",
       " \twith 2 stored elements and shape (4, 4)>,\n",
       " <Compressed Sparse Column sparse matrix of dtype 'complex128'\n",
       " \twith 2 stored elements and shape (4, 4)>]"
      ]
     },
     "execution_count": 18,
     "metadata": {},
     "output_type": "execute_result"
    }
   ],
   "source": [
    "[g.a[s][0] for s in range(2)]"
   ]
  },
  {
   "cell_type": "code",
   "execution_count": 2,
   "metadata": {},
   "outputs": [],
   "source": [
    "import numpy as np"
   ]
  },
  {
   "cell_type": "code",
   "execution_count": 16,
   "metadata": {},
   "outputs": [],
   "source": [
    "psi = np.zeros(f.fermions.states.dimension ** 4, dtype = complex)\n",
    "psi[:] = 1.0 \n"
   ]
  },
  {
   "cell_type": "code",
   "execution_count": 11,
   "metadata": {},
   "outputs": [
    {
     "data": {
      "text/plain": [
       "65536"
      ]
     },
     "execution_count": 11,
     "metadata": {},
     "output_type": "execute_result"
    }
   ],
   "source": [
    "f.fermions.states.dimension ** 4"
   ]
  },
  {
   "cell_type": "code",
   "execution_count": 9,
   "metadata": {},
   "outputs": [
    {
     "data": {
      "text/plain": [
       "<Compressed Sparse Column sparse matrix of dtype 'complex128'\n",
       "\twith 648799 stored elements and shape (65536, 65536)>"
      ]
     },
     "execution_count": 9,
     "metadata": {},
     "output_type": "execute_result"
    }
   ],
   "source": [
    "H_SE"
   ]
  },
  {
   "cell_type": "code",
   "execution_count": 21,
   "metadata": {},
   "outputs": [],
   "source": [
    "import math"
   ]
  },
  {
   "cell_type": "code",
   "execution_count": 23,
   "metadata": {},
   "outputs": [],
   "source": [
    "for i in range(100):\n",
    "    psi = H_SE @ psi\n",
    "    psi = psi / math.sqrt(np.vdot(psi, psi).real)"
   ]
  },
  {
   "cell_type": "code",
   "execution_count": null,
   "metadata": {},
   "outputs": [],
   "source": []
  },
  {
   "cell_type": "code",
   "execution_count": 7,
   "metadata": {},
   "outputs": [
    {
     "ename": "KeyboardInterrupt",
     "evalue": "",
     "output_type": "error",
     "traceback": [
      "\u001b[0;31m---------------------------------------------------------------------------\u001b[0m",
      "\u001b[0;31mKeyboardInterrupt\u001b[0m                         Traceback (most recent call last)",
      "Cell \u001b[0;32mIn[7], line 2\u001b[0m\n\u001b[1;32m      1\u001b[0m \u001b[38;5;28;01mfrom\u001b[39;00m \u001b[38;5;21;01mscipy\u001b[39;00m\u001b[38;5;21;01m.\u001b[39;00m\u001b[38;5;21;01msparse\u001b[39;00m\u001b[38;5;21;01m.\u001b[39;00m\u001b[38;5;21;01mlinalg\u001b[39;00m \u001b[38;5;28;01mimport\u001b[39;00m eigsh\n\u001b[0;32m----> 2\u001b[0m E_GND, Psi_GND \u001b[38;5;241m=\u001b[39m \u001b[43meigsh\u001b[49m\u001b[43m(\u001b[49m\u001b[43mH_SE\u001b[49m\u001b[43m,\u001b[49m\u001b[43m \u001b[49m\u001b[43mk\u001b[49m\u001b[38;5;241;43m=\u001b[39;49m\u001b[38;5;241;43m1\u001b[39;49m\u001b[43m,\u001b[49m\u001b[43m \u001b[49m\u001b[43mwhich\u001b[49m\u001b[38;5;241;43m=\u001b[39;49m\u001b[38;5;124;43m'\u001b[39;49m\u001b[38;5;124;43mSM\u001b[39;49m\u001b[38;5;124;43m'\u001b[39;49m\u001b[43m)\u001b[49m\n",
      "File \u001b[0;32m~/condmat/lightcones_2024/infinite_dmrg.3/lightcones/venv/lib/python3.11/site-packages/scipy/sparse/linalg/_eigen/arpack/arpack.py:1577\u001b[0m, in \u001b[0;36meigsh\u001b[0;34m(A, k, M, sigma, which, v0, ncv, maxiter, tol, return_eigenvectors, Minv, OPinv, mode)\u001b[0m\n\u001b[1;32m   1575\u001b[0m \u001b[38;5;28;01melif\u001b[39;00m which \u001b[38;5;241m==\u001b[39m \u001b[38;5;124m'\u001b[39m\u001b[38;5;124mSA\u001b[39m\u001b[38;5;124m'\u001b[39m:\n\u001b[1;32m   1576\u001b[0m     which \u001b[38;5;241m=\u001b[39m \u001b[38;5;124m'\u001b[39m\u001b[38;5;124mSR\u001b[39m\u001b[38;5;124m'\u001b[39m\n\u001b[0;32m-> 1577\u001b[0m ret \u001b[38;5;241m=\u001b[39m \u001b[43meigs\u001b[49m\u001b[43m(\u001b[49m\u001b[43mA\u001b[49m\u001b[43m,\u001b[49m\u001b[43m \u001b[49m\u001b[43mk\u001b[49m\u001b[43m,\u001b[49m\u001b[43m \u001b[49m\u001b[43mM\u001b[49m\u001b[38;5;241;43m=\u001b[39;49m\u001b[43mM\u001b[49m\u001b[43m,\u001b[49m\u001b[43m \u001b[49m\u001b[43msigma\u001b[49m\u001b[38;5;241;43m=\u001b[39;49m\u001b[43msigma\u001b[49m\u001b[43m,\u001b[49m\u001b[43m \u001b[49m\u001b[43mwhich\u001b[49m\u001b[38;5;241;43m=\u001b[39;49m\u001b[43mwhich\u001b[49m\u001b[43m,\u001b[49m\u001b[43m \u001b[49m\u001b[43mv0\u001b[49m\u001b[38;5;241;43m=\u001b[39;49m\u001b[43mv0\u001b[49m\u001b[43m,\u001b[49m\n\u001b[1;32m   1578\u001b[0m \u001b[43m           \u001b[49m\u001b[43mncv\u001b[49m\u001b[38;5;241;43m=\u001b[39;49m\u001b[43mncv\u001b[49m\u001b[43m,\u001b[49m\u001b[43m \u001b[49m\u001b[43mmaxiter\u001b[49m\u001b[38;5;241;43m=\u001b[39;49m\u001b[43mmaxiter\u001b[49m\u001b[43m,\u001b[49m\u001b[43m \u001b[49m\u001b[43mtol\u001b[49m\u001b[38;5;241;43m=\u001b[39;49m\u001b[43mtol\u001b[49m\u001b[43m,\u001b[49m\n\u001b[1;32m   1579\u001b[0m \u001b[43m           \u001b[49m\u001b[43mreturn_eigenvectors\u001b[49m\u001b[38;5;241;43m=\u001b[39;49m\u001b[43mreturn_eigenvectors\u001b[49m\u001b[43m,\u001b[49m\u001b[43m \u001b[49m\u001b[43mMinv\u001b[49m\u001b[38;5;241;43m=\u001b[39;49m\u001b[43mMinv\u001b[49m\u001b[43m,\u001b[49m\n\u001b[1;32m   1580\u001b[0m \u001b[43m           \u001b[49m\u001b[43mOPinv\u001b[49m\u001b[38;5;241;43m=\u001b[39;49m\u001b[43mOPinv\u001b[49m\u001b[43m)\u001b[49m\n\u001b[1;32m   1582\u001b[0m \u001b[38;5;28;01mif\u001b[39;00m return_eigenvectors:\n\u001b[1;32m   1583\u001b[0m     \u001b[38;5;28;01mreturn\u001b[39;00m ret[\u001b[38;5;241m0\u001b[39m]\u001b[38;5;241m.\u001b[39mreal, ret[\u001b[38;5;241m1\u001b[39m]\n",
      "File \u001b[0;32m~/condmat/lightcones_2024/infinite_dmrg.3/lightcones/venv/lib/python3.11/site-packages/scipy/sparse/linalg/_eigen/arpack/arpack.py:1355\u001b[0m, in \u001b[0;36meigs\u001b[0;34m(A, k, M, sigma, which, v0, ncv, maxiter, tol, return_eigenvectors, Minv, OPinv, OPpart)\u001b[0m\n\u001b[1;32m   1353\u001b[0m \u001b[38;5;28;01mwith\u001b[39;00m _ARPACK_LOCK:\n\u001b[1;32m   1354\u001b[0m     \u001b[38;5;28;01mwhile\u001b[39;00m \u001b[38;5;129;01mnot\u001b[39;00m params\u001b[38;5;241m.\u001b[39mconverged:\n\u001b[0;32m-> 1355\u001b[0m         \u001b[43mparams\u001b[49m\u001b[38;5;241;43m.\u001b[39;49m\u001b[43miterate\u001b[49m\u001b[43m(\u001b[49m\u001b[43m)\u001b[49m\n\u001b[1;32m   1357\u001b[0m     \u001b[38;5;28;01mreturn\u001b[39;00m params\u001b[38;5;241m.\u001b[39mextract(return_eigenvectors)\n",
      "File \u001b[0;32m~/condmat/lightcones_2024/infinite_dmrg.3/lightcones/venv/lib/python3.11/site-packages/scipy/sparse/linalg/_eigen/arpack/arpack.py:730\u001b[0m, in \u001b[0;36m_UnsymmetricArpackParams.iterate\u001b[0;34m(self)\u001b[0m\n\u001b[1;32m    726\u001b[0m     \u001b[38;5;28mself\u001b[39m\u001b[38;5;241m.\u001b[39mido, \u001b[38;5;28mself\u001b[39m\u001b[38;5;241m.\u001b[39mtol, \u001b[38;5;28mself\u001b[39m\u001b[38;5;241m.\u001b[39mresid, \u001b[38;5;28mself\u001b[39m\u001b[38;5;241m.\u001b[39mv, \\\n\u001b[1;32m    727\u001b[0m         \u001b[38;5;28mself\u001b[39m\u001b[38;5;241m.\u001b[39miparam, \u001b[38;5;28mself\u001b[39m\u001b[38;5;241m.\u001b[39mipntr, \u001b[38;5;28mself\u001b[39m\u001b[38;5;241m.\u001b[39minfo \u001b[38;5;241m=\u001b[39m results\n\u001b[1;32m    729\u001b[0m \u001b[38;5;28;01melse\u001b[39;00m:\n\u001b[0;32m--> 730\u001b[0m     results \u001b[38;5;241m=\u001b[39m \u001b[38;5;28;43mself\u001b[39;49m\u001b[38;5;241;43m.\u001b[39;49m\u001b[43m_arpack_solver\u001b[49m\u001b[43m(\u001b[49m\u001b[38;5;28;43mself\u001b[39;49m\u001b[38;5;241;43m.\u001b[39;49m\u001b[43mido\u001b[49m\u001b[43m,\u001b[49m\u001b[43m \u001b[49m\u001b[38;5;28;43mself\u001b[39;49m\u001b[38;5;241;43m.\u001b[39;49m\u001b[43mbmat\u001b[49m\u001b[43m,\u001b[49m\u001b[43m \u001b[49m\u001b[38;5;28;43mself\u001b[39;49m\u001b[38;5;241;43m.\u001b[39;49m\u001b[43mwhich\u001b[49m\u001b[43m,\u001b[49m\u001b[43m \u001b[49m\u001b[38;5;28;43mself\u001b[39;49m\u001b[38;5;241;43m.\u001b[39;49m\u001b[43mk\u001b[49m\u001b[43m,\u001b[49m\n\u001b[1;32m    731\u001b[0m \u001b[43m                                  \u001b[49m\u001b[38;5;28;43mself\u001b[39;49m\u001b[38;5;241;43m.\u001b[39;49m\u001b[43mtol\u001b[49m\u001b[43m,\u001b[49m\u001b[43m \u001b[49m\u001b[38;5;28;43mself\u001b[39;49m\u001b[38;5;241;43m.\u001b[39;49m\u001b[43mresid\u001b[49m\u001b[43m,\u001b[49m\u001b[43m \u001b[49m\u001b[38;5;28;43mself\u001b[39;49m\u001b[38;5;241;43m.\u001b[39;49m\u001b[43mv\u001b[49m\u001b[43m,\u001b[49m\u001b[43m \u001b[49m\u001b[38;5;28;43mself\u001b[39;49m\u001b[38;5;241;43m.\u001b[39;49m\u001b[43miparam\u001b[49m\u001b[43m,\u001b[49m\n\u001b[1;32m    732\u001b[0m \u001b[43m                                  \u001b[49m\u001b[38;5;28;43mself\u001b[39;49m\u001b[38;5;241;43m.\u001b[39;49m\u001b[43mipntr\u001b[49m\u001b[43m,\u001b[49m\u001b[43m \u001b[49m\u001b[38;5;28;43mself\u001b[39;49m\u001b[38;5;241;43m.\u001b[39;49m\u001b[43mworkd\u001b[49m\u001b[43m,\u001b[49m\u001b[43m \u001b[49m\u001b[38;5;28;43mself\u001b[39;49m\u001b[38;5;241;43m.\u001b[39;49m\u001b[43mworkl\u001b[49m\u001b[43m,\u001b[49m\n\u001b[1;32m    733\u001b[0m \u001b[43m                                  \u001b[49m\u001b[38;5;28;43mself\u001b[39;49m\u001b[38;5;241;43m.\u001b[39;49m\u001b[43mrwork\u001b[49m\u001b[43m,\u001b[49m\u001b[43m \u001b[49m\u001b[38;5;28;43mself\u001b[39;49m\u001b[38;5;241;43m.\u001b[39;49m\u001b[43minfo\u001b[49m\u001b[43m)\u001b[49m\n\u001b[1;32m    734\u001b[0m     \u001b[38;5;28mself\u001b[39m\u001b[38;5;241m.\u001b[39mido, \u001b[38;5;28mself\u001b[39m\u001b[38;5;241m.\u001b[39mtol, \u001b[38;5;28mself\u001b[39m\u001b[38;5;241m.\u001b[39mresid, \u001b[38;5;28mself\u001b[39m\u001b[38;5;241m.\u001b[39mv, \\\n\u001b[1;32m    735\u001b[0m         \u001b[38;5;28mself\u001b[39m\u001b[38;5;241m.\u001b[39miparam, \u001b[38;5;28mself\u001b[39m\u001b[38;5;241m.\u001b[39mipntr, \u001b[38;5;28mself\u001b[39m\u001b[38;5;241m.\u001b[39minfo \u001b[38;5;241m=\u001b[39m results\n\u001b[1;32m    738\u001b[0m xslice \u001b[38;5;241m=\u001b[39m \u001b[38;5;28mslice\u001b[39m(\u001b[38;5;28mself\u001b[39m\u001b[38;5;241m.\u001b[39mipntr[\u001b[38;5;241m0\u001b[39m] \u001b[38;5;241m-\u001b[39m \u001b[38;5;241m1\u001b[39m, \u001b[38;5;28mself\u001b[39m\u001b[38;5;241m.\u001b[39mipntr[\u001b[38;5;241m0\u001b[39m] \u001b[38;5;241m-\u001b[39m \u001b[38;5;241m1\u001b[39m \u001b[38;5;241m+\u001b[39m \u001b[38;5;28mself\u001b[39m\u001b[38;5;241m.\u001b[39mn)\n",
      "\u001b[0;31mKeyboardInterrupt\u001b[0m: "
     ]
    }
   ],
   "source": [
    "from scipy.sparse.linalg import eigsh\n",
    "E_GND, Psi_GND = eigsh(H_SE, k=1, which='SM')"
   ]
  },
  {
   "cell_type": "code",
   "execution_count": null,
   "metadata": {},
   "outputs": [],
   "source": [
    "import lightcones.linalg as la\n",
    "from lightcones.linalg import kron\n",
    "\n",
    "U = 1\n",
    "t = 0.05\n",
    "\n",
    "#eps_cut = 0.00001\n",
    "\n",
    "num_iterations = 100\n",
    "\n",
    "m = 100\n",
    "l = 5 + 1\n",
    "\n",
    "# iteration 0: preparatory\n",
    "\n",
    "# left subsystem\n",
    "\n",
    "f = spinfull_fermions(l)\n",
    "\n",
    "H_hopp = sum([sum([- t * (f.a_dag[s][i] @ f.a[s][i - 1] + f.a_dag[s][i - 1] @ f.a[s][i]) for s in range(2)]) for i in range(l)])\n",
    "H_S = H_hopp + sum([U * f.n[0][i] @ f.n[1][i] for i in range(l)])\n",
    "\n",
    "H_S_ = kron(H, f.eye)\n",
    "\n",
    "a_S = f.a[:][-1]\n",
    "a_S_dag = f.a_dag[:][-1]\n",
    "\n",
    "a_S_ = kron(a_S, f.eye)\n",
    "a_S_dag_ = kron(a_S_dag, f.eye)\n",
    "\n",
    "# right subsystem\n",
    "\n",
    "# fermion Hamiltonian is always even\n",
    "H_E_ = kron(f.eye, H_S)\n",
    "\n",
    "# a and a_dag are odd operators\n",
    "a_E_ = kron(f.parity, a_S)\n",
    "a_E_dag_ = kron(f.parity, a_S_dag)\n",
    "\n",
    "# joint system Hamiltonian\n",
    "\n",
    "H_SE = H_S_ + H_E_ - sum([t * (a_E_dag_[s] @ a_S_[s] + a_S_dag_[s] @ a_E_[s]) for s in range(2)])\n",
    "\n",
    "# now start regular iterations\n",
    "\n",
    "for i in range(num_iterations):\n",
    "\n",
    "    # find ground state\n",
    "    \n",
    "    from scipy.sparse.linalg import eigsh\n",
    "    E_GND, Psi_GND = eigsh(H_SE, k=1, which='SM')\n",
    "\n",
    "    # partial trace\n",
    "\n",
    "    r = reduce_bipartite(f.states.dimension, f.state_dimension, trace_over = 'R')\n",
    "\n",
    "    rho = r(Psi_GND)\n",
    "\n",
    "    # find eigenvalues sorted in ascending order\n",
    "\n",
    "    pi, T = la.find_eigs_descending(rho)\n",
    "\n",
    "    # keep only m largest eigenstates\n",
    "    # columns are eigenstates\n",
    "    T = T[:, : m] \n",
    "\n",
    "    # switch to the frame of revelant eigenstates\n",
    "    T_dag = T.conj().T\n",
    "    H_T = T_dag @ H_S @ T\n",
    "\n",
    "    a_T = [T_dag @ a_S[s] @ T for s in range(2)]\n",
    "    a_T_dag = [T_dag @ a_S_dag[s] @ T for s in range(2)]\n",
    "\n",
    "    # new parity operator\n",
    "    parity_T = T_dag @ f.parity @ T\n",
    "    eye_T = la.eye(m)\n",
    "    \n",
    "    # add new site\n",
    "    \n",
    "    g = spinfull_fermions(1)\n",
    "    \n",
    "    # a and a_dag are odd operators\n",
    "    a_S = kron(parity_T, g.a)\n",
    "    a_S_dag = kron(parity_T, g.a_dag)\n",
    "    \n",
    "    a_T_ = kron(a_T, g.eye)\n",
    "    a_T_dag_ = kron(a_T_dag, g.eye)\n",
    "    \n",
    "    # n is even operator\n",
    "    n_ = kron(eye_T, g.n[:, 0])\n",
    "        \n",
    "    H_S = H_T - t * sum([a_S_dag[s] @ a_T_[s] + a_T_dag_[s] @ a_S[s] for s in range(2)]) + U * n_[0] @ n_[1]\n",
    "    \n",
    "    eye_T_ = kron(eye_T, g.eye)\n",
    "    \n",
    "    # left subsystem\n",
    "    \n",
    "    H_S_ = kron(H_S, eye_T_)\n",
    "    \n",
    "    a_S_ = kron(a_S, eye_T_)\n",
    "    a_S_dag_ = kron(a_S_dag, eye_T_)\n",
    "\n",
    "    # right subsystem\n",
    "\n",
    "    parity_T_ = kron(parity_T, g.parity)\n",
    "\n",
    "    # fermion Hamiltonian is always even\n",
    "    H_E_ = kron(eye_T_, H_S)\n",
    "\n",
    "    # a and a_dag are odd operators\n",
    "    a_E_ = kron(parity_T_, a_S)\n",
    "    a_E_dag_ = kron(parity_T_, a_S_dag)\n",
    "    \n",
    "    # joint system Hamiltonian\n",
    "\n",
    "    H_SE = H_S_ + H_E_ - sum([t * (a_E_dag_[s] @ a_S_[s] + a_S_dag_[s] @ a_E_[s]) for s in range(2)])\n",
    "\n",
    "\n",
    "    \n",
    "    \n",
    "    \n",
    "    \n",
    "\n",
    "\n",
    "\n",
    "\n",
    "\n"
   ]
  },
  {
   "cell_type": "code",
   "execution_count": null,
   "metadata": {},
   "outputs": [],
   "source": [
    "f = spinfull_fermions(n_modes)\n",
    "\n",
    "f.states.state_at()\n",
    "f.states.index_of()\n",
    "\n",
    "f.vac()\n",
    "\n",
    "f.up.a[i]\n",
    "f.up.a_dag[i]\n",
    "\n",
    "f.down.a[i]\n",
    "f.down.a_dag[i]\n",
    "\n",
    "f.a[s,i] # s = 0 (up) 1 (down)\n",
    "f.a_dag[s, i]\n",
    "\n",
    "f.n[s, i]\n",
    "\n",
    "f.parity\n",
    "\n",
    "f.zero\n",
    "\n",
    "f.eye"
   ]
  },
  {
   "cell_type": "code",
   "execution_count": null,
   "metadata": {},
   "outputs": [],
   "source": [
    "import numpy as np\n",
    "\n",
    "array = np.empty((3, 3), dtype=object)\n",
    "array[0, 0] = Node(...)"
   ]
  }
 ],
 "metadata": {
  "kernelspec": {
   "display_name": "Python 3",
   "language": "python",
   "name": "python3"
  },
  "language_info": {
   "codemirror_mode": {
    "name": "ipython",
    "version": 3
   },
   "file_extension": ".py",
   "mimetype": "text/x-python",
   "name": "python",
   "nbconvert_exporter": "python",
   "pygments_lexer": "ipython3",
   "version": "3.11.5"
  }
 },
 "nbformat": 4,
 "nbformat_minor": 2
}
