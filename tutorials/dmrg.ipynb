{
 "cells": [
  {
   "cell_type": "code",
   "execution_count": 1,
   "metadata": {},
   "outputs": [],
   "source": [
    "import lightcones.linalg as ll\n",
    "from lightcones.linalg import kron\n",
    "from lightcones.models import spinfull_fermions\n",
    "\n",
    "\n",
    "U = 1\n",
    "t = 0.05\n",
    "\n",
    "num_iterations = 100\n",
    "\n",
    "m = 100\n",
    "l = 3 + 1\n",
    "\n",
    "# iteration 0: preparatory\n",
    "\n",
    "# left subsystem\n",
    "\n",
    "f = spinfull_fermions(l)"
   ]
  },
  {
   "cell_type": "code",
   "execution_count": 2,
   "metadata": {},
   "outputs": [],
   "source": [
    "H_hopp = sum([sum([- t * (f.a_dag[s][i] @ f.a[s][i - 1] + f.a_dag[s][i - 1] @ f.a[s][i]) for s in range(2)]) for i in range(l)])\n",
    "H_S = H_hopp + sum([U * f.n[0][i] @ f.n[1][i] for i in range(l)])"
   ]
  },
  {
   "cell_type": "code",
   "execution_count": 3,
   "metadata": {},
   "outputs": [],
   "source": [
    "H_S_ = kron(H_S, f.eye)"
   ]
  },
  {
   "cell_type": "code",
   "execution_count": 4,
   "metadata": {},
   "outputs": [],
   "source": [
    "import scipy"
   ]
  },
  {
   "cell_type": "code",
   "execution_count": 5,
   "metadata": {},
   "outputs": [],
   "source": [
    "\n",
    "H_S_2 = scipy.sparse.kron(H_S, f.eye, format = 'csc')"
   ]
  },
  {
   "cell_type": "code",
   "execution_count": 6,
   "metadata": {},
   "outputs": [
    {
     "data": {
      "text/plain": [
       "<Compressed Sparse Column sparse matrix of dtype 'complex128'\n",
       "\twith 306944 stored elements and shape (65536, 65536)>"
      ]
     },
     "execution_count": 6,
     "metadata": {},
     "output_type": "execute_result"
    }
   ],
   "source": [
    "H_S_2"
   ]
  },
  {
   "cell_type": "code",
   "execution_count": 7,
   "metadata": {},
   "outputs": [],
   "source": [
    "a_S = f.a[:][-1]\n",
    "a_S_dag = f.a_dag[:][-1]"
   ]
  },
  {
   "cell_type": "code",
   "execution_count": 9,
   "metadata": {},
   "outputs": [
    {
     "data": {
      "text/plain": [
       "[<Compressed Sparse Column sparse matrix of dtype 'complex128'\n",
       " \twith 2048 stored elements and shape (4096, 4096)>,\n",
       " <Compressed Sparse Column sparse matrix of dtype 'complex128'\n",
       " \twith 2048 stored elements and shape (4096, 4096)>,\n",
       " <Compressed Sparse Column sparse matrix of dtype 'complex128'\n",
       " \twith 2048 stored elements and shape (4096, 4096)>,\n",
       " <Compressed Sparse Column sparse matrix of dtype 'complex128'\n",
       " \twith 2048 stored elements and shape (4096, 4096)>,\n",
       " <Compressed Sparse Column sparse matrix of dtype 'complex128'\n",
       " \twith 2048 stored elements and shape (4096, 4096)>,\n",
       " <Compressed Sparse Column sparse matrix of dtype 'complex128'\n",
       " \twith 2048 stored elements and shape (4096, 4096)>]"
      ]
     },
     "execution_count": 9,
     "metadata": {},
     "output_type": "execute_result"
    }
   ],
   "source": [
    "a_S"
   ]
  },
  {
   "cell_type": "code",
   "execution_count": 8,
   "metadata": {},
   "outputs": [],
   "source": [
    "a_S_ = kron(a_S, f.eye)"
   ]
  },
  {
   "cell_type": "code",
   "execution_count": 10,
   "metadata": {},
   "outputs": [],
   "source": [
    "a_S_dag_ = kron(a_S_dag, f.eye)"
   ]
  },
  {
   "cell_type": "code",
   "execution_count": 11,
   "metadata": {},
   "outputs": [],
   "source": [
    "H_E_ = kron(f.eye, H_S)"
   ]
  },
  {
   "cell_type": "code",
   "execution_count": 15,
   "metadata": {},
   "outputs": [
    {
     "name": "stdout",
     "output_type": "stream",
     "text": [
      "E_GND =  [-23.80528357]\n"
     ]
    },
    {
     "ename": "Exception",
     "evalue": "Unsupported types for kron",
     "output_type": "error",
     "traceback": [
      "\u001b[0;31m---------------------------------------------------------------------------\u001b[0m",
      "\u001b[0;31mException\u001b[0m                                 Traceback (most recent call last)",
      "Cell \u001b[0;32mIn[15], line 93\u001b[0m\n\u001b[1;32m     88\u001b[0m g \u001b[38;5;241m=\u001b[39m spinfull_fermions(\u001b[38;5;241m1\u001b[39m)\n\u001b[1;32m     90\u001b[0m \u001b[38;5;66;03m# new boundary operators\u001b[39;00m\n\u001b[1;32m     91\u001b[0m \n\u001b[1;32m     92\u001b[0m \u001b[38;5;66;03m# a and a_dag are odd operators\u001b[39;00m\n\u001b[0;32m---> 93\u001b[0m a_S \u001b[38;5;241m=\u001b[39m \u001b[43mkron\u001b[49m\u001b[43m(\u001b[49m\u001b[43mparity_T\u001b[49m\u001b[43m,\u001b[49m\u001b[43m \u001b[49m\u001b[43m[\u001b[49m\u001b[43mg\u001b[49m\u001b[38;5;241;43m.\u001b[39;49m\u001b[43ma\u001b[49m\u001b[43m[\u001b[49m\u001b[43ms\u001b[49m\u001b[43m]\u001b[49m\u001b[43m[\u001b[49m\u001b[38;5;241;43m0\u001b[39;49m\u001b[43m]\u001b[49m\u001b[43m \u001b[49m\u001b[38;5;28;43;01mfor\u001b[39;49;00m\u001b[43m \u001b[49m\u001b[43ms\u001b[49m\u001b[43m \u001b[49m\u001b[38;5;129;43;01min\u001b[39;49;00m\u001b[43m \u001b[49m\u001b[38;5;28;43mrange\u001b[39;49m\u001b[43m(\u001b[49m\u001b[38;5;241;43m2\u001b[39;49m\u001b[43m)\u001b[49m\u001b[43m]\u001b[49m\u001b[43m)\u001b[49m\n\u001b[1;32m     94\u001b[0m a_S_dag \u001b[38;5;241m=\u001b[39m kron(parity_T, [g\u001b[38;5;241m.\u001b[39ma_dag[s][\u001b[38;5;241m0\u001b[39m] \u001b[38;5;28;01mfor\u001b[39;00m s \u001b[38;5;129;01min\u001b[39;00m \u001b[38;5;28mrange\u001b[39m(\u001b[38;5;241m2\u001b[39m)])\n\u001b[1;32m     96\u001b[0m a_T_ \u001b[38;5;241m=\u001b[39m kron(a_T, g\u001b[38;5;241m.\u001b[39meye)\n",
      "File \u001b[0;32m~/condmat/lightcones_2024/infinite_dmrg.3/lightcones/venv/lib/python3.11/site-packages/lightcones/linalg/__init__.py:194\u001b[0m, in \u001b[0;36mkron\u001b[0;34m(a, b)\u001b[0m\n\u001b[1;32m    191\u001b[0m \u001b[38;5;28;01mif\u001b[39;00m is_sparse_matrix(a) \u001b[38;5;129;01mand\u001b[39;00m is_list_of_any(b):\n\u001b[1;32m    192\u001b[0m     \u001b[38;5;28;01mreturn\u001b[39;00m kron_sparse_list(a, b)\n\u001b[0;32m--> 194\u001b[0m \u001b[38;5;28;01mraise\u001b[39;00m \u001b[38;5;167;01mException\u001b[39;00m(\u001b[38;5;124m'\u001b[39m\u001b[38;5;124mUnsupported types for kron\u001b[39m\u001b[38;5;124m'\u001b[39m)\n",
      "\u001b[0;31mException\u001b[0m: Unsupported types for kron"
     ]
    }
   ],
   "source": [
    "import numpy as np\n",
    "import lightcones.linalg as ll\n",
    "from lightcones.linalg import kron\n",
    "from lightcones.models import spinfull_fermions\n",
    "import lightcones.space as sp\n",
    "\n",
    "\n",
    "U = 1\n",
    "t = 0.05\n",
    "\n",
    "num_iterations = 1\n",
    "\n",
    "m = 100\n",
    "l = 3 + 1\n",
    "\n",
    "# iteration 0: preparatory\n",
    "\n",
    "# left subsystem\n",
    "\n",
    "f = spinfull_fermions(l)\n",
    "\n",
    "H_hopp = sum([sum([- t * (f.a_dag[s][i] @ f.a[s][i - 1] + f.a_dag[s][i - 1] @ f.a[s][i]) for s in range(2)]) for i in range(l)])\n",
    "H_S = H_hopp + sum([U * f.n[0][i] @ f.n[1][i] for i in range(l)])\n",
    "\n",
    "H_S_ = kron(H_S, f.eye)\n",
    "\n",
    "a_S = f.a[:][-1]\n",
    "a_S_dag = f.a_dag[:][-1]\n",
    "\n",
    "a_S_ = kron(a_S, f.eye)\n",
    "a_S_dag_ = kron(a_S_dag, f.eye)\n",
    "\n",
    "# right subsystem\n",
    "\n",
    "# fermion Hamiltonian is always even\n",
    "H_E_ = kron(f.eye, H_S)\n",
    "\n",
    "# a and a_dag are odd operators\n",
    "a_E_ = kron(f.parity, a_S)\n",
    "a_E_dag_ = kron(f.parity, a_S_dag)\n",
    "\n",
    "# joint system Hamiltonian\n",
    "H_SE = H_S_ + H_E_ - sum([t * (a_E_dag_[s] @ a_S_[s] + a_S_dag_[s] @ a_E_[s]) for s in range(2)])\n",
    "\n",
    "# initial lanczos wavefunction for\n",
    "# half filled case:\n",
    "psi0 = np.zeros(f.dimension**2, dtype = complex)\n",
    "psi0[0] = 1.0\n",
    "for i in range(l):\n",
    "    # populate left part\n",
    "    psi0 = (kron(f.a_dag[0][i], f.eye) + kron(f.a_dag[1][i], f.eye)) @ psi0\n",
    "    # popular right part\n",
    "    psi0 = (kron(f.parity, f.a_dag[0][i]) + kron(f.parity, f.a_dag[1][i])) @ psi0\n",
    "\n",
    "# now start regular iterations\n",
    "\n",
    "for i in range(num_iterations):\n",
    "\n",
    "    # find ground state\n",
    "    E_GND, Psi_GND = ll.lancz_gnd_state(psi0, H_SE, 10)\n",
    "    \n",
    "    print(\"E_GND = \", E_GND)\n",
    "    \n",
    "    # partial trace\n",
    "    bp = sp.bipartite(f.dimension, f.dimension)\n",
    "    rho = bp.trace_out_R(Psi_GND)\n",
    "    \n",
    "    # find eigenvalues sorted in descending order\n",
    "    pi, T = ll.find_eigs_descending(rho)\n",
    "\n",
    "    # keep only m largest eigenstates\n",
    "    # columns are eigenstates\n",
    "    T = T[:, : m] \n",
    "\n",
    "    # switch to the frame of revelant eigenstates\n",
    "    T_dag = T.conj().T\n",
    "    H_T = T_dag @ H_S @ T\n",
    "\n",
    "    # boundary operators also get renormalized\n",
    "    a_T = [T_dag @ a_S[s] @ T for s in range(2)]\n",
    "    a_T_dag = [T_dag @ a_S_dag[s] @ T for s in range(2)]\n",
    "\n",
    "    # new parity operator\n",
    "    parity_T = T_dag @ f.parity @ T\n",
    "    eye_T = ll.eye(m)\n",
    "    \n",
    "    # add new site\n",
    "    g = spinfull_fermions(1)\n",
    "    \n",
    "    # new boundary operators\n",
    "    \n",
    "    # a and a_dag are odd operators\n",
    "    a_S = kron(parity_T, [g.a[s][0] for s in range(2)])\n",
    "    a_S_dag = kron(parity_T, [g.a_dag[s][0] for s in range(2)])\n",
    "    \n",
    "    a_T_ = kron(a_T, g.eye)\n",
    "    a_T_dag_ = kron(a_T_dag, g.eye)\n",
    "    \n",
    "    # n is even operator\n",
    "    n_ = kron(eye_T, [g.n[s][0] for s in range(2)])\n",
    "        \n",
    "    H_S = H_T - t * sum([a_S_dag[s] @ a_T_[s] + a_T_dag_[s] @ a_S[s] for s in range(2)]) + U * n_[0] @ n_[1]\n",
    "    \n",
    "    eye_T_ = kron(eye_T, g.eye)\n",
    "    \n",
    "    # left subsystem\n",
    "    \n",
    "    H_S_ = kron(H_S, eye_T_)\n",
    "    \n",
    "    a_S_ = kron(a_S, eye_T_)\n",
    "    a_S_dag_ = kron(a_S_dag, eye_T_)\n",
    "\n",
    "    # right subsystem\n",
    "\n",
    "    parity_T_ = kron(parity_T, g.parity)\n",
    "    \n",
    "    # fermion Hamiltonian is always even\n",
    "    H_E_ = kron(eye_T_, H_S)\n",
    "\n",
    "    # a and a_dag are odd operators\n",
    "    a_E_ = kron(parity_T_, a_S)\n",
    "    a_E_dag_ = kron(parity_T_, a_S_dag)\n",
    "    \n",
    "    # joint system Hamiltonian\n",
    "\n",
    "    H_SE = H_S_ + H_E_ - sum([t * (a_E_dag_[s] @ a_S_[s] + a_S_dag_[s] @ a_E_[s]) for s in range(2)])"
   ]
  },
  {
   "cell_type": "code",
   "execution_count": 16,
   "metadata": {},
   "outputs": [
    {
     "ename": "Exception",
     "evalue": "Unsupported types for kron",
     "output_type": "error",
     "traceback": [
      "\u001b[0;31m---------------------------------------------------------------------------\u001b[0m",
      "\u001b[0;31mException\u001b[0m                                 Traceback (most recent call last)",
      "Cell \u001b[0;32mIn[16], line 1\u001b[0m\n\u001b[0;32m----> 1\u001b[0m \u001b[43mkron\u001b[49m\u001b[43m(\u001b[49m\u001b[43mparity_T\u001b[49m\u001b[43m,\u001b[49m\u001b[43m \u001b[49m\u001b[43m[\u001b[49m\u001b[43mg\u001b[49m\u001b[38;5;241;43m.\u001b[39;49m\u001b[43ma\u001b[49m\u001b[43m[\u001b[49m\u001b[43ms\u001b[49m\u001b[43m]\u001b[49m\u001b[43m[\u001b[49m\u001b[38;5;241;43m0\u001b[39;49m\u001b[43m]\u001b[49m\u001b[43m \u001b[49m\u001b[38;5;28;43;01mfor\u001b[39;49;00m\u001b[43m \u001b[49m\u001b[43ms\u001b[49m\u001b[43m \u001b[49m\u001b[38;5;129;43;01min\u001b[39;49;00m\u001b[43m \u001b[49m\u001b[38;5;28;43mrange\u001b[39;49m\u001b[43m(\u001b[49m\u001b[38;5;241;43m2\u001b[39;49m\u001b[43m)\u001b[49m\u001b[43m]\u001b[49m\u001b[43m)\u001b[49m\n",
      "File \u001b[0;32m~/condmat/lightcones_2024/infinite_dmrg.3/lightcones/venv/lib/python3.11/site-packages/lightcones/linalg/__init__.py:194\u001b[0m, in \u001b[0;36mkron\u001b[0;34m(a, b)\u001b[0m\n\u001b[1;32m    191\u001b[0m \u001b[38;5;28;01mif\u001b[39;00m is_sparse_matrix(a) \u001b[38;5;129;01mand\u001b[39;00m is_list_of_any(b):\n\u001b[1;32m    192\u001b[0m     \u001b[38;5;28;01mreturn\u001b[39;00m kron_sparse_list(a, b)\n\u001b[0;32m--> 194\u001b[0m \u001b[38;5;28;01mraise\u001b[39;00m \u001b[38;5;167;01mException\u001b[39;00m(\u001b[38;5;124m'\u001b[39m\u001b[38;5;124mUnsupported types for kron\u001b[39m\u001b[38;5;124m'\u001b[39m)\n",
      "\u001b[0;31mException\u001b[0m: Unsupported types for kron"
     ]
    }
   ],
   "source": [
    "kron(parity_T, [g.a[s][0] for s in range(2)])"
   ]
  },
  {
   "cell_type": "code",
   "execution_count": 19,
   "metadata": {},
   "outputs": [
    {
     "name": "stdout",
     "output_type": "stream",
     "text": [
      "<class 'numpy.ndarray'>\n"
     ]
    }
   ],
   "source": [
    "print(type(parity_T))"
   ]
  },
  {
   "cell_type": "code",
   "execution_count": 25,
   "metadata": {},
   "outputs": [],
   "source": [
    "import scipy\n",
    "import numpy"
   ]
  },
  {
   "cell_type": "code",
   "execution_count": 26,
   "metadata": {},
   "outputs": [],
   "source": [
    "def is_sparse_matrix(a):\n",
    "    if isinstance(a, scipy.sparse.csc_matrix):\n",
    "        return True\n",
    "    if isinstance(a, numpy.ndarray) and a.ndim == 2:\n",
    "        return True"
   ]
  },
  {
   "cell_type": "code",
   "execution_count": 27,
   "metadata": {},
   "outputs": [
    {
     "data": {
      "text/plain": [
       "True"
      ]
     },
     "execution_count": 27,
     "metadata": {},
     "output_type": "execute_result"
    }
   ],
   "source": [
    "is_sparse_matrix(parity_T)"
   ]
  },
  {
   "cell_type": "code",
   "execution_count": 17,
   "metadata": {},
   "outputs": [
    {
     "data": {
      "text/plain": [
       "array([[ 1.00000000e+00+0.j,  1.02565360e-17+0.j, -5.15329956e-17+0.j,\n",
       "        ...,  3.46944695e-18+0.j, -8.67361738e-19+0.j,\n",
       "        -4.33680869e-18+0.j],\n",
       "       [ 1.02565360e-17+0.j, -1.00000000e+00+0.j,  1.52330405e-17+0.j,\n",
       "        ...,  5.26254371e-17+0.j,  9.46401767e-17+0.j,\n",
       "        -1.24024952e-17+0.j],\n",
       "       [-5.15329956e-17+0.j,  1.52330405e-17+0.j, -1.00000000e+00+0.j,\n",
       "        ..., -5.46388830e-16+0.j, -4.40976505e-17+0.j,\n",
       "         2.79783261e-17+0.j],\n",
       "       ...,\n",
       "       [ 3.46944695e-18+0.j,  5.26254371e-17+0.j, -5.46388830e-16+0.j,\n",
       "        ..., -4.22686088e-01+0.j,  3.86737198e-01+0.j,\n",
       "         4.28768176e-02+0.j],\n",
       "       [-8.67361738e-19+0.j,  9.46401767e-17+0.j, -4.40976505e-17+0.j,\n",
       "        ...,  3.86737198e-01+0.j, -2.14610628e-01+0.j,\n",
       "         1.05354078e-01+0.j],\n",
       "       [-4.33680869e-18+0.j, -1.24024952e-17+0.j,  2.79783261e-17+0.j,\n",
       "        ...,  4.28768176e-02+0.j,  1.05354078e-01+0.j,\n",
       "        -6.65462964e-01+0.j]])"
      ]
     },
     "execution_count": 17,
     "metadata": {},
     "output_type": "execute_result"
    }
   ],
   "source": [
    "parity_T"
   ]
  },
  {
   "cell_type": "code",
   "execution_count": 18,
   "metadata": {},
   "outputs": [
    {
     "data": {
      "text/plain": [
       "[<Compressed Sparse Column sparse matrix of dtype 'complex128'\n",
       " \twith 2 stored elements and shape (4, 4)>,\n",
       " <Compressed Sparse Column sparse matrix of dtype 'complex128'\n",
       " \twith 2 stored elements and shape (4, 4)>]"
      ]
     },
     "execution_count": 18,
     "metadata": {},
     "output_type": "execute_result"
    }
   ],
   "source": [
    "[g.a[s][0] for s in range(2)]"
   ]
  },
  {
   "cell_type": "code",
   "execution_count": 2,
   "metadata": {},
   "outputs": [],
   "source": [
    "import numpy as np"
   ]
  },
  {
   "cell_type": "code",
   "execution_count": 16,
   "metadata": {},
   "outputs": [],
   "source": [
    "psi = np.zeros(f.fermions.states.dimension ** 4, dtype = complex)\n",
    "psi[:] = 1.0 \n"
   ]
  },
  {
   "cell_type": "code",
   "execution_count": 11,
   "metadata": {},
   "outputs": [
    {
     "data": {
      "text/plain": [
       "65536"
      ]
     },
     "execution_count": 11,
     "metadata": {},
     "output_type": "execute_result"
    }
   ],
   "source": [
    "f.fermions.states.dimension ** 4"
   ]
  },
  {
   "cell_type": "code",
   "execution_count": 9,
   "metadata": {},
   "outputs": [
    {
     "data": {
      "text/plain": [
       "<Compressed Sparse Column sparse matrix of dtype 'complex128'\n",
       "\twith 648799 stored elements and shape (65536, 65536)>"
      ]
     },
     "execution_count": 9,
     "metadata": {},
     "output_type": "execute_result"
    }
   ],
   "source": [
    "H_SE"
   ]
  },
  {
   "cell_type": "code",
   "execution_count": 21,
   "metadata": {},
   "outputs": [],
   "source": [
    "import math"
   ]
  },
  {
   "cell_type": "code",
   "execution_count": 23,
   "metadata": {},
   "outputs": [],
   "source": [
    "for i in range(100):\n",
    "    psi = H_SE @ psi\n",
    "    psi = psi / math.sqrt(np.vdot(psi, psi).real)"
   ]
  },
  {
   "cell_type": "code",
   "execution_count": null,
   "metadata": {},
   "outputs": [],
   "source": []
  },
  {
   "cell_type": "code",
   "execution_count": 7,
   "metadata": {},
   "outputs": [
    {
     "ename": "KeyboardInterrupt",
     "evalue": "",
     "output_type": "error",
     "traceback": [
      "\u001b[0;31m---------------------------------------------------------------------------\u001b[0m",
      "\u001b[0;31mKeyboardInterrupt\u001b[0m                         Traceback (most recent call last)",
      "Cell \u001b[0;32mIn[7], line 2\u001b[0m\n\u001b[1;32m      1\u001b[0m \u001b[38;5;28;01mfrom\u001b[39;00m \u001b[38;5;21;01mscipy\u001b[39;00m\u001b[38;5;21;01m.\u001b[39;00m\u001b[38;5;21;01msparse\u001b[39;00m\u001b[38;5;21;01m.\u001b[39;00m\u001b[38;5;21;01mlinalg\u001b[39;00m \u001b[38;5;28;01mimport\u001b[39;00m eigsh\n\u001b[0;32m----> 2\u001b[0m E_GND, Psi_GND \u001b[38;5;241m=\u001b[39m \u001b[43meigsh\u001b[49m\u001b[43m(\u001b[49m\u001b[43mH_SE\u001b[49m\u001b[43m,\u001b[49m\u001b[43m \u001b[49m\u001b[43mk\u001b[49m\u001b[38;5;241;43m=\u001b[39;49m\u001b[38;5;241;43m1\u001b[39;49m\u001b[43m,\u001b[49m\u001b[43m \u001b[49m\u001b[43mwhich\u001b[49m\u001b[38;5;241;43m=\u001b[39;49m\u001b[38;5;124;43m'\u001b[39;49m\u001b[38;5;124;43mSM\u001b[39;49m\u001b[38;5;124;43m'\u001b[39;49m\u001b[43m)\u001b[49m\n",
      "File \u001b[0;32m~/condmat/lightcones_2024/infinite_dmrg.3/lightcones/venv/lib/python3.11/site-packages/scipy/sparse/linalg/_eigen/arpack/arpack.py:1577\u001b[0m, in \u001b[0;36meigsh\u001b[0;34m(A, k, M, sigma, which, v0, ncv, maxiter, tol, return_eigenvectors, Minv, OPinv, mode)\u001b[0m\n\u001b[1;32m   1575\u001b[0m \u001b[38;5;28;01melif\u001b[39;00m which \u001b[38;5;241m==\u001b[39m \u001b[38;5;124m'\u001b[39m\u001b[38;5;124mSA\u001b[39m\u001b[38;5;124m'\u001b[39m:\n\u001b[1;32m   1576\u001b[0m     which \u001b[38;5;241m=\u001b[39m \u001b[38;5;124m'\u001b[39m\u001b[38;5;124mSR\u001b[39m\u001b[38;5;124m'\u001b[39m\n\u001b[0;32m-> 1577\u001b[0m ret \u001b[38;5;241m=\u001b[39m \u001b[43meigs\u001b[49m\u001b[43m(\u001b[49m\u001b[43mA\u001b[49m\u001b[43m,\u001b[49m\u001b[43m \u001b[49m\u001b[43mk\u001b[49m\u001b[43m,\u001b[49m\u001b[43m \u001b[49m\u001b[43mM\u001b[49m\u001b[38;5;241;43m=\u001b[39;49m\u001b[43mM\u001b[49m\u001b[43m,\u001b[49m\u001b[43m \u001b[49m\u001b[43msigma\u001b[49m\u001b[38;5;241;43m=\u001b[39;49m\u001b[43msigma\u001b[49m\u001b[43m,\u001b[49m\u001b[43m \u001b[49m\u001b[43mwhich\u001b[49m\u001b[38;5;241;43m=\u001b[39;49m\u001b[43mwhich\u001b[49m\u001b[43m,\u001b[49m\u001b[43m \u001b[49m\u001b[43mv0\u001b[49m\u001b[38;5;241;43m=\u001b[39;49m\u001b[43mv0\u001b[49m\u001b[43m,\u001b[49m\n\u001b[1;32m   1578\u001b[0m \u001b[43m           \u001b[49m\u001b[43mncv\u001b[49m\u001b[38;5;241;43m=\u001b[39;49m\u001b[43mncv\u001b[49m\u001b[43m,\u001b[49m\u001b[43m \u001b[49m\u001b[43mmaxiter\u001b[49m\u001b[38;5;241;43m=\u001b[39;49m\u001b[43mmaxiter\u001b[49m\u001b[43m,\u001b[49m\u001b[43m \u001b[49m\u001b[43mtol\u001b[49m\u001b[38;5;241;43m=\u001b[39;49m\u001b[43mtol\u001b[49m\u001b[43m,\u001b[49m\n\u001b[1;32m   1579\u001b[0m \u001b[43m           \u001b[49m\u001b[43mreturn_eigenvectors\u001b[49m\u001b[38;5;241;43m=\u001b[39;49m\u001b[43mreturn_eigenvectors\u001b[49m\u001b[43m,\u001b[49m\u001b[43m \u001b[49m\u001b[43mMinv\u001b[49m\u001b[38;5;241;43m=\u001b[39;49m\u001b[43mMinv\u001b[49m\u001b[43m,\u001b[49m\n\u001b[1;32m   1580\u001b[0m \u001b[43m           \u001b[49m\u001b[43mOPinv\u001b[49m\u001b[38;5;241;43m=\u001b[39;49m\u001b[43mOPinv\u001b[49m\u001b[43m)\u001b[49m\n\u001b[1;32m   1582\u001b[0m \u001b[38;5;28;01mif\u001b[39;00m return_eigenvectors:\n\u001b[1;32m   1583\u001b[0m     \u001b[38;5;28;01mreturn\u001b[39;00m ret[\u001b[38;5;241m0\u001b[39m]\u001b[38;5;241m.\u001b[39mreal, ret[\u001b[38;5;241m1\u001b[39m]\n",
      "File \u001b[0;32m~/condmat/lightcones_2024/infinite_dmrg.3/lightcones/venv/lib/python3.11/site-packages/scipy/sparse/linalg/_eigen/arpack/arpack.py:1355\u001b[0m, in \u001b[0;36meigs\u001b[0;34m(A, k, M, sigma, which, v0, ncv, maxiter, tol, return_eigenvectors, Minv, OPinv, OPpart)\u001b[0m\n\u001b[1;32m   1353\u001b[0m \u001b[38;5;28;01mwith\u001b[39;00m _ARPACK_LOCK:\n\u001b[1;32m   1354\u001b[0m     \u001b[38;5;28;01mwhile\u001b[39;00m \u001b[38;5;129;01mnot\u001b[39;00m params\u001b[38;5;241m.\u001b[39mconverged:\n\u001b[0;32m-> 1355\u001b[0m         \u001b[43mparams\u001b[49m\u001b[38;5;241;43m.\u001b[39;49m\u001b[43miterate\u001b[49m\u001b[43m(\u001b[49m\u001b[43m)\u001b[49m\n\u001b[1;32m   1357\u001b[0m     \u001b[38;5;28;01mreturn\u001b[39;00m params\u001b[38;5;241m.\u001b[39mextract(return_eigenvectors)\n",
      "File \u001b[0;32m~/condmat/lightcones_2024/infinite_dmrg.3/lightcones/venv/lib/python3.11/site-packages/scipy/sparse/linalg/_eigen/arpack/arpack.py:730\u001b[0m, in \u001b[0;36m_UnsymmetricArpackParams.iterate\u001b[0;34m(self)\u001b[0m\n\u001b[1;32m    726\u001b[0m     \u001b[38;5;28mself\u001b[39m\u001b[38;5;241m.\u001b[39mido, \u001b[38;5;28mself\u001b[39m\u001b[38;5;241m.\u001b[39mtol, \u001b[38;5;28mself\u001b[39m\u001b[38;5;241m.\u001b[39mresid, \u001b[38;5;28mself\u001b[39m\u001b[38;5;241m.\u001b[39mv, \\\n\u001b[1;32m    727\u001b[0m         \u001b[38;5;28mself\u001b[39m\u001b[38;5;241m.\u001b[39miparam, \u001b[38;5;28mself\u001b[39m\u001b[38;5;241m.\u001b[39mipntr, \u001b[38;5;28mself\u001b[39m\u001b[38;5;241m.\u001b[39minfo \u001b[38;5;241m=\u001b[39m results\n\u001b[1;32m    729\u001b[0m \u001b[38;5;28;01melse\u001b[39;00m:\n\u001b[0;32m--> 730\u001b[0m     results \u001b[38;5;241m=\u001b[39m \u001b[38;5;28;43mself\u001b[39;49m\u001b[38;5;241;43m.\u001b[39;49m\u001b[43m_arpack_solver\u001b[49m\u001b[43m(\u001b[49m\u001b[38;5;28;43mself\u001b[39;49m\u001b[38;5;241;43m.\u001b[39;49m\u001b[43mido\u001b[49m\u001b[43m,\u001b[49m\u001b[43m \u001b[49m\u001b[38;5;28;43mself\u001b[39;49m\u001b[38;5;241;43m.\u001b[39;49m\u001b[43mbmat\u001b[49m\u001b[43m,\u001b[49m\u001b[43m \u001b[49m\u001b[38;5;28;43mself\u001b[39;49m\u001b[38;5;241;43m.\u001b[39;49m\u001b[43mwhich\u001b[49m\u001b[43m,\u001b[49m\u001b[43m \u001b[49m\u001b[38;5;28;43mself\u001b[39;49m\u001b[38;5;241;43m.\u001b[39;49m\u001b[43mk\u001b[49m\u001b[43m,\u001b[49m\n\u001b[1;32m    731\u001b[0m \u001b[43m                                  \u001b[49m\u001b[38;5;28;43mself\u001b[39;49m\u001b[38;5;241;43m.\u001b[39;49m\u001b[43mtol\u001b[49m\u001b[43m,\u001b[49m\u001b[43m \u001b[49m\u001b[38;5;28;43mself\u001b[39;49m\u001b[38;5;241;43m.\u001b[39;49m\u001b[43mresid\u001b[49m\u001b[43m,\u001b[49m\u001b[43m \u001b[49m\u001b[38;5;28;43mself\u001b[39;49m\u001b[38;5;241;43m.\u001b[39;49m\u001b[43mv\u001b[49m\u001b[43m,\u001b[49m\u001b[43m \u001b[49m\u001b[38;5;28;43mself\u001b[39;49m\u001b[38;5;241;43m.\u001b[39;49m\u001b[43miparam\u001b[49m\u001b[43m,\u001b[49m\n\u001b[1;32m    732\u001b[0m \u001b[43m                                  \u001b[49m\u001b[38;5;28;43mself\u001b[39;49m\u001b[38;5;241;43m.\u001b[39;49m\u001b[43mipntr\u001b[49m\u001b[43m,\u001b[49m\u001b[43m \u001b[49m\u001b[38;5;28;43mself\u001b[39;49m\u001b[38;5;241;43m.\u001b[39;49m\u001b[43mworkd\u001b[49m\u001b[43m,\u001b[49m\u001b[43m \u001b[49m\u001b[38;5;28;43mself\u001b[39;49m\u001b[38;5;241;43m.\u001b[39;49m\u001b[43mworkl\u001b[49m\u001b[43m,\u001b[49m\n\u001b[1;32m    733\u001b[0m \u001b[43m                                  \u001b[49m\u001b[38;5;28;43mself\u001b[39;49m\u001b[38;5;241;43m.\u001b[39;49m\u001b[43mrwork\u001b[49m\u001b[43m,\u001b[49m\u001b[43m \u001b[49m\u001b[38;5;28;43mself\u001b[39;49m\u001b[38;5;241;43m.\u001b[39;49m\u001b[43minfo\u001b[49m\u001b[43m)\u001b[49m\n\u001b[1;32m    734\u001b[0m     \u001b[38;5;28mself\u001b[39m\u001b[38;5;241m.\u001b[39mido, \u001b[38;5;28mself\u001b[39m\u001b[38;5;241m.\u001b[39mtol, \u001b[38;5;28mself\u001b[39m\u001b[38;5;241m.\u001b[39mresid, \u001b[38;5;28mself\u001b[39m\u001b[38;5;241m.\u001b[39mv, \\\n\u001b[1;32m    735\u001b[0m         \u001b[38;5;28mself\u001b[39m\u001b[38;5;241m.\u001b[39miparam, \u001b[38;5;28mself\u001b[39m\u001b[38;5;241m.\u001b[39mipntr, \u001b[38;5;28mself\u001b[39m\u001b[38;5;241m.\u001b[39minfo \u001b[38;5;241m=\u001b[39m results\n\u001b[1;32m    738\u001b[0m xslice \u001b[38;5;241m=\u001b[39m \u001b[38;5;28mslice\u001b[39m(\u001b[38;5;28mself\u001b[39m\u001b[38;5;241m.\u001b[39mipntr[\u001b[38;5;241m0\u001b[39m] \u001b[38;5;241m-\u001b[39m \u001b[38;5;241m1\u001b[39m, \u001b[38;5;28mself\u001b[39m\u001b[38;5;241m.\u001b[39mipntr[\u001b[38;5;241m0\u001b[39m] \u001b[38;5;241m-\u001b[39m \u001b[38;5;241m1\u001b[39m \u001b[38;5;241m+\u001b[39m \u001b[38;5;28mself\u001b[39m\u001b[38;5;241m.\u001b[39mn)\n",
      "\u001b[0;31mKeyboardInterrupt\u001b[0m: "
     ]
    }
   ],
   "source": [
    "from scipy.sparse.linalg import eigsh\n",
    "E_GND, Psi_GND = eigsh(H_SE, k=1, which='SM')"
   ]
  },
  {
   "cell_type": "code",
   "execution_count": null,
   "metadata": {},
   "outputs": [],
   "source": [
    "import lightcones.linalg as la\n",
    "from lightcones.linalg import kron\n",
    "\n",
    "U = 1\n",
    "t = 0.05\n",
    "\n",
    "#eps_cut = 0.00001\n",
    "\n",
    "num_iterations = 100\n",
    "\n",
    "m = 100\n",
    "l = 5 + 1\n",
    "\n",
    "# iteration 0: preparatory\n",
    "\n",
    "# left subsystem\n",
    "\n",
    "f = spinfull_fermions(l)\n",
    "\n",
    "H_hopp = sum([sum([- t * (f.a_dag[s][i] @ f.a[s][i - 1] + f.a_dag[s][i - 1] @ f.a[s][i]) for s in range(2)]) for i in range(l)])\n",
    "H_S = H_hopp + sum([U * f.n[0][i] @ f.n[1][i] for i in range(l)])\n",
    "\n",
    "H_S_ = kron(H, f.eye)\n",
    "\n",
    "a_S = f.a[:][-1]\n",
    "a_S_dag = f.a_dag[:][-1]\n",
    "\n",
    "a_S_ = kron(a_S, f.eye)\n",
    "a_S_dag_ = kron(a_S_dag, f.eye)\n",
    "\n",
    "# right subsystem\n",
    "\n",
    "# fermion Hamiltonian is always even\n",
    "H_E_ = kron(f.eye, H_S)\n",
    "\n",
    "# a and a_dag are odd operators\n",
    "a_E_ = kron(f.parity, a_S)\n",
    "a_E_dag_ = kron(f.parity, a_S_dag)\n",
    "\n",
    "# joint system Hamiltonian\n",
    "\n",
    "H_SE = H_S_ + H_E_ - sum([t * (a_E_dag_[s] @ a_S_[s] + a_S_dag_[s] @ a_E_[s]) for s in range(2)])\n",
    "\n",
    "# now start regular iterations\n",
    "\n",
    "for i in range(num_iterations):\n",
    "\n",
    "    # find ground state\n",
    "    \n",
    "    from scipy.sparse.linalg import eigsh\n",
    "    E_GND, Psi_GND = eigsh(H_SE, k=1, which='SM')\n",
    "\n",
    "    # partial trace\n",
    "\n",
    "    r = reduce_bipartite(f.states.dimension, f.state_dimension, trace_over = 'R')\n",
    "\n",
    "    rho = r(Psi_GND)\n",
    "\n",
    "    # find eigenvalues sorted in ascending order\n",
    "\n",
    "    pi, T = la.find_eigs_descending(rho)\n",
    "\n",
    "    # keep only m largest eigenstates\n",
    "    # columns are eigenstates\n",
    "    T = T[:, : m] \n",
    "\n",
    "    # switch to the frame of revelant eigenstates\n",
    "    T_dag = T.conj().T\n",
    "    H_T = T_dag @ H_S @ T\n",
    "\n",
    "    a_T = [T_dag @ a_S[s] @ T for s in range(2)]\n",
    "    a_T_dag = [T_dag @ a_S_dag[s] @ T for s in range(2)]\n",
    "\n",
    "    # new parity operator\n",
    "    parity_T = T_dag @ f.parity @ T\n",
    "    eye_T = la.eye(m)\n",
    "    \n",
    "    # add new site\n",
    "    \n",
    "    g = spinfull_fermions(1)\n",
    "    \n",
    "    # a and a_dag are odd operators\n",
    "    a_S = kron(parity_T, g.a)\n",
    "    a_S_dag = kron(parity_T, g.a_dag)\n",
    "    \n",
    "    a_T_ = kron(a_T, g.eye)\n",
    "    a_T_dag_ = kron(a_T_dag, g.eye)\n",
    "    \n",
    "    # n is even operator\n",
    "    n_ = kron(eye_T, g.n[:, 0])\n",
    "        \n",
    "    H_S = H_T - t * sum([a_S_dag[s] @ a_T_[s] + a_T_dag_[s] @ a_S[s] for s in range(2)]) + U * n_[0] @ n_[1]\n",
    "    \n",
    "    eye_T_ = kron(eye_T, g.eye)\n",
    "    \n",
    "    # left subsystem\n",
    "    \n",
    "    H_S_ = kron(H_S, eye_T_)\n",
    "    \n",
    "    a_S_ = kron(a_S, eye_T_)\n",
    "    a_S_dag_ = kron(a_S_dag, eye_T_)\n",
    "\n",
    "    # right subsystem\n",
    "\n",
    "    parity_T_ = kron(parity_T, g.parity)\n",
    "\n",
    "    # fermion Hamiltonian is always even\n",
    "    H_E_ = kron(eye_T_, H_S)\n",
    "\n",
    "    # a and a_dag are odd operators\n",
    "    a_E_ = kron(parity_T_, a_S)\n",
    "    a_E_dag_ = kron(parity_T_, a_S_dag)\n",
    "    \n",
    "    # joint system Hamiltonian\n",
    "\n",
    "    H_SE = H_S_ + H_E_ - sum([t * (a_E_dag_[s] @ a_S_[s] + a_S_dag_[s] @ a_E_[s]) for s in range(2)])\n",
    "\n",
    "\n",
    "    \n",
    "    \n",
    "    \n",
    "    \n",
    "\n",
    "\n",
    "\n",
    "\n",
    "\n"
   ]
  },
  {
   "cell_type": "code",
   "execution_count": null,
   "metadata": {},
   "outputs": [],
   "source": [
    "f = spinfull_fermions(n_modes)\n",
    "\n",
    "f.states.state_at()\n",
    "f.states.index_of()\n",
    "\n",
    "f.vac()\n",
    "\n",
    "f.up.a[i]\n",
    "f.up.a_dag[i]\n",
    "\n",
    "f.down.a[i]\n",
    "f.down.a_dag[i]\n",
    "\n",
    "f.a[s,i] # s = 0 (up) 1 (down)\n",
    "f.a_dag[s, i]\n",
    "\n",
    "f.n[s, i]\n",
    "\n",
    "f.parity\n",
    "\n",
    "f.zero\n",
    "\n",
    "f.eye"
   ]
  },
  {
   "cell_type": "code",
   "execution_count": null,
   "metadata": {},
   "outputs": [],
   "source": [
    "import numpy as np\n",
    "\n",
    "array = np.empty((3, 3), dtype=object)\n",
    "array[0, 0] = Node(...)"
   ]
  }
 ],
 "metadata": {
  "kernelspec": {
   "display_name": "Python 3",
   "language": "python",
   "name": "python3"
  },
  "language_info": {
   "codemirror_mode": {
    "name": "ipython",
    "version": 3
   },
   "file_extension": ".py",
   "mimetype": "text/x-python",
   "name": "python",
   "nbconvert_exporter": "python",
   "pygments_lexer": "ipython3",
   "version": "3.11.5"
  }
 },
 "nbformat": 4,
 "nbformat_minor": 2
}
