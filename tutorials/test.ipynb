{
 "cells": [
  {
   "cell_type": "code",
   "execution_count": 2,
   "metadata": {},
   "outputs": [
    {
     "name": "stdout",
     "output_type": "stream",
     "text": [
      "/home/evgenii/condmat/lightcones_2024/infinite_dmrg.3/lightcones/venv/bin/python3\n"
     ]
    }
   ],
   "source": [
    "!which python3"
   ]
  },
  {
   "cell_type": "code",
   "execution_count": 3,
   "metadata": {},
   "outputs": [
    {
     "name": "stdout",
     "output_type": "stream",
     "text": [
      "['/home/evgenii/intel/oneapi/advisor/2023.0.0/pythonapi', '/home/evgenii/anaconda3/lib/python311.zip', '/home/evgenii/anaconda3/lib/python3.11', '/home/evgenii/anaconda3/lib/python3.11/lib-dynload', '', '/home/evgenii/condmat/lightcones_2024/infinite_dmrg.3/lightcones/venv/lib/python3.11/site-packages']\n"
     ]
    }
   ],
   "source": [
    "import sys\n",
    "print(sys.path)"
   ]
  },
  {
   "cell_type": "code",
   "execution_count": 1,
   "metadata": {},
   "outputs": [],
   "source": [
    "import lightcones"
   ]
  },
  {
   "cell_type": "code",
   "execution_count": 2,
   "metadata": {},
   "outputs": [],
   "source": [
    "import numpy as np\n",
    "import pytest\n",
    "\n",
    "import lightcones.space as sp\n",
    "\n",
    "tol = 1e-10\n",
    "\n",
    "def test_fermions():\n",
    "    \n",
    "    # exception throwing\n",
    "    \n",
    "    s = sp.states(3, bounding_condition=sp.bounding_condition.more_than_in_total(2))\n",
    "    with pytest.raises(ValueError) as exc_info:\n",
    "        f = sp.fermions(s)\n",
    "    assert str(exc_info.value) == \"Using more than singly occupied states to construct fermionic operators\"\n",
    "    \n",
    "    #\n",
    "    s = sp.states(3, bounding_condition=sp.bounding_condition.more_than_singly_occupied())\n",
    "    f = sp.fermions(s)\n",
    "    \n",
    "    # vac\n",
    "    vac = f.vac()\n",
    "    expected = [1.+0.j, 0.+0.j, 0.+0.j, 0.+0.j, 0.+0.j, 0.+0.j, 0.+0.j, 0.+0.j]\n",
    "    assert np.allclose(vac, expected, atol=tol), \\\n",
    "        f\"vac\"\n",
    "    \n",
    "    # eye\n",
    "    \n",
    "    m = f.eye\n",
    "    data = [1., 1., 1., 1., 1., 1., 1., 1.]\n",
    "    indices = [0, 1, 2, 3, 4, 5, 6, 7]\n",
    "    indptr = [0, 1, 2, 3, 4, 5, 6, 7, 8]\n",
    "    \n",
    "    assert np.allclose(m.data, data, atol=tol), \\\n",
    "        f\"data for eye\"\n",
    "    assert np.array_equal(m.indices, indices), \\\n",
    "        f\"indices for eye\"\n",
    "    assert np.array_equal(m.indptr, indptr), \\\n",
    "        f\"indptr for eye\"\n",
    "        \n",
    "    # zero\n",
    "    \n",
    "    m = f.zero\n",
    "    data = []\n",
    "    indices = []\n",
    "    indptr = [0, 0, 0, 0, 0, 0, 0, 0, 0]\n",
    "    \n",
    "    assert np.allclose(m.data, data, atol=tol), \\\n",
    "        f\"data for zero\"\n",
    "    assert np.array_equal(m.indices, indices), \\\n",
    "        f\"indices for zero\"\n",
    "    assert np.array_equal(m.indptr, indptr), \\\n",
    "        f\"indptr for zero\"\n",
    "    \n",
    "    # a[0]\n",
    "    m1 = f.a[0]\n",
    "    \n",
    "    data = [1.+0.j, 1.+0.j, 1.+0.j, 1.+0.j]\n",
    "    indices = [0, 1, 2, 3]\n",
    "    indptr = [0, 0, 0, 0, 0, 1, 2, 3, 4]\n",
    "    \n",
    "    assert np.allclose(m1.data, data, atol=tol), \\\n",
    "        f\"data for a[0]\"\n",
    "    assert np.array_equal(m1.indices, indices), \\\n",
    "        f\"indices for a[0]\"\n",
    "    assert np.array_equal(m1.indptr, indptr), \\\n",
    "        f\"indptr for a[0]\"\n",
    "        \n",
    "    # a[1]\n",
    "    \n",
    "    m2 = f.a[1]\n",
    "    \n",
    "    data = [1.+0.j,  1.+0.j, -1.+0.j, -1.+0.j]\n",
    "    indices = [0, 1, 4, 5]\n",
    "    indptr = [0, 0, 0, 1, 2, 2, 2, 3, 4]\n",
    "    \n",
    "    assert np.allclose(m2.data, data, atol=tol), \\\n",
    "        f\"data for a[1]\"\n",
    "    assert np.array_equal(m2.indices, indices), \\\n",
    "        f\"indices for a[1]\"\n",
    "    assert np.array_equal(m2.indptr, indptr), \\\n",
    "        f\"indptr for a[1]\"\n",
    "    \n",
    "    # a[2]\n",
    "    \n",
    "    m3 = f.a[2]\n",
    "    \n",
    "    data = [1.+0.j, -1.+0.j, -1.+0.j,  1.+0.j]\n",
    "    indices = [0, 2, 4, 6]\n",
    "    indptr = [0, 0, 1, 1, 2, 2, 3, 3, 4]\n",
    "    \n",
    "    assert np.allclose(m3.data, data, atol=tol), \\\n",
    "        f\"data for a[1]\"\n",
    "    assert np.array_equal(m3.indices, indices), \\\n",
    "        f\"indices for a[1]\"\n",
    "    assert np.array_equal(m3.indptr, indptr), \\\n",
    "        f\"indptr for a[1]\"\n",
    "    \n",
    "    # a_dag[0]\n",
    "    \n",
    "    m1 = f.a_dag[0]\n",
    "    \n",
    "    data = [1.+0.j, 1.+0.j, 1.+0.j, 1.+0.j]\n",
    "    indices = [4, 5, 6, 7]\n",
    "    indptr = [0, 1, 2, 3, 4, 4, 4, 4, 4]\n",
    "    \n",
    "    assert np.allclose(m1.data, data, atol=tol), \\\n",
    "        f\"data for a_dag[0]\"\n",
    "    assert np.array_equal(m1.indices, indices), \\\n",
    "        f\"indices for a_dag[0]\"\n",
    "    assert np.array_equal(m1.indptr, indptr), \\\n",
    "        f\"indptr for a_dag[0]\"\n",
    "    \n",
    "    # a_dag[1]\n",
    "    \n",
    "    m2 = f.a_dag[1]\n",
    "    \n",
    "    data = [1.+0.j,  1.+0.j, -1.+0.j, -1.+0.j]\n",
    "    indices = [2, 3, 6, 7]\n",
    "    indptr = [0, 1, 2, 2, 2, 3, 4, 4, 4]\n",
    "    \n",
    "    assert np.allclose(m2.data, data, atol=tol), \\\n",
    "        f\"data for a_dag[1]\"\n",
    "    assert np.array_equal(m2.indices, indices), \\\n",
    "        f\"indices for a_dag[1]\"\n",
    "    assert np.array_equal(m2.indptr, indptr), \\\n",
    "        f\"indptr for a_dag[1]\"\n",
    "    \n",
    "    # a_dag[2]\n",
    "    \n",
    "    m3 = f.a_dag[2]\n",
    "    \n",
    "    data = [1.+0.j, -1.+0.j, -1.+0.j,  1.+0.j]\n",
    "    indices = [1, 3, 5, 7]\n",
    "    indptr = [0, 1, 1, 2, 2, 3, 3, 4, 4]\n",
    "    \n",
    "    assert np.allclose(m3.data, data, atol=tol), \\\n",
    "        f\"data for a_dag[2]\"\n",
    "    assert np.array_equal(m3.indices, indices), \\\n",
    "        f\"indices for a_dag[2]\"\n",
    "    assert np.array_equal(m3.indptr, indptr), \\\n",
    "        f\"indptr for a_dag[2]\"\n",
    "    \n",
    "    \n",
    "    "
   ]
  },
  {
   "cell_type": "code",
   "execution_count": 4,
   "metadata": {},
   "outputs": [],
   "source": [
    "s = sp.states(3, bounding_condition=sp.bounding_condition.more_than_in_total(2))"
   ]
  },
  {
   "cell_type": "code",
   "execution_count": 5,
   "metadata": {},
   "outputs": [
    {
     "ename": "ValueError",
     "evalue": "Using more than singly occupied states to construct fermionic operators",
     "output_type": "error",
     "traceback": [
      "\u001b[0;31m---------------------------------------------------------------------------\u001b[0m",
      "\u001b[0;31mValueError\u001b[0m                                Traceback (most recent call last)",
      "Cell \u001b[0;32mIn[5], line 1\u001b[0m\n\u001b[0;32m----> 1\u001b[0m f \u001b[38;5;241m=\u001b[39m \u001b[43msp\u001b[49m\u001b[38;5;241;43m.\u001b[39;49m\u001b[43mfermions\u001b[49m\u001b[43m(\u001b[49m\u001b[43ms\u001b[49m\u001b[43m)\u001b[49m\n",
      "File \u001b[0;32m~/condmat/lightcones_2024/infinite_dmrg.3/lightcones/venv/lib/python3.11/site-packages/lightcones/space.py:155\u001b[0m, in \u001b[0;36mfermions.__init__\u001b[0;34m(self, states)\u001b[0m\n\u001b[1;32m    153\u001b[0m in_state \u001b[38;5;241m=\u001b[39m \u001b[38;5;28mself\u001b[39m\u001b[38;5;241m.\u001b[39mstates\u001b[38;5;241m.\u001b[39mall_states[i]\n\u001b[1;32m    154\u001b[0m \u001b[38;5;28;01mif\u001b[39;00m more_than_singly(in_state):\n\u001b[0;32m--> 155\u001b[0m     \u001b[38;5;28;01mraise\u001b[39;00m \u001b[38;5;167;01mValueError\u001b[39;00m(\u001b[38;5;124m\"\u001b[39m\u001b[38;5;124mUsing more than singly occupied states to construct fermionic operators\u001b[39m\u001b[38;5;124m\"\u001b[39m)\n\u001b[1;32m    156\u001b[0m out_state \u001b[38;5;241m=\u001b[39m in_state[:k] \u001b[38;5;241m+\u001b[39m (in_state[k]\u001b[38;5;241m+\u001b[39m\u001b[38;5;241m1\u001b[39m,) \u001b[38;5;241m+\u001b[39m in_state[k\u001b[38;5;241m+\u001b[39m\u001b[38;5;241m1\u001b[39m:]\n\u001b[1;32m    157\u001b[0m \u001b[38;5;28;01mif\u001b[39;00m \u001b[38;5;129;01mnot\u001b[39;00m \u001b[38;5;28mself\u001b[39m\u001b[38;5;241m.\u001b[39mstates\u001b[38;5;241m.\u001b[39mbounding_condition(out_state):\n",
      "\u001b[0;31mValueError\u001b[0m: Using more than singly occupied states to construct fermionic operators"
     ]
    }
   ],
   "source": [
    "f = sp.fermions(s)"
   ]
  },
  {
   "cell_type": "code",
   "execution_count": 3,
   "metadata": {},
   "outputs": [
    {
     "ename": "IndexError",
     "evalue": "list index out of range",
     "output_type": "error",
     "traceback": [
      "\u001b[0;31m---------------------------------------------------------------------------\u001b[0m",
      "\u001b[0;31mIndexError\u001b[0m                                Traceback (most recent call last)",
      "Cell \u001b[0;32mIn[3], line 1\u001b[0m\n\u001b[0;32m----> 1\u001b[0m \u001b[43mtest_fermions\u001b[49m\u001b[43m(\u001b[49m\u001b[43m)\u001b[49m\n",
      "Cell \u001b[0;32mIn[2], line 19\u001b[0m, in \u001b[0;36mtest_fermions\u001b[0;34m()\u001b[0m\n\u001b[1;32m     17\u001b[0m \u001b[38;5;66;03m#\u001b[39;00m\n\u001b[1;32m     18\u001b[0m s \u001b[38;5;241m=\u001b[39m sp\u001b[38;5;241m.\u001b[39mstates(\u001b[38;5;241m3\u001b[39m, bounding_condition\u001b[38;5;241m=\u001b[39msp\u001b[38;5;241m.\u001b[39mbounding_condition\u001b[38;5;241m.\u001b[39mmore_than_singly_occupied())\n\u001b[0;32m---> 19\u001b[0m f \u001b[38;5;241m=\u001b[39m \u001b[43msp\u001b[49m\u001b[38;5;241;43m.\u001b[39;49m\u001b[43mfermions\u001b[49m\u001b[43m(\u001b[49m\u001b[43ms\u001b[49m\u001b[43m)\u001b[49m\n\u001b[1;32m     21\u001b[0m \u001b[38;5;66;03m# vac\u001b[39;00m\n\u001b[1;32m     22\u001b[0m vac \u001b[38;5;241m=\u001b[39m f\u001b[38;5;241m.\u001b[39mvac()\n",
      "File \u001b[0;32m~/condmat/lightcones_2024/infinite_dmrg.3/lightcones/venv/lib/python3.11/site-packages/lightcones/space.py:169\u001b[0m, in \u001b[0;36mfermions.__init__\u001b[0;34m(self, states)\u001b[0m\n\u001b[1;32m    167\u001b[0m \u001b[38;5;28mself\u001b[39m\u001b[38;5;241m.\u001b[39mn \u001b[38;5;241m=\u001b[39m []\n\u001b[1;32m    168\u001b[0m \u001b[38;5;28;01mfor\u001b[39;00m k \u001b[38;5;129;01min\u001b[39;00m \u001b[38;5;28mrange\u001b[39m(\u001b[38;5;28mself\u001b[39m\u001b[38;5;241m.\u001b[39mstates\u001b[38;5;241m.\u001b[39mnum_modes):\n\u001b[0;32m--> 169\u001b[0m     \u001b[38;5;28mself\u001b[39m\u001b[38;5;241m.\u001b[39mn\u001b[38;5;241m.\u001b[39mappend(\u001b[38;5;28;43mself\u001b[39;49m\u001b[38;5;241;43m.\u001b[39;49m\u001b[43ma_dag\u001b[49m\u001b[43m[\u001b[49m\u001b[43mk\u001b[49m\u001b[43m]\u001b[49m \u001b[38;5;241m@\u001b[39m \u001b[38;5;28mself\u001b[39m\u001b[38;5;241m.\u001b[39ma[k])\n",
      "\u001b[0;31mIndexError\u001b[0m: list index out of range"
     ]
    }
   ],
   "source": [
    "test_fermions()"
   ]
  },
  {
   "cell_type": "code",
   "execution_count": 1,
   "metadata": {},
   "outputs": [],
   "source": [
    "from lightcones.linalg import as_column_vector"
   ]
  },
  {
   "cell_type": "code",
   "execution_count": 3,
   "metadata": {},
   "outputs": [],
   "source": [
    "import numpy as np\n",
    "n = np.array([0, 1, 2])"
   ]
  },
  {
   "cell_type": "code",
   "execution_count": 4,
   "metadata": {},
   "outputs": [],
   "source": [
    "ket = as_column_vector(n)"
   ]
  },
  {
   "cell_type": "code",
   "execution_count": 5,
   "metadata": {},
   "outputs": [
    {
     "data": {
      "text/plain": [
       "array([[0],\n",
       "       [1],\n",
       "       [2]])"
      ]
     },
     "execution_count": 5,
     "metadata": {},
     "output_type": "execute_result"
    }
   ],
   "source": [
    "ket"
   ]
  },
  {
   "cell_type": "code",
   "execution_count": 6,
   "metadata": {},
   "outputs": [],
   "source": [
    "ket2 = as_column_vector(ket)"
   ]
  },
  {
   "cell_type": "code",
   "execution_count": 7,
   "metadata": {},
   "outputs": [
    {
     "data": {
      "text/plain": [
       "array([[[0]],\n",
       "\n",
       "       [[1]],\n",
       "\n",
       "       [[2]]])"
      ]
     },
     "execution_count": 7,
     "metadata": {},
     "output_type": "execute_result"
    }
   ],
   "source": [
    "ket2"
   ]
  },
  {
   "cell_type": "code",
   "execution_count": 3,
   "metadata": {},
   "outputs": [],
   "source": [
    "import lightcones.space as sp\n",
    "import numpy as np"
   ]
  },
  {
   "cell_type": "code",
   "execution_count": 4,
   "metadata": {},
   "outputs": [
    {
     "ename": "KeyError",
     "evalue": "(7, 0)",
     "output_type": "error",
     "traceback": [
      "\u001b[0;31m---------------------------------------------------------------------------\u001b[0m",
      "\u001b[0;31mKeyError\u001b[0m                                  Traceback (most recent call last)",
      "Cell \u001b[0;32mIn[4], line 11\u001b[0m\n\u001b[1;32m      8\u001b[0m bp \u001b[38;5;241m=\u001b[39m sp\u001b[38;5;241m.\u001b[39mbipartite(q\u001b[38;5;241m.\u001b[39mstates\u001b[38;5;241m.\u001b[39mdimension, b\u001b[38;5;241m.\u001b[39mstates\u001b[38;5;241m.\u001b[39mdimension)\n\u001b[1;32m     10\u001b[0m psi \u001b[38;5;241m=\u001b[39m np\u001b[38;5;241m.\u001b[39mzeros(bp\u001b[38;5;241m.\u001b[39mdimension, dtype \u001b[38;5;241m=\u001b[39m \u001b[38;5;28mcomplex\u001b[39m)\n\u001b[0;32m---> 11\u001b[0m \u001b[43mbp\u001b[49m\u001b[38;5;241;43m.\u001b[39;49m\u001b[43mtrace_out_L\u001b[49m\u001b[43m(\u001b[49m\u001b[43mpsi\u001b[49m\u001b[43m)\u001b[49m\n",
      "File \u001b[0;32m~/condmat/lightcones_2024/infinite_dmrg.3/lightcones/venv/lib/python3.11/site-packages/lightcones/space.py:290\u001b[0m, in \u001b[0;36mbipartite.trace_out_L\u001b[0;34m(self, psi)\u001b[0m\n\u001b[1;32m    288\u001b[0m \u001b[38;5;28;01mfor\u001b[39;00m k \u001b[38;5;129;01min\u001b[39;00m \u001b[38;5;28mrange\u001b[39m(\u001b[38;5;28mself\u001b[39m\u001b[38;5;241m.\u001b[39mL_dimension):\n\u001b[1;32m    289\u001b[0m     ind_1 \u001b[38;5;241m=\u001b[39m \u001b[38;5;28mself\u001b[39m\u001b[38;5;241m.\u001b[39mindex_of((i, k))\n\u001b[0;32m--> 290\u001b[0m     ind_2 \u001b[38;5;241m=\u001b[39m \u001b[38;5;28;43mself\u001b[39;49m\u001b[38;5;241;43m.\u001b[39;49m\u001b[43mindex_of\u001b[49m\u001b[43m(\u001b[49m\u001b[43m(\u001b[49m\u001b[43mj\u001b[49m\u001b[43m,\u001b[49m\u001b[43m \u001b[49m\u001b[43mk\u001b[49m\u001b[43m)\u001b[49m\u001b[43m)\u001b[49m\n\u001b[1;32m    291\u001b[0m     rho_ij \u001b[38;5;241m+\u001b[39m\u001b[38;5;241m=\u001b[39m psi[ind_1]\u001b[38;5;241m.\u001b[39mconj() \u001b[38;5;241m*\u001b[39m psi[ind_2]\n\u001b[1;32m    292\u001b[0m rho_R[i, j] \u001b[38;5;241m=\u001b[39m rho_ij\n",
      "File \u001b[0;32m~/condmat/lightcones_2024/infinite_dmrg.3/lightcones/venv/lib/python3.11/site-packages/lightcones/space.py:274\u001b[0m, in \u001b[0;36mbipartite.index_of\u001b[0;34m(self, state)\u001b[0m\n\u001b[1;32m    273\u001b[0m \u001b[38;5;28;01mdef\u001b[39;00m \u001b[38;5;21mindex_of\u001b[39m(\u001b[38;5;28mself\u001b[39m, state):\n\u001b[0;32m--> 274\u001b[0m     \u001b[38;5;28;01mreturn\u001b[39;00m \u001b[38;5;28;43mself\u001b[39;49m\u001b[38;5;241;43m.\u001b[39;49m\u001b[43menumerated_states\u001b[49m\u001b[43m[\u001b[49m\u001b[43mstate\u001b[49m\u001b[43m]\u001b[49m\n",
      "\u001b[0;31mKeyError\u001b[0m: (7, 0)"
     ]
    }
   ],
   "source": [
    "j = 3\n",
    "s1 = sp.states(1, bounding_condition=sp.bounding_condition.more_than_n_occupied(2 * j))\n",
    "q = sp.spins(j, s1)\n",
    "    \n",
    "s2 = sp.states(2, bounding_condition=sp.bounding_condition.more_than_in_total(3))\n",
    "b = sp.bosons(s2)\n",
    "    \n",
    "bp = sp.bipartite(q.states.dimension, b.states.dimension)\n",
    "\n",
    "psi = np.zeros(bp.dimension, dtype = complex)\n",
    "bp.trace_out_L(psi)"
   ]
  },
  {
   "cell_type": "code",
   "execution_count": 6,
   "metadata": {},
   "outputs": [
    {
     "name": "stdout",
     "output_type": "stream",
     "text": [
      "7\n",
      "10\n"
     ]
    }
   ],
   "source": [
    "print(bp.L_dimension)\n",
    "print(bp.R_dimension)"
   ]
  },
  {
   "cell_type": "code",
   "execution_count": 5,
   "metadata": {},
   "outputs": [
    {
     "name": "stdout",
     "output_type": "stream",
     "text": [
      "7\n",
      "10\n"
     ]
    }
   ],
   "source": [
    "print(q.states.dimension)\n",
    "print(b.states.dimension)"
   ]
  },
  {
   "cell_type": "code",
   "execution_count": 2,
   "metadata": {},
   "outputs": [],
   "source": [
    "import math\n",
    "import lightcones.space as sp\n",
    "import lightcones.linalg as ll"
   ]
  },
  {
   "cell_type": "code",
   "execution_count": 5,
   "metadata": {},
   "outputs": [],
   "source": [
    "j = 3\n",
    "s1 = sp.states(1, bounding_condition=sp.bounding_condition.more_than_n_occupied(2 * j))\n",
    "q = sp.spins(j, s1)\n",
    "\n",
    "s2 = sp.states(2, bounding_condition=sp.bounding_condition.more_than_in_total(3))\n",
    "b = sp.bosons(s2)\n",
    "\n",
    "bp = sp.bipartite(q.states.dimension, b.states.dimension)\n",
    "\n",
    "psi = bp.vector_with((0, b.states.index_of((0, 0)))) / math.sqrt(3.0) \\\n",
    "    + bp.vector_with((1, b.states.index_of((1, 0)))) / math.sqrt(3.0) \\\n",
    "    + bp.vector_with((2, b.states.index_of((1, 1)))) / math.sqrt(3.0)\n",
    "    \n",
    "rho_actual = bp.trace_out_R(psi)\n",
    "\n",
    "rho_expected = \\\n",
    "    ll.projection_to(q.states.vector_with((0,))) / 3.0 + \\\n",
    "    ll.projection_to(q.states.vector_with((1,))) / 3.0 + \\\n",
    "    ll.projection_to(q.states.vector_with((2,))) / 3.0"
   ]
  },
  {
   "cell_type": "code",
   "execution_count": 9,
   "metadata": {},
   "outputs": [],
   "source": [
    "import numpy as np\n",
    "tol = 1e-10\n",
    "assert np.allclose(rho_actual, rho_expected, atol=tol), \\\n",
    "    f\"rho does not match\""
   ]
  },
  {
   "cell_type": "code",
   "execution_count": 4,
   "metadata": {},
   "outputs": [
    {
     "data": {
      "text/plain": [
       "[(0,), (1,), (2,), (3,), (4,), (5,), (6,)]"
      ]
     },
     "execution_count": 4,
     "metadata": {},
     "output_type": "execute_result"
    }
   ],
   "source": [
    "q.states.all_states"
   ]
  },
  {
   "cell_type": "code",
   "execution_count": 9,
   "metadata": {},
   "outputs": [],
   "source": [
    "import numpy as np\n",
    "arr1 = np.zeros(1)\n",
    "arr1[0] = 1\n",
    "arr2 = np.zeros(1)\n",
    "arr2[0] = 2\n",
    "arr3 = np.zeros(1)\n",
    "arr3[0] = 3"
   ]
  },
  {
   "cell_type": "code",
   "execution_count": 11,
   "metadata": {},
   "outputs": [
    {
     "data": {
      "text/plain": [
       "array([1.])"
      ]
     },
     "execution_count": 11,
     "metadata": {},
     "output_type": "execute_result"
    }
   ],
   "source": [
    "arr1"
   ]
  },
  {
   "cell_type": "code",
   "execution_count": 12,
   "metadata": {},
   "outputs": [
    {
     "data": {
      "text/plain": [
       "array([2.])"
      ]
     },
     "execution_count": 12,
     "metadata": {},
     "output_type": "execute_result"
    }
   ],
   "source": [
    "arr2"
   ]
  },
  {
   "cell_type": "code",
   "execution_count": 10,
   "metadata": {},
   "outputs": [
    {
     "data": {
      "text/plain": [
       "array([3.])"
      ]
     },
     "execution_count": 10,
     "metadata": {},
     "output_type": "execute_result"
    }
   ],
   "source": [
    "arr3"
   ]
  },
  {
   "cell_type": "code",
   "execution_count": 13,
   "metadata": {},
   "outputs": [],
   "source": [
    "arr1, arr2, arr3 = arr2, arr3, arr1"
   ]
  },
  {
   "cell_type": "code",
   "execution_count": 14,
   "metadata": {},
   "outputs": [
    {
     "data": {
      "text/plain": [
       "array([2.])"
      ]
     },
     "execution_count": 14,
     "metadata": {},
     "output_type": "execute_result"
    }
   ],
   "source": [
    "arr1"
   ]
  },
  {
   "cell_type": "code",
   "execution_count": 15,
   "metadata": {},
   "outputs": [
    {
     "data": {
      "text/plain": [
       "array([3.])"
      ]
     },
     "execution_count": 15,
     "metadata": {},
     "output_type": "execute_result"
    }
   ],
   "source": [
    "arr2"
   ]
  },
  {
   "cell_type": "code",
   "execution_count": 16,
   "metadata": {},
   "outputs": [
    {
     "data": {
      "text/plain": [
       "array([1.])"
      ]
     },
     "execution_count": 16,
     "metadata": {},
     "output_type": "execute_result"
    }
   ],
   "source": [
    "arr3"
   ]
  },
  {
   "cell_type": "code",
   "execution_count": 1,
   "metadata": {},
   "outputs": [],
   "source": [
    "import lightcones.linalg as ll\n",
    "import numpy as np"
   ]
  },
  {
   "cell_type": "code",
   "execution_count": 4,
   "metadata": {},
   "outputs": [],
   "source": [
    "a = np.array([1, 2, 3, 4, 5])\n",
    "b = np.array([1, 1, 1, 1])\n",
    "H = ll.tridiag(a, b)"
   ]
  },
  {
   "cell_type": "code",
   "execution_count": 6,
   "metadata": {},
   "outputs": [],
   "source": [
    "e, v = ll.find_smallest_eigs(H.todense(), 1)"
   ]
  },
  {
   "cell_type": "code",
   "execution_count": 7,
   "metadata": {},
   "outputs": [
    {
     "data": {
      "text/plain": [
       "array([0.25384245])"
      ]
     },
     "execution_count": 7,
     "metadata": {},
     "output_type": "execute_result"
    }
   ],
   "source": [
    "e"
   ]
  },
  {
   "cell_type": "code",
   "execution_count": 8,
   "metadata": {},
   "outputs": [],
   "source": [
    "psi0 = np.array([1, 0, 0, 0, 0])"
   ]
  },
  {
   "cell_type": "code",
   "execution_count": 9,
   "metadata": {},
   "outputs": [],
   "source": [
    "e, v = ll.lancz_gnd_state(psi0, H, 5)"
   ]
  },
  {
   "cell_type": "code",
   "execution_count": 10,
   "metadata": {},
   "outputs": [
    {
     "data": {
      "text/plain": [
       "array([0.25384245])"
      ]
     },
     "execution_count": 10,
     "metadata": {},
     "output_type": "execute_result"
    }
   ],
   "source": [
    "e"
   ]
  },
  {
   "cell_type": "code",
   "execution_count": 11,
   "metadata": {},
   "outputs": [],
   "source": [
    "e, v = ll.lancz_gnd_state(psi0, H, 4)"
   ]
  },
  {
   "cell_type": "code",
   "execution_count": 12,
   "metadata": {},
   "outputs": [
    {
     "data": {
      "text/plain": [
       "array([0.25471876])"
      ]
     },
     "execution_count": 12,
     "metadata": {},
     "output_type": "execute_result"
    }
   ],
   "source": [
    "e"
   ]
  },
  {
   "cell_type": "code",
   "execution_count": 21,
   "metadata": {},
   "outputs": [
    {
     "data": {
      "text/plain": [
       "matrix([[1, 1, 0, 0, 0],\n",
       "        [1, 2, 1, 0, 0],\n",
       "        [0, 1, 3, 1, 0],\n",
       "        [0, 0, 1, 4, 1],\n",
       "        [0, 0, 0, 1, 5]])"
      ]
     },
     "execution_count": 21,
     "metadata": {},
     "output_type": "execute_result"
    }
   ],
   "source": [
    "H.todense()"
   ]
  },
  {
   "cell_type": "code",
   "execution_count": 22,
   "metadata": {},
   "outputs": [],
   "source": [
    "psi0 = np.array([1, 0, 0, 0, 0])"
   ]
  },
  {
   "cell_type": "code",
   "execution_count": 25,
   "metadata": {},
   "outputs": [
    {
     "data": {
      "text/plain": [
       "matrix([[1., 1., 0., 0., 0.],\n",
       "        [1., 2., 1., 0., 0.],\n",
       "        [0., 1., 3., 1., 0.],\n",
       "        [0., 0., 1., 4., 1.],\n",
       "        [0., 0., 0., 1., 5.]])"
      ]
     },
     "execution_count": 25,
     "metadata": {},
     "output_type": "execute_result"
    }
   ],
   "source": [
    "ll.lancz(psi0, H, 5).todense()"
   ]
  },
  {
   "cell_type": "code",
   "execution_count": 3,
   "metadata": {},
   "outputs": [],
   "source": [
    "import lightcones.models as lm"
   ]
  },
  {
   "cell_type": "code",
   "execution_count": 4,
   "metadata": {},
   "outputs": [],
   "source": [
    "f = lm.spinfull_fermions(5)\n"
   ]
  },
  {
   "cell_type": "code",
   "execution_count": 5,
   "metadata": {},
   "outputs": [],
   "source": [
    "U = 1\n",
    "t = 0.05"
   ]
  },
  {
   "cell_type": "code",
   "execution_count": 6,
   "metadata": {},
   "outputs": [],
   "source": [
    "H_hopp = sum([sum([- t * (f.a_dag[s][i] @ f.a[s][i - 1] + f.a_dag[s][i - 1] @ f.a[s][i]) for s in range(2)]) for i in range(5)])\n",
    "H_S = H_hopp + sum([U * f.n[0][i] @ f.n[1][i] for i in range(5)])"
   ]
  },
  {
   "cell_type": "code",
   "execution_count": 7,
   "metadata": {},
   "outputs": [],
   "source": [
    "H_S_ = H_S.todense()"
   ]
  },
  {
   "cell_type": "code",
   "execution_count": null,
   "metadata": {},
   "outputs": [],
   "source": []
  },
  {
   "cell_type": "code",
   "execution_count": 8,
   "metadata": {},
   "outputs": [],
   "source": [
    "e, v = ll.find_smallest_eigs(H_S_, 1)"
   ]
  },
  {
   "cell_type": "code",
   "execution_count": 36,
   "metadata": {},
   "outputs": [
    {
     "data": {
      "text/plain": [
       "(1024, 1)"
      ]
     },
     "execution_count": 36,
     "metadata": {},
     "output_type": "execute_result"
    }
   ],
   "source": [
    "v.shape"
   ]
  },
  {
   "cell_type": "code",
   "execution_count": 15,
   "metadata": {},
   "outputs": [
    {
     "data": {
      "text/plain": [
       "(1024, 1)"
      ]
     },
     "execution_count": 15,
     "metadata": {},
     "output_type": "execute_result"
    }
   ],
   "source": [
    "v[:]"
   ]
  },
  {
   "cell_type": "code",
   "execution_count": 9,
   "metadata": {},
   "outputs": [
    {
     "data": {
      "text/plain": [
       "array([-0.16681274756])"
      ]
     },
     "execution_count": 9,
     "metadata": {},
     "output_type": "execute_result"
    }
   ],
   "source": [
    "np.set_printoptions(precision=11)\n",
    "e"
   ]
  },
  {
   "cell_type": "code",
   "execution_count": 10,
   "metadata": {},
   "outputs": [],
   "source": [
    "N = sum([f.n[0][i] + f.n[1][i] for i in range(5)])"
   ]
  },
  {
   "cell_type": "code",
   "execution_count": 11,
   "metadata": {},
   "outputs": [
    {
     "data": {
      "text/plain": [
       "np.complex128(2.0000000000000004+0j)"
      ]
     },
     "execution_count": 11,
     "metadata": {},
     "output_type": "execute_result"
    }
   ],
   "source": [
    "np.vdot(v, N @ v)"
   ]
  },
  {
   "cell_type": "code",
   "execution_count": 14,
   "metadata": {},
   "outputs": [
    {
     "data": {
      "text/plain": [
       "array([-0.16681274756])"
      ]
     },
     "execution_count": 14,
     "metadata": {},
     "output_type": "execute_result"
    }
   ],
   "source": [
    "np.set_printoptions(precision=11)\n",
    "psi0 = np.zeros(f.dimension, dtype = complex)\n",
    "psi0[0] = 1.0\n",
    "psi0 = f.a_dag[0][3] @ f.a_dag[1][3] @ psi0\n",
    "\n",
    "e2, v2 = ll.lancz_gnd_state(psi0, H_S, 10)\n",
    "\n",
    "e2"
   ]
  },
  {
   "cell_type": "code",
   "execution_count": 13,
   "metadata": {},
   "outputs": [
    {
     "data": {
      "text/plain": [
       "<Compressed Sparse Column sparse matrix of dtype 'float64'\n",
       "\twith 24 stored elements and shape (9, 9)>"
      ]
     },
     "execution_count": 13,
     "metadata": {},
     "output_type": "execute_result"
    }
   ],
   "source": [
    "v2"
   ]
  },
  {
   "cell_type": "code",
   "execution_count": 14,
   "metadata": {},
   "outputs": [],
   "source": [
    "a = np.array([1, 2, 3, 4, 5])\n",
    "b = np.array([1, 1, 1, 1])\n",
    "H = ll.tridiag(a[:1], b[:0])"
   ]
  },
  {
   "cell_type": "code",
   "execution_count": 15,
   "metadata": {},
   "outputs": [
    {
     "data": {
      "text/plain": [
       "matrix([[1]])"
      ]
     },
     "execution_count": 15,
     "metadata": {},
     "output_type": "execute_result"
    }
   ],
   "source": [
    "H.todense()"
   ]
  },
  {
   "cell_type": "code",
   "execution_count": 31,
   "metadata": {},
   "outputs": [
    {
     "ename": "ValueError",
     "evalue": "cannot reshape array of size 9 into shape (1024,)",
     "output_type": "error",
     "traceback": [
      "\u001b[0;31m---------------------------------------------------------------------------\u001b[0m",
      "\u001b[0;31mValueError\u001b[0m                                Traceback (most recent call last)",
      "Cell \u001b[0;32mIn[31], line 1\u001b[0m\n\u001b[0;32m----> 1\u001b[0m \u001b[43mnp\u001b[49m\u001b[38;5;241;43m.\u001b[39;49m\u001b[43mvdot\u001b[49m\u001b[43m(\u001b[49m\u001b[43mv\u001b[49m\u001b[43m,\u001b[49m\u001b[43m \u001b[49m\u001b[43mv2\u001b[49m\u001b[43m)\u001b[49m\n",
      "\u001b[0;31mValueError\u001b[0m: cannot reshape array of size 9 into shape (1024,)"
     ]
    }
   ],
   "source": [
    "np.vdot(v, v2)"
   ]
  }
 ],
 "metadata": {
  "kernelspec": {
   "display_name": "venv",
   "language": "python",
   "name": "python3"
  },
  "language_info": {
   "codemirror_mode": {
    "name": "ipython",
    "version": 3
   },
   "file_extension": ".py",
   "mimetype": "text/x-python",
   "name": "python",
   "nbconvert_exporter": "python",
   "pygments_lexer": "ipython3",
   "version": "3.11.5"
  }
 },
 "nbformat": 4,
 "nbformat_minor": 2
}
