{
 "cells": [
  {
   "cell_type": "code",
   "execution_count": 11,
   "metadata": {},
   "outputs": [],
   "source": [
    "# Import the required packages\n",
    "\n",
    "import numpy as np\n",
    "import lightcones.linalg as ll\n",
    "from lightcones.models import spinfull_fermions\n",
    "from lightcones.solvers.schrodinger import solve"
   ]
  },
  {
   "cell_type": "markdown",
   "metadata": {},
   "source": [
    "# Hubbard model\n",
    "\n",
    "$$\n",
    "\\widehat{H}=\\sum_{\\sigma=\\uparrow,\\downarrow}\\sum_{j=0}^{\\infty}\\left\\{ -\\mu_{j}\\widehat{c}_{\\sigma j}^{\\dagger}\\widehat{c}_{\\sigma j} -t\\widehat{c}_{\\sigma j}^{\\dagger}\\widehat{c}_{\\sigma j+1}-t\\widehat{c}_{\\sigma j+1}^{\\dagger}\\widehat{c}_{\\sigma j} + U \\widehat{n}_{\\uparrow j} \\widehat{n}_{\\downarrow j}\\right\\}\n",
    "$$"
   ]
  },
  {
   "cell_type": "code",
   "execution_count": 61,
   "metadata": {},
   "outputs": [],
   "source": [
    "# Construct the Hamiltonian\n",
    "\n",
    "U = 0.3\n",
    "t = 0.2\n",
    "mu = 0.0\n",
    "\n",
    "n_sites = 4\n",
    "\n",
    "f = spinfull_fermions(n_sites)\n",
    "\n",
    "# Chemical potential part\n",
    "H_mu = sum([sum([ - mu * f.a_dag[s][i] @ f.a[s][i] for s in range(2)]) for i in range(n_sites)])\n",
    "\n",
    "# Hopping part\n",
    "H_t = sum([sum([ - t * (f.a_dag[s][i] @ f.a[s][i + 1] + f.a_dag[s][i + 1] @ f.a[s][i]) for s in range(2)]) for i in range(0, n_sites - 1)])\n",
    "\n",
    "# On-site interaction part\n",
    "H_U = sum([U * f.n[0][i] @ f.n[1][i] for i in range(n_sites)])\n",
    "\n",
    "# In total\n",
    "H_Hubbard = H_mu + H_t + H_U"
   ]
  },
  {
   "cell_type": "code",
   "execution_count": 63,
   "metadata": {},
   "outputs": [],
   "source": [
    "# Find the ground state\n",
    "\n",
    "# Initial Lanczos wavefunction for half filled case\n",
    "\n",
    "psi0 = f.vac()\n",
    "# Half filling means we fill only half of sites\n",
    "# We intentionally make spatially non-symmetric psi0\n",
    "# This way there are more chances that\n",
    "# psi0 has non-zero projection on the ground state\n",
    "# and the Lanczos procedure will find it\n",
    "for i in range(n_sites // 2):\n",
    "    # Populate each site with electron in superposition of up and down spin\n",
    "    psi0 = (f.a_dag[0][i] @ f.a_dag[1][i]) @ psi0 \n",
    "    \n",
    "E_GND, Psi_GND = ll.lancz_gnd_state(psi0, H_Hubbard, 100)"
   ]
  },
  {
   "cell_type": "code",
   "execution_count": 66,
   "metadata": {},
   "outputs": [
    {
     "data": {
      "text/plain": [
       "np.float64(-0.6404543648550903)"
      ]
     },
     "execution_count": 66,
     "metadata": {},
     "output_type": "execute_result"
    }
   ],
   "source": [
    "# Energy of ground state\n",
    "\n",
    "E_GND"
   ]
  }
 ],
 "metadata": {
  "kernelspec": {
   "display_name": "venv",
   "language": "python",
   "name": "python3"
  },
  "language_info": {
   "codemirror_mode": {
    "name": "ipython",
    "version": 3
   },
   "file_extension": ".py",
   "mimetype": "text/x-python",
   "name": "python",
   "nbconvert_exporter": "python",
   "pygments_lexer": "ipython3",
   "version": "3.11.5"
  }
 },
 "nbformat": 4,
 "nbformat_minor": 2
}
