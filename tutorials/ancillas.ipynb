{
 "cells": [
  {
   "cell_type": "code",
   "execution_count": 18,
   "metadata": {},
   "outputs": [],
   "source": [
    "import os\n",
    "os.environ['MKL_NUM_THREADS'] = '1'\n",
    "os.environ['OPENBLAS_NUM_THREADS'] = '1'"
   ]
  },
  {
   "cell_type": "code",
   "execution_count": 19,
   "metadata": {},
   "outputs": [],
   "source": [
    "# Import the required packages\n",
    "\n",
    "import numpy as np\n",
    "import lightcones.linalg as ll\n",
    "import lightcones.models as lm\n",
    "import lightcones.space as ls\n",
    "from scipy.linalg import expm"
   ]
  },
  {
   "cell_type": "code",
   "execution_count": 20,
   "metadata": {},
   "outputs": [],
   "source": [
    "# quantum top\n",
    "\n",
    "j = 20\n",
    "\n",
    "# chaotic system is quantum top\n",
    "top = lm.top(j)\n",
    "# ancilla is also quantum top of the same j\n",
    "aux = top\n",
    "\n",
    "# initial states\n",
    "psi_0 = top.vac()\n",
    "psi_aux_0 = aux.vac()\n",
    "\n",
    "# top evolution during one kick period\n",
    "k = 4\n",
    "tau = 1\n",
    "p = 1.7\n",
    "Hy = p / tau * top.j_y\n",
    "Hz = k / 2 / top.j * (top.j_z - 0.1 * top.eye()) @ (top.j_z - 0.1 * top.eye())\n",
    "Hy_ = Hy.todense()\n",
    "Hz_ = Hz.todense()\n",
    "Uy = expm(-1j*Hy_)\n",
    "Uz = expm(-1j*Hz_)\n",
    "Utop = Uz @ Uy \n",
    "\n",
    "# we will consider a bipartite of top \\otimes ancilla\n",
    "bp = ls.bipartite(top.dimension, aux.dimension)\n",
    "    \n",
    "# interaction with the ancilla\n",
    "g = 0.1\n",
    "Hint = g * ll.kron(top.j_y, aux.j_y)\n",
    "Hint_ = Hint.todense()\n",
    "Uint = expm(-1j*Hint_)\n",
    "\n",
    "# iterate evolutions\n",
    "n = 20\n",
    "psi = psi_0\n",
    "for i in range(n):\n",
    "    # 1 kick period evolution\n",
    "    psi = U @ psi\n",
    "    # entangle with the ancilla in its ground state\n",
    "    psi_bp = bp.kron(psi, psi_aux_0)\n",
    "    psi_bp = Uint @ psi_bp\n",
    "    # trace out ancilla\n",
    "    rho_top = bp.trace_out_R(psi_bp)\n",
    "    # \n",
    "     "
   ]
  }
 ],
 "metadata": {
  "kernelspec": {
   "display_name": "venv",
   "language": "python",
   "name": "python3"
  },
  "language_info": {
   "codemirror_mode": {
    "name": "ipython",
    "version": 3
   },
   "file_extension": ".py",
   "mimetype": "text/x-python",
   "name": "python",
   "nbconvert_exporter": "python",
   "pygments_lexer": "ipython3",
   "version": "3.11.5"
  }
 },
 "nbformat": 4,
 "nbformat_minor": 2
}
