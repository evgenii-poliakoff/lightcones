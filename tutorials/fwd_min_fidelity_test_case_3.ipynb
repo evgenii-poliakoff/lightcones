{
 "cells": [
  {
   "cell_type": "code",
   "execution_count": 1,
   "id": "f6b6aefc-cf3b-40c9-953c-a5de66fae0b7",
   "metadata": {},
   "outputs": [],
   "source": [
    "import os\n",
    "import sys\n",
    "\n",
    "src_dir = os.path.abspath(\"../src\")\n",
    "if src_dir not in sys.path:\n",
    "    sys.path.append(src_dir)"
   ]
  },
  {
   "cell_type": "code",
   "execution_count": 3,
   "id": "65e27854-fba3-4c0c-87e4-a31372edb21d",
   "metadata": {},
   "outputs": [],
   "source": [
    "# import the needed packages\n",
    "import matplotlib.pyplot as plt\n",
    "import numpy as np\n",
    "import tools\n",
    "import importlib\n",
    "importlib.reload(tools)\n",
    "\n",
    "import solver\n",
    "import importlib\n",
    "importlib.reload(solver)\n",
    "\n",
    "from evolution_chained2_kicked import evolution_chained2_kicked\n",
    "from tools import mv\n",
    "\n",
    "from evolution_chained2_kicked import evolution_chained2_kicked\n",
    "from tools import mv"
   ]
  },
  {
   "cell_type": "code",
   "execution_count": 2,
   "id": "ab2d39c9-6d80-44c2-ac41-2bc6c93b4cc6",
   "metadata": {},
   "outputs": [],
   "source": [
    "# create bath\n",
    "\n",
    "# chain size\n",
    "ns = 30\n",
    "# on-site energies\n",
    "e = [1.0]*ns\n",
    "# hoppings between sites\n",
    "h = [0.05]*(ns-1)"
   ]
  },
  {
   "cell_type": "code",
   "execution_count": 3,
   "id": "5ca258e3-68ac-487f-a3b8-5f88586e0308",
   "metadata": {},
   "outputs": [
    {
     "data": {
      "text/plain": [
       "8"
      ]
     },
     "execution_count": 3,
     "metadata": {},
     "output_type": "execute_result"
    }
   ],
   "source": [
    "# discretize the bath: apply the lightcone method\n",
    "bth = solver.bath.from_chain(chain = (e, h), rel_tol = 10**(-7), ring_size = 5, t_max = 100, visualize = True)\n",
    "bth.n_rel"
   ]
  },
  {
   "cell_type": "code",
   "execution_count": 4,
   "id": "68b0f333-60ae-4c22-a142-996e75f992b3",
   "metadata": {},
   "outputs": [
    {
     "data": {
      "text/plain": [
       "array([ 3.82226204e+01,  3.24946857e+01,  2.09438833e+01,  7.19398453e+00,\n",
       "        1.06964500e+00,  8.00242914e-02,  3.75964630e-03,  1.25098405e-04,\n",
       "        3.13558596e-06,  6.15656931e-08,  9.74154822e-10,  1.26882635e-11,\n",
       "        1.32461077e-13,  3.29432670e-17,  1.74769104e-18,  9.42510642e-19,\n",
       "        2.71976630e-22,  2.23417943e-22,  3.69259838e-24,  6.83398577e-26,\n",
       "        1.91917689e-26,  6.13387106e-29, -2.61725826e-36, -1.60675773e-34,\n",
       "       -3.63998151e-32, -2.40156106e-31, -4.76995717e-31, -9.61643610e-20,\n",
       "       -7.57367195e-17, -1.86143748e-15])"
      ]
     },
     "execution_count": 4,
     "metadata": {},
     "output_type": "execute_result"
    }
   ],
   "source": [
    "bth.I_rel"
   ]
  },
  {
   "cell_type": "code",
   "execution_count": 5,
   "id": "b6335161-1e66-45fe-8e1d-01e697db82e0",
   "metadata": {},
   "outputs": [
    {
     "data": {
      "text/plain": [
       "array([ 1.00000000e+00,  8.50142804e-01,  5.47944727e-01,  1.88212751e-01,\n",
       "        2.79846068e-02,  2.09363697e-03,  9.83618147e-05,  3.27288928e-06,\n",
       "        8.20348245e-08,  1.61071356e-09,  2.54863432e-11,  3.31956925e-13,\n",
       "        3.46551533e-15,  8.61878822e-19,  4.57239986e-20,  2.46584518e-20,\n",
       "        7.11559353e-24,  5.84517600e-24,  9.66076723e-26,  1.78794277e-27,\n",
       "        5.02105003e-28,  1.60477513e-30, -6.84740667e-38, -4.20368282e-36,\n",
       "       -9.52310823e-34, -6.28308848e-33, -1.24794091e-32, -2.51590184e-21,\n",
       "       -1.98146330e-18, -4.86998918e-17])"
      ]
     },
     "execution_count": 5,
     "metadata": {},
     "output_type": "execute_result"
    }
   ],
   "source": [
    "bth.I_rel / bth.I_rel[0]"
   ]
  },
  {
   "cell_type": "code",
   "execution_count": 6,
   "id": "97265754-d483-48da-9020-fe2ae988172e",
   "metadata": {},
   "outputs": [
    {
     "data": {
      "text/plain": [
       "8"
      ]
     },
     "execution_count": 6,
     "metadata": {},
     "output_type": "execute_result"
    }
   ],
   "source": [
    "bth.n_rel"
   ]
  },
  {
   "cell_type": "code",
   "execution_count": 18,
   "id": "e7c44fe3-263d-4ba9-aca4-44b2cd6003f9",
   "metadata": {},
   "outputs": [
    {
     "data": {
      "text/plain": [
       "[0, 1, 104, 642, 1710, 3191, 4943, 6869, 8865]"
      ]
     },
     "execution_count": 18,
     "metadata": {},
     "output_type": "execute_result"
    }
   ],
   "source": [
    "bth.itimes_in"
   ]
  },
  {
   "cell_type": "code",
   "execution_count": 29,
   "id": "7ed48162-4981-47ac-bc38-54ded2f82695",
   "metadata": {},
   "outputs": [
    {
     "data": {
      "text/plain": [
       "4"
      ]
     },
     "execution_count": 29,
     "metadata": {},
     "output_type": "execute_result"
    }
   ],
   "source": [
    "bth.m_in(642)"
   ]
  },
  {
   "cell_type": "code",
   "execution_count": 7,
   "id": "73ff0f7a-e990-478d-b4e8-84641a76900a",
   "metadata": {},
   "outputs": [
    {
     "data": {
      "text/plain": [
       "(array([1.+0.j, 0.+0.j, 0.+0.j, ..., 0.+0.j, 0.+0.j, 0.+0.j]),\n",
       " array([ 3.23077310e-01-1.57459858e-02j, -1.73464499e-11+9.76299102e-12j,\n",
       "         6.91274430e-19+1.72273795e-20j, ...,\n",
       "         3.04652880e-02-5.09928345e-02j, -1.80480297e-02+2.97865214e-02j,\n",
       "         3.79016592e-03-6.15774066e-03j]),\n",
       " array([ 3.22949835e-01-1.57542351e-02j, -1.71368747e-11+9.78604414e-12j,\n",
       "         6.92171324e-19+1.72933232e-20j, ...,\n",
       "         3.07198353e-02-5.08416710e-02j, -1.81972876e-02+2.97107191e-02j,\n",
       "         3.82113820e-03-6.14726876e-03j]),\n",
       " array([ 3.22949835e-01-1.57542351e-02j, -1.71368747e-11+9.78604414e-12j,\n",
       "         6.92171324e-19+1.72933232e-20j, ...,\n",
       "         3.07198353e-02-5.08416710e-02j, -1.81972876e-02+2.97107191e-02j,\n",
       "         3.82113820e-03-6.14726876e-03j]))"
      ]
     },
     "execution_count": 7,
     "metadata": {},
     "output_type": "execute_result"
    }
   ],
   "source": [
    "num_modes = 30\n",
    "max_num_quanta = 4\n",
    "m = tools.spin_boson_model(num_modes, max_num_quanta)\n",
    "\n",
    "wq = 1.0\n",
    "Hs = wq * m.s_p @ m.s_m\n",
    "g = 0.1\n",
    "V = g * m.s_m\n",
    "V_dag = g * m.s_p\n",
    "\n",
    "def f(ti):\n",
    "    return(0.1*np.cos((ti + 0.5)*bth.dt))\n",
    "\n",
    "psi = np.zeros(m.dimension, dtype = complex)\n",
    "psi_mid = np.zeros(m.dimension, dtype = complex)\n",
    "psi_mid_next = np.zeros(m.dimension, dtype = complex)\n",
    "psi_buff = np.zeros(m.dimension, dtype = complex)\n",
    "\n",
    "psi_ini = np.zeros(m.dimension, dtype = complex)\n",
    "psi_ini[0] = 1\n",
    "psi_begin = np.copy(psi_ini)\n",
    "\n",
    "Ht = None\n",
    "\n",
    "def begin_step(ti, psi):\n",
    "    Hint = V_dag @ sum(bth.couplings_min[:, ti] * m.a_dag)\n",
    "    Hint = Hint + Hint.conj().transpose()\n",
    "    global Ht\n",
    "    Ht = Hs + m.s_x * f(ti) + Hint\n",
    "    \n",
    "def apply_H(ti, psi_in, psi_out):\n",
    "    mv(Ht, psi_in, psi_out)\n",
    "\n",
    "def eval_o(ti, psi):\n",
    "    pass\n",
    "\n",
    "first_in_chain = 1\n",
    "evolution_chained2_kicked(0, bth.nt, bth.dt, begin_step, apply_H, eval_o, psi_begin, psi, psi_mid, psi_mid_next, first_in_chain)"
   ]
  },
  {
   "cell_type": "code",
   "execution_count": null,
   "id": "694acf12-27a9-4ce0-bab6-958b4ac6159a",
   "metadata": {},
   "outputs": [],
   "source": [
    "Nq = sum([m.a_dag[i] @ m.a[i] for i in range(20)])"
   ]
  },
  {
   "cell_type": "code",
   "execution_count": 9,
   "id": "c5813e6b-0934-4a95-85b3-8b30d93092be",
   "metadata": {},
   "outputs": [],
   "source": [
    "psi_full = np.copy(psi) / np.sqrt(np.vdot(psi, psi))"
   ]
  },
  {
   "cell_type": "code",
   "execution_count": 10,
   "id": "bd31560c-cadd-4c0b-80dd-4dd52dc4b912",
   "metadata": {},
   "outputs": [
    {
     "data": {
      "text/plain": [
       "(2.399123132040529+2.710505431213761e-20j)"
      ]
     },
     "execution_count": 10,
     "metadata": {},
     "output_type": "execute_result"
    }
   ],
   "source": [
    "np.vdot(psi_full, Nq @ psi_full)"
   ]
  },
  {
   "cell_type": "code",
   "execution_count": 11,
   "id": "05bdf6f6-0ace-4e3b-b83a-cfb02954630f",
   "metadata": {},
   "outputs": [
    {
     "data": {
      "text/plain": [
       "(array([1.+0.j, 0.+0.j, 0.+0.j, ..., 0.+0.j, 0.+0.j, 0.+0.j]),\n",
       " array([ 3.23083291e-01-1.57462004e-02j,  8.70456074e-11+5.46930326e-12j,\n",
       "        -1.60994032e-20+3.73622954e-22j, ...,\n",
       "         3.04653345e-02-5.09928699e-02j, -1.80479907e-02+2.97864877e-02j,\n",
       "         3.79014033e-03-6.15771176e-03j]),\n",
       " array([ 3.22955812e-01-1.57544501e-02j,  8.69596502e-11+5.40267478e-12j,\n",
       "        -1.60785943e-20+3.84057001e-22j, ...,\n",
       "         3.07198820e-02-5.08417061e-02j, -1.81972484e-02+2.97106855e-02j,\n",
       "         3.82111247e-03-6.14723998e-03j]),\n",
       " array([ 3.22955812e-01-1.57544501e-02j,  8.69596502e-11+5.40267478e-12j,\n",
       "        -1.60785943e-20+3.84057001e-22j, ...,\n",
       "         3.07198820e-02-5.08417061e-02j, -1.81972484e-02+2.97106855e-02j,\n",
       "         3.82111247e-03-6.14723998e-03j]))"
      ]
     },
     "execution_count": 11,
     "metadata": {},
     "output_type": "execute_result"
    }
   ],
   "source": [
    "num_modes = 30\n",
    "max_num_quanta = 4\n",
    "m = tools.spin_boson_model(num_modes, max_num_quanta)\n",
    "\n",
    "#n_rel = 11\n",
    "\n",
    "wq = 1.0\n",
    "Hs = wq * m.s_p @ m.s_m\n",
    "g = 0.1\n",
    "V = g * m.s_m\n",
    "V_dag = g * m.s_p\n",
    "\n",
    "def f(ti):\n",
    "    return(0.1*np.cos((ti + 0.5)*bth.dt))\n",
    "\n",
    "psi = np.zeros(m.dimension, dtype = complex)\n",
    "psi_mid = np.zeros(m.dimension, dtype = complex)\n",
    "psi_mid_next = np.zeros(m.dimension, dtype = complex)\n",
    "psi_buff = np.zeros(m.dimension, dtype = complex)\n",
    "\n",
    "psi_ini = np.zeros(m.dimension, dtype = complex)\n",
    "psi_ini[0] = 1\n",
    "psi_begin = np.copy(psi_ini)\n",
    "\n",
    "Ht = None\n",
    "\n",
    "def begin_step(ti, psi):\n",
    "    m_in = bth.m_in(ti)\n",
    "    Hint = V_dag @ sum(bth.couplings_min[: m_in, ti] * m.a_dag[: m_in])\n",
    "    Hint = Hint + Hint.conj().transpose()\n",
    "    global Ht\n",
    "    Ht = Hs + m.s_x * f(ti) + Hint\n",
    "    \n",
    "def apply_H(ti, psi_in, psi_out):\n",
    "    mv(Ht, psi_in, psi_out)\n",
    "\n",
    "def eval_o(ti, psi):\n",
    "    pass\n",
    "\n",
    "first_in_chain = 1\n",
    "evolution_chained2_kicked(0, bth.nt, bth.dt, begin_step, apply_H, eval_o, psi_begin, psi, psi_mid, psi_mid_next, first_in_chain)"
   ]
  },
  {
   "cell_type": "code",
   "execution_count": 12,
   "id": "3e1c476d-f720-47b6-9dbe-d071cd1be9f2",
   "metadata": {},
   "outputs": [],
   "source": [
    "psi_fm = np.copy(psi) / np.sqrt(np.vdot(psi, psi))"
   ]
  },
  {
   "cell_type": "code",
   "execution_count": 13,
   "id": "1e6b41df-5b21-45fc-aefc-fc18eaa33a35",
   "metadata": {},
   "outputs": [
    {
     "data": {
      "text/plain": [
       "(2.399109985208621+0j)"
      ]
     },
     "execution_count": 13,
     "metadata": {},
     "output_type": "execute_result"
    }
   ],
   "source": [
    "np.vdot(psi_fm, Nq @ psi_fm)"
   ]
  },
  {
   "cell_type": "code",
   "execution_count": 14,
   "id": "f2cd43ac-5ca1-44a5-8dfb-e9553b5edd64",
   "metadata": {},
   "outputs": [
    {
     "data": {
      "text/plain": [
       "2.4496275674579238e-08"
      ]
     },
     "execution_count": 14,
     "metadata": {},
     "output_type": "execute_result"
    }
   ],
   "source": [
    "f = 1 - np.abs(np.vdot(psi_fm, psi_full))\n",
    "f"
   ]
  },
  {
   "cell_type": "code",
   "execution_count": 15,
   "id": "e29fc75b-f9b9-4fd3-848a-a2457acef73b",
   "metadata": {},
   "outputs": [
    {
     "data": {
      "text/plain": [
       "(2.399123132040529+2.710505431213761e-20j)"
      ]
     },
     "execution_count": 15,
     "metadata": {},
     "output_type": "execute_result"
    }
   ],
   "source": [
    "np.vdot(psi_full, Nq @ psi_full)"
   ]
  },
  {
   "cell_type": "code",
   "execution_count": null,
   "id": "7709151b-c4a1-4876-bf0e-a247f3f67e1a",
   "metadata": {},
   "outputs": [],
   "source": []
  }
 ],
 "metadata": {
  "kernelspec": {
   "display_name": "Python 3 (ipykernel)",
   "language": "python",
   "name": "python3"
  },
  "language_info": {
   "codemirror_mode": {
    "name": "ipython",
    "version": 3
   },
   "file_extension": ".py",
   "mimetype": "text/x-python",
   "name": "python",
   "nbconvert_exporter": "python",
   "pygments_lexer": "ipython3",
   "version": "3.10.12"
  }
 },
 "nbformat": 4,
 "nbformat_minor": 5
}
