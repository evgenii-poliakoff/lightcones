{
 "cells": [
  {
   "cell_type": "code",
   "execution_count": 1,
   "metadata": {},
   "outputs": [],
   "source": [
    "import numpy as np\n",
    "import lightcones as lc\n",
    "import lightcones.linalg as la\n",
    "import matplotlib.pyplot as plt\n",
    "from lightcones.linalg import mv\n",
    "from lightcones import models\n",
    "from lightcones.solvers.schrodinger import solve\n",
    "plt.rcParams['text.usetex'] = True\n"
   ]
  },
  {
   "cell_type": "code",
   "execution_count": 2,
   "metadata": {},
   "outputs": [],
   "source": [
    "# chain\n",
    "n_sites = 15\n",
    "# on-site energies\n",
    "es = [1]*n_sites\n",
    "# hoppings\n",
    "hs = [0.05]*(n_sites-1)\n",
    "\n",
    "# time grid\n",
    "dt = 0.01\n",
    "nt = 10000\n",
    "\n",
    "# spread\n",
    "spread = lc.spread(es, hs, nt, dt)\n",
    "\n",
    "# rho_plus\n",
    "rho_plus = lc.rho_plus(spread, dt)\n",
    "\n",
    "# minimal light cone\n",
    "rtol = 10**(-4)\n",
    "ti_arrival, U_min, spread_min = lc.minimal_forward_frame(spread, rho_plus, dt, rtol)"
   ]
  },
  {
   "cell_type": "code",
   "execution_count": 3,
   "metadata": {},
   "outputs": [],
   "source": [
    "# causal diamond frame\n",
    "\n",
    "m = 3\n",
    "spread_cd, U_cd = lc.causal_diamond_frame(spread_min, ti_arrival, U_min, rho_plus, dt, rtol, m)"
   ]
  },
  {
   "cell_type": "code",
   "execution_count": null,
   "metadata": {},
   "outputs": [],
   "source": [
    "# moving frame\n",
    "\n",
    "spread_mv, H_mv = lc.moving_frame(spread_cd, ti_arrival, U_cd, dt, m)"
   ]
  }
 ],
 "metadata": {
  "kernelspec": {
   "display_name": "base",
   "language": "python",
   "name": "python3"
  },
  "language_info": {
   "codemirror_mode": {
    "name": "ipython",
    "version": 3
   },
   "file_extension": ".py",
   "mimetype": "text/x-python",
   "name": "python",
   "nbconvert_exporter": "python",
   "pygments_lexer": "ipython3",
   "version": "3.11.5"
  }
 },
 "nbformat": 4,
 "nbformat_minor": 2
}
