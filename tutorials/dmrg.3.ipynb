{
 "cells": [
  {
   "cell_type": "code",
   "execution_count": 1,
   "metadata": {},
   "outputs": [
    {
     "ename": "ModuleNotFoundError",
     "evalue": "No module named 'lightcones'",
     "output_type": "error",
     "traceback": [
      "\u001b[0;31m---------------------------------------------------------------------------\u001b[0m",
      "\u001b[0;31mModuleNotFoundError\u001b[0m                       Traceback (most recent call last)",
      "Cell \u001b[0;32mIn[1], line 3\u001b[0m\n\u001b[1;32m      1\u001b[0m \u001b[38;5;28;01mimport\u001b[39;00m\u001b[38;5;250m \u001b[39m\u001b[38;5;21;01mnumpy\u001b[39;00m\u001b[38;5;250m \u001b[39m\u001b[38;5;28;01mas\u001b[39;00m\u001b[38;5;250m \u001b[39m\u001b[38;5;21;01mnp\u001b[39;00m\n\u001b[1;32m      2\u001b[0m \u001b[38;5;28;01mimport\u001b[39;00m\u001b[38;5;250m \u001b[39m\u001b[38;5;21;01mscipy\u001b[39;00m\n\u001b[0;32m----> 3\u001b[0m \u001b[38;5;28;01mimport\u001b[39;00m\u001b[38;5;250m \u001b[39m\u001b[38;5;21;01mlightcones\u001b[39;00m\u001b[38;5;21;01m.\u001b[39;00m\u001b[38;5;21;01mlinalg\u001b[39;00m\u001b[38;5;250m \u001b[39m\u001b[38;5;28;01mas\u001b[39;00m\u001b[38;5;250m \u001b[39m\u001b[38;5;21;01mll\u001b[39;00m\n\u001b[1;32m      4\u001b[0m \u001b[38;5;28;01mfrom\u001b[39;00m\u001b[38;5;250m \u001b[39m\u001b[38;5;21;01mlightcones\u001b[39;00m\u001b[38;5;21;01m.\u001b[39;00m\u001b[38;5;21;01mlinalg\u001b[39;00m\u001b[38;5;250m \u001b[39m\u001b[38;5;28;01mimport\u001b[39;00m kron\n\u001b[1;32m      5\u001b[0m \u001b[38;5;28;01mfrom\u001b[39;00m\u001b[38;5;250m \u001b[39m\u001b[38;5;21;01mlightcones\u001b[39;00m\u001b[38;5;21;01m.\u001b[39;00m\u001b[38;5;21;01mmodels\u001b[39;00m\u001b[38;5;250m \u001b[39m\u001b[38;5;28;01mimport\u001b[39;00m spinfull_fermions\n",
      "\u001b[0;31mModuleNotFoundError\u001b[0m: No module named 'lightcones'"
     ]
    }
   ],
   "source": [
    "import numpy as np\n",
    "import scipy\n",
    "import lightcones.linalg as ll\n",
    "from lightcones.linalg import kron\n",
    "from lightcones.models import spinfull_fermions\n",
    "import lightcones.space as sp\n",
    "import math\n",
    "\n",
    "U = 1\n",
    "t = 0.02\n",
    "\n",
    "num_iterations = 20\n",
    "\n",
    "m = 10\n",
    "l = 3 + 1\n",
    "\n",
    "E_GND_convergence = []\n",
    "\n",
    "# iteration 0: preparatory\n",
    "\n",
    "# left subsystem\n",
    "# we use [] for list of modes\n",
    "#        {} for list of states \n",
    "# f = [: 3] * [1]\n",
    "\n",
    "f = spinfull_fermions(l)\n",
    "\n",
    "H_hopp = sum([sum([- t * (f.a_dag[s][i] @ f.a[s][i - 1] + f.a_dag[s][i - 1] @ f.a[s][i]) for s in range(2)]) for i in range(l)])\n",
    "H_S = H_hopp + sum([U * f.n[0][i] @ f.n[1][i] for i in range(l)])\n",
    "\n",
    "# underscore is for\n",
    "# [: 3] * [1] * [: 3] * [1]\n",
    "H_S_ = kron(H_S, f.eye)\n",
    "\n",
    "# for [: 3] * [1]\n",
    "a_S = f.a[:][-1]\n",
    "a_S_dag = f.a_dag[:][-1]\n",
    "\n",
    "# for [: 3] * [1]\n",
    "a_S_ = kron(a_S, f.eye)\n",
    "a_S_dag_ = kron(a_S_dag, f.eye)\n",
    "\n",
    "# right subsystem\n",
    "\n",
    "# fermion Hamiltonian is always even\n",
    "H_E_ = kron(f.eye, H_S)\n",
    "\n",
    "# a and a_dag are odd operators\n",
    "a_E_ = kron(f.parity, a_S)\n",
    "a_E_dag_ = kron(f.parity, a_S_dag)\n",
    "\n",
    "# joint system Hamiltonian\n",
    "H_SE = H_S_ + H_E_ - sum([t * (a_E_dag_[s] @ a_S_[s] + a_S_dag_[s] @ a_E_[s]) for s in range(2)])\n",
    "\n",
    "# initial lanczos wavefunction for\n",
    "# half filled case:\n",
    "psi0 = np.zeros(f.dimension**2, dtype = complex)\n",
    "psi0[0] = 1.0\n",
    "for i in range(l):\n",
    "    # populate left part\n",
    "    psi0 = (kron(f.a_dag[0][i], f.eye) + kron(f.a_dag[1][i], f.eye)) @ psi0 / math.sqrt(2.0)\n",
    "    # popular right part\n",
    "    psi0 = (kron(f.parity, f.a_dag[0][i]) + kron(f.parity, f.a_dag[1][i])) @ psi0 / math.sqrt(2.0)\n",
    "\n",
    "print(\"psi0 norm:\")\n",
    "print(np.vdot(psi0, psi0))\n",
    "\n",
    "# total occupation of left subsystem:\n",
    "N_left = sum([sum([f.a_dag[s][i] @ f.a[s][i] for s in range(2)]) for i in range(l)])\n",
    "N_left_ = kron(N_left, f.eye)\n",
    "\n",
    "print(\"psi0 left part occupation:\")\n",
    "print(np.vdot(psi0, N_left_ @ psi0))\n",
    "\n",
    "# now start regular iterations\n",
    "\n",
    "dimension_L = f.dimension\n",
    "parity_L = f.parity\n",
    "eye_T_ = f.eye\n",
    "\n",
    "for i in range(num_iterations):\n",
    "\n",
    "    print(\"iteration No. \", i)\n",
    "\n",
    "    # find ground state\n",
    "    # on iteration 0:\n",
    "    #   for [: 3] * [1] * [: 3] * [1]\n",
    "    # on iteration i:\n",
    "    #   for {: m} * [1] * {: m} * [1]\n",
    "    \n",
    "    print(\"Number of particles in new trial state:\")\n",
    "    print(np.vdot(psi0, (kron(N_left, eye_T_) + kron(eye_T_, N_left)) @ psi0))\n",
    "    \n",
    "    # Let us act by H_SE\n",
    "    Hpsi = H_SE @ H_SE @ psi0\n",
    "    Hpsi = Hpsi / math.sqrt(np.vdot(Hpsi, Hpsi))\n",
    "    print(\"Number of particles in H @ new trial state:\")\n",
    "    print(np.vdot(Hpsi, (kron(N_left, eye_T_) + kron(eye_T_, N_left)) @ Hpsi))\n",
    "    \n",
    "    E_GND, Psi_GND = ll.lancz_gnd_state(psi0, H_SE, 10)\n",
    "    \n",
    "    print(\"Number of particles in new ground state:\")\n",
    "    print(np.vdot(Psi_GND, (kron(N_left, eye_T_) + kron(eye_T_, N_left)) @ Psi_GND))\n",
    "    \n",
    "    E_GND_convergence.append(E_GND)\n",
    "    \n",
    "    print(\"E_GND = \", E_GND)\n",
    "    \n",
    "    print(\"Psi_GND norm:\")\n",
    "    print(np.vdot(Psi_GND, Psi_GND))\n",
    "    \n",
    "    # partial trace\n",
    "    bp = sp.bipartite(dimension_L, dimension_L)\n",
    "    # for [: 3] * [1]\n",
    "    rho = bp.trace_out_R(Psi_GND)\n",
    "    \n",
    "    # find eigenvalues sorted in descending order\n",
    "    pi, T = ll.find_eigs_descending(rho)\n",
    "    \n",
    "    print(\"probability norm:\")\n",
    "    print(sum(pi))\n",
    "    \n",
    "    print(\"Schmidt components:\")\n",
    "    print(pi[:m])\n",
    "    \n",
    "    # keep only m largest eigenstates\n",
    "    # columns are eigenstates\n",
    "    T = scipy.sparse.csc_matrix(T[:, : m])\n",
    "\n",
    "    # switch to the frame of revelant eigenstates\n",
    "    # for {: m}\n",
    "    T_dag = scipy.sparse.csc_matrix(T.conj().T)\n",
    "    \n",
    "    N_left_T = T_dag @ N_left @ T\n",
    "    \n",
    "    # for numerical stability:\n",
    "    # N_left_T has natural numbers as eigenvalues\n",
    "    N_left_T = N_left_T.rint()\n",
    "    \n",
    "    print(\"Population of Schmidt components:\")\n",
    "    left_N = N_left_T.diagonal().real\n",
    "    print(left_N)\n",
    "    \n",
    "    # we compare population of left subsystem with l + i\n",
    "    # since we start from l signly occupied sites, and add one electron\n",
    "    # at each iteration (+ i electrons after i iterations) \n",
    "    #assert math.isclose(left_N[0], l + i, rel_tol=1e-7, abs_tol=1e-7), \\\n",
    "    #    \"The most important Schmidt component is not at half filling.\"\n",
    "    \n",
    "    H_T = T_dag @ H_S @ T\n",
    "\n",
    "    mask = np.abs(H_T.data) < 1e-7 \n",
    "    H_T.data[mask] = 0\n",
    "    H_T.eliminate_zeros() \n",
    "    \n",
    "    # boundary operators also get renormalized\n",
    "    # for {: m}\n",
    "    a_T = [T_dag @ a_S[s] @ T for s in range(2)]\n",
    "    a_T_dag = [T_dag @ a_S_dag[s] @ T for s in range(2)]\n",
    "\n",
    "    for s in range(2):\n",
    "        #\n",
    "        mask = np.abs(a_T[s].data) < 1e-7 \n",
    "        a_T[s].data[mask] = 0\n",
    "        a_T[s].eliminate_zeros()\n",
    "        #\n",
    "        mask = np.abs(a_T_dag[s].data) < 1e-7 \n",
    "        a_T_dag[s].data[mask] = 0\n",
    "        a_T_dag[s].eliminate_zeros()  \n",
    "\n",
    "    # new parity operator\n",
    "    # for {: m}\n",
    "    parity_T = T_dag @ parity_L @ T\n",
    "    \n",
    "    # for numerical stability:\n",
    "    # parity_T has integers as eigenvalues\n",
    "    parity_T = parity_T.rint()\n",
    "    \n",
    "    eye_T = ll.eye(m)\n",
    "    \n",
    "    # add new site\n",
    "    g = spinfull_fermions(1)\n",
    "    \n",
    "    # new boundary operators\n",
    "    # for {: m} * [1]\n",
    "    \n",
    "    # a and a_dag are odd operators\n",
    "    a_S = kron(parity_T, [g.a[s][0] for s in range(2)])\n",
    "    a_S_dag = kron(parity_T, [g.a_dag[s][0] for s in range(2)])\n",
    "    \n",
    "    a_T_ = kron(a_T, g.eye)\n",
    "    a_T_dag_ = kron(a_T_dag, g.eye)\n",
    "    \n",
    "    # n is even operator\n",
    "    n_ = kron(eye_T, [g.n[s][0] for s in range(2)])\n",
    "    \n",
    "    # \n",
    "    H_T_ = kron(H_T, g.eye)\n",
    "    \n",
    "    #\n",
    "    H_S = H_T_ - t * sum([a_S_dag[s] @ a_T_[s] + a_T_dag_[s] @ a_S[s] for s in range(2)]) + U * n_[0] @ n_[1]\n",
    "    \n",
    "    eye_T_ = kron(eye_T, g.eye)\n",
    "    \n",
    "    # left subsystem\n",
    "    # for {: m} * [1] * {: m} * [1]\n",
    "    \n",
    "    H_S_ = kron(H_S, eye_T_)\n",
    "    \n",
    "    a_S_ = kron(a_S, eye_T_)\n",
    "    a_S_dag_ = kron(a_S_dag, eye_T_)\n",
    "\n",
    "    # right subsystem\n",
    "    # for {: m} * [1] * {: m} * [1]\n",
    "\n",
    "    parity_T_ = kron(parity_T, g.parity)\n",
    "    \n",
    "    # fermion Hamiltonian is always even\n",
    "    H_E_ = kron(eye_T_, H_S)\n",
    "\n",
    "    # a and a_dag are odd operators\n",
    "    a_E_ = kron(parity_T_, a_S)\n",
    "    a_E_dag_ = kron(parity_T_, a_S_dag)\n",
    "    \n",
    "    # joint system Hamiltonian\n",
    "    # for {: m} * [1] * {: m} * [1]\n",
    "\n",
    "    H_SE = H_S_ + H_E_ - sum([t * (a_E_dag_[s] @ a_S_[s] + a_S_dag_[s] @ a_E_[s]) for s in range(2)])\n",
    "    \n",
    "    # update N_left operator\n",
    "    # add new site\n",
    "    N_left_ = kron(N_left_T, g.eye) + sum([kron(eye_T, g.n[i][0]) for i in range(2)])\n",
    "    # embed into left-right system \n",
    "    # {: m} * [1] * {: m} * [1]\n",
    "    #N_left = kron(N_left_, eye_T_)\n",
    "    N_left = N_left_\n",
    "    \n",
    "    # update parity_L\n",
    "    parity_L = parity_T_\n",
    "    \n",
    "    bp_L = sp.bipartite(m, g.dimension)\n",
    "    \n",
    "    # update Lanczos initial condition\n",
    "    # Take the most important Schmidt component |phi_0>\n",
    "    # with correct number of electrons \n",
    "    \n",
    "    # most significant component in T-representation\n",
    "    # with correct occupation\n",
    "    ind = np.where(left_N == l + i)[0][0]\n",
    "    psi0 = np.zeros(m, dtype = complex)\n",
    "    psi0[ind] = 1.0\n",
    "    \n",
    "    # add one site to the left system.\n",
    "    # the site wavefunction is at half filling\n",
    "    psi_g = (g.a_dag[0][0] + g.a_dag[1][0]) @ g.vac() / math.sqrt(2.0)\n",
    "    \n",
    "    print(\"Number of particles in new site:\")\n",
    "    print(np.vdot(psi_g, (g.a_dag[0][0] @ g.a[0][0] + g.a_dag[1][0] @ g.a[1][0]) @ psi_g))\n",
    "    \n",
    "    # {: m} * [1]\n",
    "    psi0_L = bp_L.kron(psi0, psi_g)\n",
    "    \n",
    "    print(\"Number of particles in new left system:\")\n",
    "    print(np.vdot(psi0_L, N_left @ psi0_L))\n",
    "    \n",
    "    # joint left * right system\n",
    "    # {: m} * [1] * {: m} * [1]\n",
    "    bp_LR = sp.bipartite(bp_L.dimension, bp_L.dimension)\n",
    "    psi0 = bp_LR.kron(psi0_L, psi0_L)\n",
    "    \n",
    "    print(\"Number of particles in new LR system:\")\n",
    "    print(np.vdot(psi0, (kron(N_left, eye_T_) + kron(eye_T_, N_left)) @ psi0))\n",
    "    \n",
    "    dimension_L = bp_L.dimension"
   ]
  },
  {
   "cell_type": "code",
   "execution_count": 7,
   "metadata": {},
   "outputs": [
    {
     "data": {
      "text/plain": [
       "array([-1.+0.j, -1.+0.j, -2.+0.j, -0.+0.j,  0.+0.j, -0.+0.j, -0.+0.j,\n",
       "        0.+0.j,  0.+0.j, -0.+0.j,  1.-0.j,  1.-0.j,  2.-0.j,  0.-0.j,\n",
       "       -0.+0.j,  0.-0.j,  0.-0.j, -0.+0.j, -0.+0.j,  0.-0.j,  1.-0.j,\n",
       "        1.-0.j,  2.-0.j,  0.-0.j, -0.+0.j,  0.-0.j,  0.-0.j, -0.+0.j,\n",
       "       -0.+0.j,  0.-0.j, -1.+0.j, -1.+0.j, -2.+0.j, -0.+0.j,  0.+0.j,\n",
       "       -0.+0.j, -0.+0.j,  0.+0.j,  0.+0.j, -0.+0.j, -1.+0.j,  1.+0.j,\n",
       "        0.+0.j, -2.+0.j,  0.+0.j,  0.+0.j, -0.+0.j,  0.+0.j,  0.+0.j,\n",
       "       -0.+0.j,  1.-0.j, -1.+0.j, -0.+0.j,  2.-0.j, -0.+0.j, -0.+0.j,\n",
       "        0.-0.j, -0.+0.j, -0.+0.j,  0.-0.j,  1.-0.j, -1.+0.j, -0.+0.j,\n",
       "        2.-0.j, -0.+0.j, -0.+0.j,  0.-0.j, -0.+0.j, -0.+0.j,  0.-0.j,\n",
       "       -1.+0.j,  1.+0.j,  0.+0.j, -2.+0.j,  0.+0.j,  0.+0.j, -0.+0.j,\n",
       "        0.+0.j,  0.+0.j, -0.+0.j, -2.+0.j,  0.+0.j,  1.+0.j,  1.+0.j,\n",
       "       -0.+0.j, -0.+0.j,  0.+0.j, -0.+0.j, -0.+0.j,  1.+0.j,  2.-0.j,\n",
       "       -0.+0.j, -1.+0.j, -1.+0.j,  0.-0.j,  0.-0.j, -0.+0.j,  0.-0.j,\n",
       "        0.-0.j, -1.+0.j,  2.-0.j, -0.+0.j, -1.+0.j, -1.+0.j,  0.-0.j,\n",
       "        0.-0.j, -0.+0.j,  0.-0.j,  0.-0.j, -1.+0.j, -2.+0.j,  0.+0.j,\n",
       "        1.+0.j,  1.+0.j, -0.+0.j, -0.+0.j,  0.+0.j, -0.+0.j, -0.+0.j,\n",
       "        1.+0.j, -0.+0.j, -2.+0.j,  1.+0.j, -1.+0.j, -1.+0.j,  0.+0.j,\n",
       "        0.+0.j,  0.+0.j, -0.+0.j,  0.+0.j,  0.-0.j,  2.-0.j, -1.+0.j,\n",
       "        1.-0.j,  1.-0.j, -0.+0.j, -0.+0.j, -0.+0.j,  0.-0.j, -0.+0.j,\n",
       "        0.-0.j,  2.-0.j, -1.+0.j,  1.-0.j,  1.-0.j, -0.+0.j, -0.+0.j,\n",
       "       -0.+0.j,  0.-0.j, -0.+0.j, -0.+0.j, -2.+0.j,  1.+0.j, -1.+0.j,\n",
       "       -1.+0.j,  0.+0.j,  0.+0.j,  0.+0.j, -0.+0.j,  0.+0.j,  0.+0.j,\n",
       "        0.+0.j, -0.+0.j, -1.+0.j,  1.+0.j, -0.+0.j, -0.+0.j, -0.+0.j,\n",
       "       -1.+0.j,  1.+0.j, -0.+0.j, -0.+0.j,  0.-0.j,  1.-0.j, -1.+0.j,\n",
       "        0.-0.j,  0.-0.j,  0.-0.j,  1.-0.j, -1.+0.j, -0.+0.j, -0.+0.j,\n",
       "        0.-0.j,  1.-0.j, -1.+0.j,  0.-0.j,  0.-0.j,  0.-0.j,  1.-0.j,\n",
       "       -1.+0.j,  0.+0.j,  0.+0.j, -0.+0.j, -1.+0.j,  1.+0.j, -0.+0.j,\n",
       "       -0.+0.j, -0.+0.j, -1.+0.j,  1.+0.j, -0.+0.j,  0.+0.j, -0.+0.j,\n",
       "        0.+0.j, -0.+0.j, -1.+0.j,  0.+0.j,  0.+0.j,  0.+0.j, -0.+0.j,\n",
       "        0.-0.j, -0.+0.j,  0.-0.j, -0.+0.j,  0.-0.j,  1.-0.j, -0.+0.j,\n",
       "       -0.+0.j, -0.+0.j,  0.-0.j,  0.-0.j, -0.+0.j,  0.-0.j, -0.+0.j,\n",
       "        0.-0.j,  1.-0.j, -0.+0.j, -0.+0.j, -0.+0.j,  0.-0.j, -0.+0.j,\n",
       "        0.+0.j, -0.+0.j,  0.+0.j, -0.+0.j, -1.+0.j,  0.+0.j,  0.+0.j,\n",
       "        0.+0.j, -0.+0.j, -0.+0.j, -0.+0.j,  0.+0.j,  0.+0.j, -0.+0.j,\n",
       "        0.+0.j,  0.+0.j,  0.+0.j, -0.+0.j, -0.+0.j,  0.-0.j,  0.-0.j,\n",
       "       -0.+0.j, -0.+0.j,  0.-0.j, -0.+0.j, -0.+0.j, -0.+0.j,  0.-0.j,\n",
       "        0.-0.j,  0.-0.j,  0.-0.j, -0.+0.j, -0.+0.j,  0.-0.j, -0.+0.j,\n",
       "       -0.+0.j, -0.+0.j,  0.-0.j,  0.-0.j, -0.+0.j, -0.+0.j,  0.+0.j,\n",
       "        0.+0.j, -0.+0.j,  0.+0.j,  0.+0.j,  0.+0.j, -0.+0.j, -0.+0.j,\n",
       "        0.+0.j,  0.+0.j, -0.+0.j,  0.+0.j, -0.+0.j,  0.+0.j,  0.+0.j,\n",
       "        0.+0.j,  0.+0.j,  0.+0.j, -0.+0.j, -0.+0.j,  0.-0.j, -0.+0.j,\n",
       "        0.-0.j, -0.+0.j, -0.+0.j, -0.+0.j, -0.+0.j, -0.+0.j, -0.+0.j,\n",
       "       -0.+0.j,  0.-0.j, -0.+0.j,  0.-0.j, -0.+0.j, -0.+0.j, -0.+0.j,\n",
       "       -0.+0.j, -0.+0.j,  0.+0.j,  0.+0.j, -0.+0.j,  0.+0.j, -0.+0.j,\n",
       "        0.+0.j,  0.+0.j,  0.+0.j,  0.+0.j,  0.+0.j,  0.+0.j,  0.+0.j,\n",
       "       -0.+0.j, -0.+0.j, -1.+0.j,  0.+0.j, -0.+0.j,  0.+0.j, -1.+0.j,\n",
       "        0.+0.j, -0.+0.j, -0.+0.j,  0.-0.j,  0.-0.j,  1.-0.j, -0.+0.j,\n",
       "        0.-0.j, -0.+0.j,  1.-0.j, -0.+0.j, -0.+0.j, -0.+0.j,  0.-0.j,\n",
       "        0.-0.j,  1.-0.j, -0.+0.j,  0.-0.j, -0.+0.j,  1.-0.j, -0.+0.j,\n",
       "        0.+0.j,  0.+0.j, -0.+0.j, -0.+0.j, -1.+0.j,  0.+0.j, -0.+0.j,\n",
       "        0.+0.j, -1.+0.j,  0.+0.j, -0.+0.j, -0.+0.j,  1.+0.j,  0.+0.j,\n",
       "        1.+0.j, -0.+0.j, -0.+0.j,  0.+0.j,  0.+0.j, -0.+0.j,  0.-0.j,\n",
       "        0.-0.j, -1.+0.j, -0.+0.j, -1.+0.j,  0.-0.j,  0.-0.j, -0.+0.j,\n",
       "       -0.+0.j,  0.-0.j,  0.-0.j,  0.-0.j, -1.+0.j, -0.+0.j, -1.+0.j,\n",
       "        0.-0.j,  0.-0.j, -0.+0.j, -0.+0.j,  0.-0.j, -0.+0.j, -0.+0.j,\n",
       "        1.+0.j,  0.+0.j,  1.+0.j, -0.+0.j, -0.+0.j,  0.+0.j,  0.+0.j,\n",
       "       -0.+0.j])"
      ]
     },
     "execution_count": 7,
     "metadata": {},
     "output_type": "execute_result"
    }
   ],
   "source": [
    "parity_T_.data"
   ]
  },
  {
   "cell_type": "code",
   "execution_count": 5,
   "metadata": {},
   "outputs": [
    {
     "data": {
      "text/plain": [
       "array([1., 1., 1., 1., 1., 1., 1., 1., 1., 1.])"
      ]
     },
     "execution_count": 5,
     "metadata": {},
     "output_type": "execute_result"
    }
   ],
   "source": [
    "eye_T.data"
   ]
  },
  {
   "cell_type": "code",
   "execution_count": 4,
   "metadata": {},
   "outputs": [
    {
     "data": {
      "text/plain": [
       "array([15.+0.j, 16.+0.j, 16.+0.j, 17.+0.j, 15.+0.j, 16.+0.j, 16.+0.j,\n",
       "       17.+0.j, 15.+0.j, 16.+0.j, 16.+0.j, 17.+0.j, 15.+0.j, 16.+0.j,\n",
       "       16.+0.j, 17.+0.j, 15.+0.j,  1.+0.j, 16.+0.j,  1.+0.j, 16.+0.j,\n",
       "        1.+0.j, 17.+0.j,  1.+0.j, 14.+0.j, 15.+0.j, 15.+0.j, 16.+0.j,\n",
       "        1.+0.j, 17.+0.j,  1.+0.j, -1.+0.j,  1.+0.j, 18.+0.j,  1.+0.j,\n",
       "       -1.+0.j,  1.+0.j, 18.+0.j,  1.+0.j, -1.+0.j,  1.+0.j, 19.+0.j,\n",
       "        1.+0.j, -1.+0.j,  1.+0.j, 17.+0.j,  1.+0.j, 18.+0.j,  1.+0.j,\n",
       "       18.+0.j,  1.+0.j, 19.+0.j, -1.+0.j, 15.+0.j, -1.+0.j, 16.+0.j,\n",
       "       -1.+0.j, 16.+0.j, -1.+0.j, 17.+0.j, 15.+0.j, 16.+0.j, 16.+0.j,\n",
       "       17.+0.j])"
      ]
     },
     "execution_count": 4,
     "metadata": {},
     "output_type": "execute_result"
    }
   ],
   "source": [
    "N_left.data"
   ]
  },
  {
   "cell_type": "code",
   "execution_count": 3,
   "metadata": {},
   "outputs": [
    {
     "data": {
      "text/plain": [
       "array([1., 1., 1., 1., 1., 1., 1., 1., 1., 1., 1., 1., 1., 1., 1., 1., 1.,\n",
       "       1., 1., 1., 1., 1., 1., 1., 1., 1., 1., 1., 1., 1., 1., 1., 1., 1.,\n",
       "       1., 1., 1., 1., 1., 1.])"
      ]
     },
     "execution_count": 3,
     "metadata": {},
     "output_type": "execute_result"
    }
   ],
   "source": [
    "eye_T_.data"
   ]
  },
  {
   "cell_type": "code",
   "execution_count": null,
   "metadata": {},
   "outputs": [
    {
     "data": {
      "text/plain": [
       "array([0, 1, 6, 7, 8, 9])"
      ]
     },
     "execution_count": 7,
     "metadata": {},
     "output_type": "execute_result"
    }
   ],
   "source": [
    "np.where(left_N == l + i)[0]"
   ]
  },
  {
   "cell_type": "code",
   "execution_count": null,
   "metadata": {},
   "outputs": [
    {
     "data": {
      "text/plain": [
       "array([4., 4., 4., 4., 4., 4., 4., 4., 4., 4.])"
      ]
     },
     "execution_count": 4,
     "metadata": {},
     "output_type": "execute_result"
    }
   ],
   "source": [
    "np.rint(N_left_T.diagonal().real)"
   ]
  },
  {
   "cell_type": "code",
   "execution_count": 2,
   "metadata": {},
   "outputs": [
    {
     "data": {
      "text/plain": [
       "Text(0.5, 0, 'iteration No.')"
      ]
     },
     "execution_count": 2,
     "metadata": {},
     "output_type": "execute_result"
    },
    {
     "data": {
      "image/png": "[encoded data removed]",
      "text/plain": [
       "<Figure size 640x480 with 1 Axes>"
      ]
     },
     "metadata": {},
     "output_type": "display_data"
    }
   ],
   "source": [
    "import matplotlib.pyplot as plt\n",
    "plt.plot(np.array(E_GND_convergence) / (np.array(range(len(E_GND_convergence))) + l))\n",
    "#plt.plot(np.array(E_GND_convergence))\n",
    "plt.ylabel(r\"E_GND\")\n",
    "plt.xlabel(r\"iteration No.\")"
   ]
  },
  {
   "cell_type": "code",
   "execution_count": null,
   "metadata": {},
   "outputs": [],
   "source": []
  }
 ],
 "metadata": {
  "kernelspec": {
   "display_name": "Python 3",
   "language": "python",
   "name": "python3"
  },
  "language_info": {
   "codemirror_mode": {
    "name": "ipython",
    "version": 3
   },
   "file_extension": ".py",
   "mimetype": "text/x-python",
   "name": "python",
   "nbconvert_exporter": "python",
   "pygments_lexer": "ipython3",
   "version": "3.11.5"
  }
 },
 "nbformat": 4,
 "nbformat_minor": 2
}
