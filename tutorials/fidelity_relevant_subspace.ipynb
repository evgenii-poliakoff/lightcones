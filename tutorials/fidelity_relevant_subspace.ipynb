{
 "cells": [
  {
   "cell_type": "markdown",
   "metadata": {},
   "source": [
    "Here let us show that fidelity of the wavefunction with all modes, and with only relevant modes, converges exponentially on the number of relevant modes $m\\left(T\\right)$"
   ]
  },
  {
   "cell_type": "code",
   "execution_count": 26,
   "metadata": {},
   "outputs": [],
   "source": [
    "# import the required packages\n",
    "\n",
    "import numpy as np\n",
    "import lightcones.linalg as la\n",
    "from lightcones import models\n",
    "from lightcones.solvers.schrodinger import solve\n",
    "import matplotlib.pyplot as plt\n",
    "plt.rcParams['text.usetex'] = True"
   ]
  },
  {
   "cell_type": "code",
   "execution_count": 19,
   "metadata": {},
   "outputs": [],
   "source": [
    "n_sites = 20\n",
    "# on-site energies\n",
    "es = [1]*n_sites\n",
    "# hoppings\n",
    "hs = [0.05]*(n_sites-1)\n",
    "H = la.tridiag(es, hs)\n",
    "\n",
    "tmax = 100\n",
    "dt = 0.01\n",
    "t = np.arange(start = 0, stop = tmax, step = dt)\n",
    "nt = t.size\n",
    "\n",
    "phi_0 = np.zeros(n_sites, dtype = complex)\n",
    "phi_0[0] = 1 # initially quantum is on the site 0\n",
    "\n",
    "phi_lc = np.zeros((n_sites, nt), dtype = np.cdouble) # Here we store the propagated orbitals\n",
    "\n",
    "def apply_h(ti, phi_in, phi_out):\n",
    "    la.mv(H, phi_in, phi_out, cout=1)\n",
    "\n",
    "def eval_o(ti, phi):\n",
    "    phi_lc[:, ti] = phi\n",
    "    \n",
    "solve(0, nt-1, dt, apply_h, phi_0, eval_o = eval_o)"
   ]
  },
  {
   "cell_type": "code",
   "execution_count": 20,
   "metadata": {},
   "outputs": [],
   "source": [
    "rho_lc = np.zeros((n_sites, n_sites), dtype = np.cdouble)\n",
    "\n",
    "for i in range(0, nt):\n",
    "    phi = la.as_column_vector(phi_lc[:, i])\n",
    "    rho_lc += la.dyad(phi, phi) * dt\n",
    "\n",
    "# for numerical stability, \n",
    "# it turns out necessary to explicity make it hermitean\n",
    "# otherwise machine espilons will accumulate and break the hermicity\n",
    "la.make_hermitean(rho_lc)"
   ]
  },
  {
   "cell_type": "code",
   "execution_count": 21,
   "metadata": {},
   "outputs": [
    {
     "data": {
      "image/png": "[encoded data removed]",
      "text/plain": [
       "<Figure size 640x480 with 1 Axes>"
      ]
     },
     "metadata": {},
     "output_type": "display_data"
    }
   ],
   "source": [
    "# Check for revival by plotting rho_lc \n",
    "max_ = np.max(np.abs(rho_lc))\n",
    "plt.imshow(abs(rho_lc), aspect='auto', cmap = 'seismic', vmin = - max_, vmax = max_)\n",
    "plt.show()"
   ]
  },
  {
   "cell_type": "code",
   "execution_count": 22,
   "metadata": {},
   "outputs": [],
   "source": [
    "pi, U_rel = la.find_largest_eigs(rho_lc)"
   ]
  },
  {
   "cell_type": "code",
   "execution_count": 38,
   "metadata": {},
   "outputs": [
    {
     "name": "stdout",
     "output_type": "stream",
     "text": [
      "20 site are compressed to 8 relevant modes\n"
     ]
    }
   ],
   "source": [
    "rel_tol = 10**(-6)\n",
    "g_metric = pi - rel_tol * pi[0]\n",
    "inside_lightcone = g_metric > 0\n",
    "pi_rel = pi[inside_lightcone]\n",
    "n_rel =  np.size(pi_rel)\n",
    "print(str(n_sites) + \" site are compressed to \" + str(n_rel) + \" relevant modes\")"
   ]
  },
  {
   "cell_type": "code",
   "execution_count": 37,
   "metadata": {},
   "outputs": [],
   "source": [
    "# Recompute couplings \n",
    "couplings = U_rel.T.conj() @ phi_lc"
   ]
  },
  {
   "cell_type": "code",
   "execution_count": 27,
   "metadata": {},
   "outputs": [],
   "source": [
    "# Solve non-stationary interaction-picture Schrodinger equation in the frame U_rel\n",
    "\n",
    "# define the Hamiltonian of the spin-boson model\n",
    "\n",
    "# number of boson chain modes\n",
    "num_chain_modes = n_sites\n",
    "\n",
    "# keep in the truncated Fock space only states in which \n",
    "# the bosonic chain has no more than max_num_quanta quanta\n",
    "max_num_quanta = 5\n",
    "\n",
    "# sparse matrices for the model\n",
    "m = models.spin_boson(num_chain_modes, max_num_quanta)\n",
    "\n",
    "# Hamitonian for the spin (qubit)\n",
    "# Rabi (level splitting)\n",
    "Omega = 2.0\n",
    "Hs = m.s_p @ m.s_m * Omega / 2\n",
    "\n",
    "# Coupling to the chain via raising / lowering Pauli matrices\n",
    "# coupling strength g\n",
    "g = 0.05\n",
    "\n",
    "def Hint(ti):\n",
    "    V = g * m.s_m @ sum(couplings[:, ti] * m.a_dag)\n",
    "    V_dag = V.T.conj()\n",
    "    return V + V_dag\n",
    "\n",
    "# The qubit is periodically driven\n",
    "def drive(t):\n",
    "    return(0.1*np.cos(t)) * m.s_x\n",
    "\n",
    "# The Hamiltonian for the driven spin-boson model\n",
    "def Hsb_driven(ti):\n",
    "    return Hs + drive((ti + 0.5)*dt) + Hint(ti)"
   ]
  },
  {
   "cell_type": "code",
   "execution_count": 28,
   "metadata": {},
   "outputs": [],
   "source": [
    "# The non-stationary Schrodinger equation is solved on a time grid\n",
    "# [0    dt    2*dt    ...    k*dt  ... ]\n",
    "# The time grid points are numbered by integer ti\n",
    "# [0    1     2       ....   k     ... ]\n",
    "# The time-dependent Hamiltonian is invoked by the solver with ti argument,\n",
    "# and the corresponding time moment is (ti + 0.5)*dt\n",
    "# Here 0.5*dt is due to the midpoint integration rule\n",
    "\n",
    "# Initialize Hamiltonian at the beginning of a new time step\n",
    "Hti = None\n",
    "def begin_step(ti, psi):\n",
    "    global Hti\n",
    "    Hti = Hsb_driven(ti)\n",
    "\n",
    "# Callback function which applies Hamiltonian to the wavefunction at each time grid point ti\n",
    "def apply_h(ti, psi_in, psi_out):\n",
    "    la.mv(Hti, psi_in, psi_out, cout=1)\n",
    "    \n",
    "# initial condition:\n",
    "# vacuum state for bosonic chain,\n",
    "# and ground state for spin (qubit)\n",
    "psi_0 = np.zeros(m.dimension, dtype = complex)\n",
    "psi_0[0] = 1.0 \n",
    "    \n",
    "# Here the current wavefunction is stored\n",
    "psi = np.zeros(m.dimension, dtype = complex)\n",
    "    \n",
    "# Solve the non-stationary Schrodinger equation\n",
    "solve(0, nt-1, dt, apply_h, psi_0, begin_step = begin_step, psi = psi)"
   ]
  },
  {
   "cell_type": "code",
   "execution_count": 33,
   "metadata": {},
   "outputs": [],
   "source": [
    "# In order to compute fidelity, the wavefunction should be properly normalized\n",
    "psi_full = np.copy(psi) / np.sqrt(np.vdot(psi, psi))"
   ]
  },
  {
   "cell_type": "code",
   "execution_count": 43,
   "metadata": {},
   "outputs": [],
   "source": [
    "# Now repeat the same calculation keeping only first n_modes relevant modes\n",
    "\n",
    "def only_first_modes(n_modes):\n",
    "    def Hint(ti):\n",
    "        V = g * m.s_m @ sum(couplings[: n_modes, ti] * m.a_dag[: n_modes])\n",
    "        V_dag = V.T.conj()\n",
    "        return V + V_dag\n",
    "    def Hsb_driven(ti):\n",
    "        return Hs + drive((ti + 0.5)*dt) + Hint(ti)\n",
    "    only_first_modes.Hti = None\n",
    "    def begin_step(ti, psi):\n",
    "        only_first_modes.Hti = Hsb_driven(ti)\n",
    "    def apply_h(ti, psi_in, psi_out):\n",
    "        la.mv(only_first_modes.Hti, psi_in, psi_out, cout=1)\n",
    "    psi = np.zeros(m.dimension, dtype = complex)\n",
    "    solve(0, nt-1, dt, apply_h, psi_0, begin_step = begin_step, psi = psi)\n",
    "    return psi"
   ]
  },
  {
   "cell_type": "code",
   "execution_count": 47,
   "metadata": {},
   "outputs": [],
   "source": [
    "psi_rst = []\n",
    "\n",
    "for i in range(1, n_rel):\n",
    "    psi_ = only_first_modes(i)\n",
    "    psi_ = np.copy(psi_) / np.sqrt(np.vdot(psi_, psi_))\n",
    "    psi_rst.append(psi_)"
   ]
  },
  {
   "cell_type": "code",
   "execution_count": 48,
   "metadata": {},
   "outputs": [
    {
     "data": {
      "text/plain": [
       "[0.0009831775760319461,\n",
       " 0.0008130383811892905,\n",
       " 0.00043526159455664626,\n",
       " 6.024324719255958e-05,\n",
       " 2.6259159044972336e-06,\n",
       " 1.3267628662383402e-07,\n",
       " 5.429258931322067e-09]"
      ]
     },
     "execution_count": 48,
     "metadata": {},
     "output_type": "execute_result"
    }
   ],
   "source": [
    "# infidelities\n",
    "I = []\n",
    "for psi_ in psi_rst:\n",
    "    I_ = 1 - np.abs(np.vdot(psi_, psi_full))\n",
    "    I.append(I_)\n",
    "I"
   ]
  },
  {
   "cell_type": "code",
   "execution_count": 51,
   "metadata": {},
   "outputs": [
    {
     "data": {
      "image/png": "[encoded data removed]",
      "text/plain": [
       "<Figure size 640x480 with 1 Axes>"
      ]
     },
     "metadata": {},
     "output_type": "display_data"
    }
   ],
   "source": [
    "# Let us plot the convergence of wavefunction with respect to number of kept relevant modes:\n",
    "plt.plot(np.array(range(1, n_rel)), np.array(I))\n",
    "plt.yscale('log')\n",
    "plt.xlabel(r\"$m\\left(T\\right)$\")\n",
    "plt.ylabel(r\"$I_{m\\left(T\\right)}$\")\n",
    "plt.savefig('I_rel.eps', format='eps')"
   ]
  }
 ],
 "metadata": {
  "kernelspec": {
   "display_name": "base",
   "language": "python",
   "name": "python3"
  },
  "language_info": {
   "codemirror_mode": {
    "name": "ipython",
    "version": 3
   },
   "file_extension": ".py",
   "mimetype": "text/x-python",
   "name": "python",
   "nbconvert_exporter": "python",
   "pygments_lexer": "ipython3",
   "version": "3.11.5"
  }
 },
 "nbformat": 4,
 "nbformat_minor": 2
}
