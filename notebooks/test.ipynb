{
 "cells": [
  {
   "cell_type": "code",
   "execution_count": 3,
   "metadata": {},
   "outputs": [],
   "source": [
    "from scipy.stats import unitary_group\n",
    "import lightcones.linalg as ll\n",
    "import numpy as np"
   ]
  },
  {
   "cell_type": "code",
   "execution_count": 4,
   "metadata": {},
   "outputs": [
    {
     "ename": "NameError",
     "evalue": "name 'll' is not defined",
     "output_type": "error",
     "traceback": [
      "\u001b[31m---------------------------------------------------------------------------\u001b[39m",
      "\u001b[31mNameError\u001b[39m                                 Traceback (most recent call last)",
      "\u001b[36mCell\u001b[39m\u001b[36m \u001b[39m\u001b[32mIn[4]\u001b[39m\u001b[32m, line 9\u001b[39m\n\u001b[32m      7\u001b[39m \u001b[38;5;66;03m# density matrix\u001b[39;00m\n\u001b[32m      8\u001b[39m rho = U @ np.diag(pi) @ U.T.conj()\n\u001b[32m----> \u001b[39m\u001b[32m9\u001b[39m rho = \u001b[43mll\u001b[49m.make_hermitean(rho)\n",
      "\u001b[31mNameError\u001b[39m: name 'll' is not defined"
     ]
    }
   ],
   "source": [
    "# probabilities\n",
    "pi = [0.5, 0.3, 0.2]\n",
    "\n",
    "# random basis\n",
    "U = unitary_group.rvs(3)\n",
    "\n",
    "# density matrix\n",
    "rho = U @ np.diag(pi) @ U.T.conj()\n",
    "rho = ll.make_hermitean(rho)"
   ]
  },
  {
   "cell_type": "code",
   "execution_count": 41,
   "metadata": {},
   "outputs": [],
   "source": [
    "rho"
   ]
  },
  {
   "cell_type": "code",
   "execution_count": 30,
   "metadata": {},
   "outputs": [],
   "source": [
    "import lightcones.linalg as ll"
   ]
  },
  {
   "cell_type": "code",
   "execution_count": 31,
   "metadata": {},
   "outputs": [
    {
     "ename": "ValueError",
     "evalue": "object arrays are not supported",
     "output_type": "error",
     "traceback": [
      "\u001b[31m---------------------------------------------------------------------------\u001b[39m",
      "\u001b[31mValueError\u001b[39m                                Traceback (most recent call last)",
      "\u001b[36mCell\u001b[39m\u001b[36m \u001b[39m\u001b[32mIn[31]\u001b[39m\u001b[32m, line 1\u001b[39m\n\u001b[32m----> \u001b[39m\u001b[32m1\u001b[39m pi_, psi = \u001b[43mll\u001b[49m\u001b[43m.\u001b[49m\u001b[43mfind_eigs_descending\u001b[49m\u001b[43m(\u001b[49m\u001b[43mrho\u001b[49m\u001b[43m)\u001b[49m\n",
      "\u001b[36mFile \u001b[39m\u001b[32m~/condmat/lightcones_2025/lightcones/venv/lib/python3.11/site-packages/lightcones/linalg/__init__.py:110\u001b[39m, in \u001b[36mfind_eigs_descending\u001b[39m\u001b[34m(m)\u001b[39m\n\u001b[32m    109\u001b[39m \u001b[38;5;28;01mdef\u001b[39;00m\u001b[38;5;250m \u001b[39m\u001b[34mfind_eigs_descending\u001b[39m(m):\n\u001b[32m--> \u001b[39m\u001b[32m110\u001b[39m     e, v = \u001b[43meigh\u001b[49m\u001b[43m(\u001b[49m\u001b[43mm\u001b[49m\u001b[43m)\u001b[49m\n\u001b[32m    111\u001b[39m     e = np.flip(e)\n\u001b[32m    112\u001b[39m     v = np.flip(v, axis = \u001b[32m1\u001b[39m)\n",
      "\u001b[36mFile \u001b[39m\u001b[32m~/condmat/lightcones_2025/lightcones/venv/lib/python3.11/site-packages/scipy/linalg/_decomp.py:458\u001b[39m, in \u001b[36meigh\u001b[39m\u001b[34m(a, b, lower, eigvals_only, overwrite_a, overwrite_b, type, check_finite, subset_by_index, subset_by_value, driver)\u001b[39m\n\u001b[32m    454\u001b[39m \u001b[38;5;28;01mif\u001b[39;00m driver \u001b[38;5;129;01mnot\u001b[39;00m \u001b[38;5;129;01min\u001b[39;00m drv_str:\n\u001b[32m    455\u001b[39m     \u001b[38;5;28;01mraise\u001b[39;00m \u001b[38;5;167;01mValueError\u001b[39;00m(\u001b[33m'\u001b[39m\u001b[33m\"\u001b[39m\u001b[38;5;132;01m{}\u001b[39;00m\u001b[33m\"\u001b[39m\u001b[33m is unknown. Possible values are \u001b[39m\u001b[33m\"\u001b[39m\u001b[33mNone\u001b[39m\u001b[33m\"\u001b[39m\u001b[33m, \u001b[39m\u001b[33m\"\u001b[39m\u001b[38;5;132;01m{}\u001b[39;00m\u001b[33m\"\u001b[39m\u001b[33m.\u001b[39m\u001b[33m'\u001b[39m\n\u001b[32m    456\u001b[39m                      \u001b[33m'\u001b[39m\u001b[33m'\u001b[39m.format(driver, \u001b[33m'\u001b[39m\u001b[33m\"\u001b[39m\u001b[33m, \u001b[39m\u001b[33m\"\u001b[39m\u001b[33m'\u001b[39m.join(drv_str[\u001b[32m1\u001b[39m:])))\n\u001b[32m--> \u001b[39m\u001b[32m458\u001b[39m a1 = \u001b[43m_asarray_validated\u001b[49m\u001b[43m(\u001b[49m\u001b[43ma\u001b[49m\u001b[43m,\u001b[49m\u001b[43m \u001b[49m\u001b[43mcheck_finite\u001b[49m\u001b[43m=\u001b[49m\u001b[43mcheck_finite\u001b[49m\u001b[43m)\u001b[49m\n\u001b[32m    459\u001b[39m \u001b[38;5;28;01mif\u001b[39;00m \u001b[38;5;28mlen\u001b[39m(a1.shape) != \u001b[32m2\u001b[39m \u001b[38;5;129;01mor\u001b[39;00m a1.shape[\u001b[32m0\u001b[39m] != a1.shape[\u001b[32m1\u001b[39m]:\n\u001b[32m    460\u001b[39m     \u001b[38;5;28;01mraise\u001b[39;00m \u001b[38;5;167;01mValueError\u001b[39;00m(\u001b[33m'\u001b[39m\u001b[33mexpected square \u001b[39m\u001b[33m\"\u001b[39m\u001b[33ma\u001b[39m\u001b[33m\"\u001b[39m\u001b[33m matrix\u001b[39m\u001b[33m'\u001b[39m)\n",
      "\u001b[36mFile \u001b[39m\u001b[32m~/condmat/lightcones_2025/lightcones/venv/lib/python3.11/site-packages/scipy/_lib/_util.py:540\u001b[39m, in \u001b[36m_asarray_validated\u001b[39m\u001b[34m(a, check_finite, sparse_ok, objects_ok, mask_ok, as_inexact)\u001b[39m\n\u001b[32m    538\u001b[39m \u001b[38;5;28;01mif\u001b[39;00m \u001b[38;5;129;01mnot\u001b[39;00m objects_ok:\n\u001b[32m    539\u001b[39m     \u001b[38;5;28;01mif\u001b[39;00m a.dtype \u001b[38;5;129;01mis\u001b[39;00m np.dtype(\u001b[33m'\u001b[39m\u001b[33mO\u001b[39m\u001b[33m'\u001b[39m):\n\u001b[32m--> \u001b[39m\u001b[32m540\u001b[39m         \u001b[38;5;28;01mraise\u001b[39;00m \u001b[38;5;167;01mValueError\u001b[39;00m(\u001b[33m'\u001b[39m\u001b[33mobject arrays are not supported\u001b[39m\u001b[33m'\u001b[39m)\n\u001b[32m    541\u001b[39m \u001b[38;5;28;01mif\u001b[39;00m as_inexact:\n\u001b[32m    542\u001b[39m     \u001b[38;5;28;01mif\u001b[39;00m \u001b[38;5;129;01mnot\u001b[39;00m np.issubdtype(a.dtype, np.inexact):\n",
      "\u001b[31mValueError\u001b[39m: object arrays are not supported"
     ]
    }
   ],
   "source": [
    "pi_, psi = ll.find_eigs_descending(rho)"
   ]
  },
  {
   "cell_type": "code",
   "execution_count": 20,
   "metadata": {},
   "outputs": [
    {
     "data": {
      "text/plain": [
       "array([0.5, 0.3, 0.2])"
      ]
     },
     "execution_count": 20,
     "metadata": {},
     "output_type": "execute_result"
    }
   ],
   "source": [
    "pi_"
   ]
  },
  {
   "cell_type": "code",
   "execution_count": 21,
   "metadata": {},
   "outputs": [
    {
     "data": {
      "text/plain": [
       "array([[-0.71320984+0.11490498j, -0.34817187+0.15597422j,\n",
       "        -0.0532893 +0.57422749j],\n",
       "       [ 0.60167581-0.33182055j, -0.20313573+0.23033763j,\n",
       "         0.14770212+0.64167428j],\n",
       "       [-0.07203499-0.02865077j,  0.81037348+0.3215955j ,\n",
       "        -0.39146063+0.28393631j]])"
      ]
     },
     "execution_count": 21,
     "metadata": {},
     "output_type": "execute_result"
    }
   ],
   "source": [
    "U"
   ]
  },
  {
   "cell_type": "code",
   "execution_count": 22,
   "metadata": {},
   "outputs": [
    {
     "data": {
      "text/plain": [
       "array([[ 0.7224067 +0.j        ,  0.38151226+0.j        ,\n",
       "        -0.57669486-0.j        ],\n",
       "       [-0.64679487+0.23189449j,  0.27955295-0.12716012j,\n",
       "        -0.62528053+0.20636388j],\n",
       "       [ 0.06656077+0.03974381j, -0.6080765 -0.62479742j,\n",
       "        -0.31889429-0.36354873j]])"
      ]
     },
     "execution_count": 22,
     "metadata": {},
     "output_type": "execute_result"
    }
   ],
   "source": [
    "psi"
   ]
  },
  {
   "cell_type": "code",
   "execution_count": 24,
   "metadata": {},
   "outputs": [
    {
     "data": {
      "text/plain": [
       "array([[-0.61732774-0.18863984j,  0.5226007 -0.25765732j,\n",
       "        -0.12040822-0.47887843j],\n",
       "       [ 0.27197681-0.52188301j, -0.512122  -0.31805149j,\n",
       "        -0.27391333-0.46391004j],\n",
       "       [ 0.48288219-0.06174949j,  0.52896299+0.13142934j,\n",
       "        -0.67802463+0.07885984j]])"
      ]
     },
     "execution_count": 24,
     "metadata": {},
     "output_type": "execute_result"
    }
   ],
   "source": [
    "U @ psi.T.conj()"
   ]
  },
  {
   "cell_type": "code",
   "execution_count": 28,
   "metadata": {},
   "outputs": [
    {
     "data": {
      "text/plain": [
       "np.float64(3.9472488203928496e-16)"
      ]
     },
     "execution_count": 28,
     "metadata": {},
     "output_type": "execute_result"
    }
   ],
   "source": [
    "np.max(np.abs(U @ U.T.conj() - np.eye(3))[:])"
   ]
  }
 ],
 "metadata": {
  "kernelspec": {
   "display_name": "venv",
   "language": "python",
   "name": "python3"
  },
  "language_info": {
   "codemirror_mode": {
    "name": "ipython",
    "version": 3
   },
   "file_extension": ".py",
   "mimetype": "text/x-python",
   "name": "python",
   "nbconvert_exporter": "python",
   "pygments_lexer": "ipython3",
   "version": "3.11.5"
  }
 },
 "nbformat": 4,
 "nbformat_minor": 2
}
