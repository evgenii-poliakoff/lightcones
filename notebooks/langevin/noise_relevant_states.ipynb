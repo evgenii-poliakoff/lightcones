{
 "cells": [
  {
   "cell_type": "code",
   "execution_count": 1,
   "metadata": {},
   "outputs": [],
   "source": [
    "import numpy as np\n",
    "import math\n",
    "import matplotlib.pyplot as plt\n",
    "import lightcones.linalg as la"
   ]
  },
  {
   "cell_type": "code",
   "execution_count": 2,
   "metadata": {},
   "outputs": [],
   "source": [
    "epsilon = 0.1\n",
    "t_max = 100\n",
    "t = np.linspace(0, t_max, num=10000)\n",
    "n_t = len(t)\n",
    "\n",
    "corr_the = np.zeros((n_t, n_t))\n",
    "\n",
    "for p in range(n_t):\n",
    "    for q in range(n_t):\n",
    "        tau = t[p] - t[q]\n",
    "        corr_the[p, q] = (epsilon**2 - tau**2) / (epsilon**2 + tau**2)**2"
   ]
  },
  {
   "cell_type": "code",
   "execution_count": 3,
   "metadata": {},
   "outputs": [],
   "source": [
    "rtol = 1e-5"
   ]
  },
  {
   "cell_type": "code",
   "execution_count": 4,
   "metadata": {},
   "outputs": [],
   "source": [
    "pi, U_rel = la.find_largest_eigs(corr_the)\n",
    "g_metric = pi - rtol * pi[0]\n",
    "inside_lightcone = g_metric > 0\n",
    "n_rel =  sum(inside_lightcone)"
   ]
  },
  {
   "cell_type": "code",
   "execution_count": 5,
   "metadata": {},
   "outputs": [
    {
     "data": {
      "text/plain": [
       "np.int64(4852)"
      ]
     },
     "execution_count": 5,
     "metadata": {},
     "output_type": "execute_result"
    }
   ],
   "source": [
    "n_rel"
   ]
  },
  {
   "cell_type": "markdown",
   "metadata": {},
   "source": [
    "Now find the most relevant with respect to the memory:"
   ]
  },
  {
   "cell_type": "code",
   "execution_count": null,
   "metadata": {},
   "outputs": [],
   "source": [
    "# add t_sim_max\n",
    "M = np.zeros(n_t) \n",
    "\n",
    "for i in range(n_t):\n",
    "    M[i] = epsilon / (epsilon**2 + (t[i] - t[0])**2) * dt"
   ]
  }
 ],
 "metadata": {
  "kernelspec": {
   "display_name": "venv",
   "language": "python",
   "name": "python3"
  },
  "language_info": {
   "codemirror_mode": {
    "name": "ipython",
    "version": 3
   },
   "file_extension": ".py",
   "mimetype": "text/x-python",
   "name": "python",
   "nbconvert_exporter": "python",
   "pygments_lexer": "ipython3",
   "version": "3.11.11"
  }
 },
 "nbformat": 4,
 "nbformat_minor": 2
}
