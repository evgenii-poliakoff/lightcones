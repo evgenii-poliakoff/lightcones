{
 "cells": [
  {
   "cell_type": "code",
   "execution_count": 1,
   "metadata": {},
   "outputs": [],
   "source": [
    "import os\n",
    "os.environ['MKL_NUM_THREADS'] = '1'\n",
    "os.environ['OPENBLAS_NUM_THREADS'] = '1'"
   ]
  },
  {
   "cell_type": "code",
   "execution_count": 2,
   "metadata": {},
   "outputs": [],
   "source": [
    "# Import the required packages\n",
    "\n",
    "import numpy as np\n",
    "import matplotlib.pyplot as plt\n",
    "import lightcones.linalg as ll\n",
    "import lightcones.models as lm\n",
    "import lightcones.jumps as lj\n",
    "import lightcones.space as ls\n",
    "from scipy.linalg import expm\n",
    "import math"
   ]
  },
  {
   "cell_type": "code",
   "execution_count": 3,
   "metadata": {},
   "outputs": [],
   "source": [
    "def compute_S_for_k(k):\n",
    "    # chaotic system is quantum top\n",
    "    j = 20\n",
    "    top = lm.top(j)\n",
    "    # ancilla is also quantum top of the same j\n",
    "    aux = top\n",
    "\n",
    "    # initial states\n",
    "    psi_0 = top.vac()\n",
    "    psi_aux_0 = aux.state_with(j_z=0)\n",
    "    \n",
    "    tau = 1\n",
    "    p = 1.7\n",
    "    Hy = p / tau * top.j_y\n",
    "    Hz = k / 2 / top.j * (top.j_z - 0.1 * top.eye()) @ (top.j_z - 0.1 * top.eye())\n",
    "    Hy_ = Hy.todense()\n",
    "    Hz_ = Hz.todense()\n",
    "    Uy = expm(-1j*Hy_)\n",
    "    # kick acts as identity on ancilla\n",
    "    Uz = ll.kron(expm(-1j*Hz_), aux.eye())\n",
    "\n",
    "    # we will consider a bipartite of top \\otimes ancilla\n",
    "    bp = ls.bipartite(top.dimension, aux.dimension)\n",
    "    \n",
    "    # interaction with the ancilla\n",
    "    g = 0.005\n",
    "    Hint = g * ll.kron(top.j_y, aux.j_y)\n",
    "    Hint_ = Hint.todense()\n",
    "    Uint = expm(-1j*Hint_)\n",
    "\n",
    "    # iterate evolutions\n",
    "    n = 1000\n",
    "    n_skip = 50\n",
    "    psi = psi_0\n",
    "    ln_P = 0\n",
    "    for i in range(n + n_skip):\n",
    "        # 1 kick period free evolution\n",
    "        psi = Uy @ psi\n",
    "        # entangle with the ancilla\n",
    "        psi_bp = bp.kron(psi, psi_aux_0)\n",
    "        psi_bp = Uint @ psi_bp\n",
    "        # apply kick\n",
    "        psi_bp = Uz @ psi_bp\n",
    "        # trace out ancilla\n",
    "        rho_top = bp.trace_out_R(psi_bp)\n",
    "        # sample quantum jump\n",
    "        jump_ind, jump_basis, jump_P = lj.make_jump_(rho_top)\n",
    "        # update state\n",
    "        psi = jump_basis[:, jump_ind]\n",
    "        # update ln_P\n",
    "        if i >= n_skip:\n",
    "            ln_P += -math.log(jump_P[jump_ind])\n",
    "    return ln_P / n"
   ]
  },
  {
   "cell_type": "code",
   "execution_count": 4,
   "metadata": {},
   "outputs": [],
   "source": [
    "from joblib import Parallel, delayed\n",
    "\n",
    "k_grid = np.arange(0,7,0.3)\n",
    "S = Parallel(n_jobs=-1)(\n",
    "    delayed(compute_S_for_k)(k) \n",
    "    for k in k_grid\n",
    ")"
   ]
  },
  {
   "cell_type": "code",
   "execution_count": 5,
   "metadata": {},
   "outputs": [
    {
     "data": {
      "text/plain": [
       "[<matplotlib.lines.Line2D at 0x7f17d5b75050>]"
      ]
     },
     "execution_count": 5,
     "metadata": {},
     "output_type": "execute_result"
    },
    {
     "data": {
      "image/png": "[encoded data removed]",
      "text/plain": [
       "<Figure size 640x480 with 1 Axes>"
      ]
     },
     "metadata": {},
     "output_type": "display_data"
    }
   ],
   "source": [
    "plt.plot(np.arange(0,7,0.3), np.array(S))"
   ]
  }
 ],
 "metadata": {
  "kernelspec": {
   "display_name": "venv",
   "language": "python",
   "name": "python3"
  },
  "language_info": {
   "codemirror_mode": {
    "name": "ipython",
    "version": 3
   },
   "file_extension": ".py",
   "mimetype": "text/x-python",
   "name": "python",
   "nbconvert_exporter": "python",
   "pygments_lexer": "ipython3",
   "version": "3.11.11"
  }
 },
 "nbformat": 4,
 "nbformat_minor": 2
}
